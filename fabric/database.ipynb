{
 "cells": [
  {
   "cell_type": "code",
   "execution_count": 28,
   "metadata": {},
   "outputs": [],
   "source": [
    "import requests\n",
    "from requests.adapters import HTTPAdapter, Retry\n",
    "from azure.identity import ClientSecretCredential\n",
    "import json\n",
    "import os\n",
    "from dotenv import load_dotenv\n",
    "import yaml\n",
    "load_dotenv()\n",
    "\n",
    "tenant_id = os.getenv('tenant_id')\n",
    "client_id = os.getenv('client_id')\n",
    "client_secret = os.getenv('client_secret')\n",
    "scope= 'offline_access https://analysis.windows.net/powerbi/api/.default'"
   ]
  },
  {
   "cell_type": "code",
   "execution_count": 29,
   "metadata": {},
   "outputs": [],
   "source": [
    "redirect_uri = 'http://localhost/myapp/'\n",
    "response_type = 'code'\n",
    "response_mode = 'query'\n",
    "# scope = ['https://api.fabric.microsoft.com/OneLake.ReadWrite.All']\n",
    "state = '12345'\n",
    "\n",
    "# Construct the URL\n",
    "url = f'https://login.microsoftonline.com/{tenant_id}/oauth2/v2.0/authorize'\n",
    "\n",
    "# Create the query parameters\n",
    "params = {\n",
    "    'client_id': client_id,\n",
    "    'response_type': response_type,\n",
    "    'redirect_uri': redirect_uri,\n",
    "    'response_mode': response_mode,\n",
    "    'scope': scope,\n",
    "    'state': state\n",
    "}\n",
    "\n",
    "# Make the GET request\n",
    "response = requests.get(url, params=params)"
   ]
  },
  {
   "cell_type": "code",
   "execution_count": 30,
   "metadata": {},
   "outputs": [
    {
     "name": "stdout",
     "output_type": "stream",
     "text": [
      "https://login.microsoftonline.com/5cd64994-64c0-4c59-bca6-801527b1a508/oauth2/v2.0/authorize?client_id=80c581f3-02d7-4bbf-b371-8a61b80740ba&response_type=code&redirect_uri=http%3A%2F%2Flocalhost%2Fmyapp%2F&response_mode=query&scope=offline_access+https%3A%2F%2Fanalysis.windows.net%2Fpowerbi%2Fapi%2F.default&state=12345\n"
     ]
    }
   ],
   "source": [
    "print(response.url)"
   ]
  },
  {
   "cell_type": "code",
   "execution_count": 31,
   "metadata": {},
   "outputs": [],
   "source": [
    "code = '0.AcYAlEnWXMBkWUy8poAVJ7GlCPOBxYDXAr9Ls3GKYbgHQLrGAK0.AgABBAIAAADW6jl31mB3T7ugrWTT8pFeAwDs_wUA9P9_-MxiTqZ8q2GppY5X1XH7OTCJtt30pNqbZwV0FaBDvxJoiC__aI85Bf5_Qgev-CSDNhkMuA8td79EZB2cl2OL4s1ljjetrXg2TLArJMIzLkPTrQOe160BERMM65M4zJ6Br9N1SjUBuuELopq5OVQ1fPK2fvb-5klfDbTpvzTxe_I2QUFSLAoEHNnc_Ysru17Usg7MsJDbRFdenTTL39h7l53sw8mOZGena3ypcNfuK4zTKbuWjbufUKf0A6DrNAf1riRXoDYy81QtuGZNVm1zbA521dk7jHQiU5CerCLQAHlaRG44MdIkIHQugDyiWLgxKdyUni_Sc5h5tLPtZD6STjRVqFIUXibp0FXdkdACUJNzzNyQvucEcFESfXex4rlveAaIpiK7GUdXSVMgm9GhfafGLc9ct5vBMu1UzszZ_mDx5BVB2Dj08Qg6zyC60J4zxTOd_pYRXXpDqPJZqVrc0iLWYRUis0uji5By-RC3ia7NreKZ7k2wWIB3x9_cPWe1HDgy4SDiTcynI9rFmC7MMMlE0tCeQ6PVKMR4mtuBW7mDnEe6RIdmKdnAkJOAd-rvCs55f806YSDcNTqaIe8COmxvQ1Lms25yFg9oAWp47CMqIcI1gsLkXkzG7z9F7USldbdPqm8iiRbX17hVIflMFSbv0R-5siIYiHIoqjDut5oPXImft_ak8sToBS5f1j--k718hPCcQek0OfrjpshOObcLPA'"
   ]
  },
  {
   "cell_type": "code",
   "execution_count": 32,
   "metadata": {},
   "outputs": [],
   "source": [
    "url = f'https://login.microsoftonline.com/{tenant_id}/oauth2/v2.0/token'\n",
    "\n",
    "# Prepare the data for the request\n",
    "data = {\n",
    "    'client_id': client_id,\n",
    "    'scope': scope,\n",
    "    'code': code,\n",
    "    'redirect_uri': 'http://localhost/myapp/',\n",
    "    'grant_type': 'authorization_code',\n",
    "    'client_secret': client_secret  # Only required for web apps\n",
    "}\n",
    "\n",
    "# Make the POST request\n",
    "response = requests.post(url, data=data)\n",
    "\n",
    "token_info = response.json()"
   ]
  },
  {
   "cell_type": "code",
   "execution_count": 33,
   "metadata": {},
   "outputs": [
    {
     "data": {
      "text/plain": [
       "{'token_type': 'Bearer',\n",
       " 'scope': 'https://analysis.windows.net/powerbi/api/OneLake.ReadWrite.All https://analysis.windows.net/powerbi/api/SQLEndpoint.Execute.All https://analysis.windows.net/powerbi/api/SQLEndpoint.Read.All https://analysis.windows.net/powerbi/api/SQLEndpoint.ReadWrite.All https://analysis.windows.net/powerbi/api/SQLEndpoint.Reshare.All https://analysis.windows.net/powerbi/api/Warehouse.Execute.All https://analysis.windows.net/powerbi/api/Warehouse.ExternalDataShare.All https://analysis.windows.net/powerbi/api/Warehouse.Read.All https://analysis.windows.net/powerbi/api/Warehouse.ReadWrite.All https://analysis.windows.net/powerbi/api/Warehouse.Reshare.All https://analysis.windows.net/powerbi/api/.default',\n",
       " 'expires_in': 3676,\n",
       " 'ext_expires_in': 3676,\n",
       " 'access_token': 'eyJ0eXAiOiJKV1QiLCJhbGciOiJSUzI1NiIsIng1dCI6IjNQYUs0RWZ5Qk5RdTNDdGpZc2EzWW1oUTVFMCIsImtpZCI6IjNQYUs0RWZ5Qk5RdTNDdGpZc2EzWW1oUTVFMCJ9.eyJhdWQiOiJodHRwczovL2FuYWx5c2lzLndpbmRvd3MubmV0L3Bvd2VyYmkvYXBpIiwiaXNzIjoiaHR0cHM6Ly9zdHMud2luZG93cy5uZXQvNWNkNjQ5OTQtNjRjMC00YzU5LWJjYTYtODAxNTI3YjFhNTA4LyIsImlhdCI6MTcyOTg1MDYwNSwibmJmIjoxNzI5ODUwNjA1LCJleHAiOjE3Mjk4NTQ1ODIsImFjY3QiOjAsImFjciI6IjEiLCJhaW8iOiJBVlFBcS84WUFBQUEvZ0JTM1NMVDk3MjNSeVE4dWlPWDRIaUlqTnNPanE5bHlaZGpZNkZuRnpFZjJpMnlhYmh0dEowRm5PYlppU0Y3S0ZXOVdVanEzTUx0Vk5DaFNRSktmWXN0Y0ZWQ3JsUE9GZ0lQUTJJT1V1Zz0iLCJhbXIiOlsicHdkIiwibWZhIl0sImFwcGlkIjoiODBjNTgxZjMtMDJkNy00YmJmLWIzNzEtOGE2MWI4MDc0MGJhIiwiYXBwaWRhY3IiOiIxIiwiZmFtaWx5X25hbWUiOiJMRSIsImdpdmVuX25hbWUiOiJUWSIsImlkdHlwIjoidXNlciIsImlwYWRkciI6IjExMy4xNjEuMzkuMTQzIiwibmFtZSI6IlRZIExFIiwib2lkIjoiZGM4ZTQyMGYtYjA0Ni00YWEzLWE3NWMtY2IyYjQ5NjViYjNjIiwicHVpZCI6IjEwMDMyMDAzQjJFNzhGRDIiLCJyaCI6IjAuQWNZQWxFbldYTUJrV1V5OHBvQVZKN0dsQ0FrQUFBQUFBQUFBd0FBQUFBQUFBQURHQUswLiIsInNjcCI6Ik9uZUxha2UuUmVhZFdyaXRlLkFsbCBTUUxFbmRwb2ludC5FeGVjdXRlLkFsbCBTUUxFbmRwb2ludC5SZWFkLkFsbCBTUUxFbmRwb2ludC5SZWFkV3JpdGUuQWxsIFNRTEVuZHBvaW50LlJlc2hhcmUuQWxsIFdhcmVob3VzZS5FeGVjdXRlLkFsbCBXYXJlaG91c2UuRXh0ZXJuYWxEYXRhU2hhcmUuQWxsIFdhcmVob3VzZS5SZWFkLkFsbCBXYXJlaG91c2UuUmVhZFdyaXRlLkFsbCBXYXJlaG91c2UuUmVzaGFyZS5BbGwiLCJzaWduaW5fc3RhdGUiOlsia21zaSJdLCJzdWIiOiJTTWdFV0RhMlozNW5uMkNNWTdqRGNUVWRYZ1hYc0w1cmJyMUJWUEVNbjBnIiwidGlkIjoiNWNkNjQ5OTQtNjRjMC00YzU5LWJjYTYtODAxNTI3YjFhNTA4IiwidW5pcXVlX25hbWUiOiJ0eS5sZUBkYXRhdmVyc2UuY29tLnZuIiwidXBuIjoidHkubGVAZGF0YXZlcnNlLmNvbS52biIsInV0aSI6IjREVEw0dEVkd1VXT2lCZGo3QktiQUEiLCJ2ZXIiOiIxLjAiLCJ3aWRzIjpbIjYyZTkwMzk0LTY5ZjUtNDIzNy05MTkwLTAxMjE3NzE0NWUxMCIsImI3OWZiZjRkLTNlZjktNDY4OS04MTQzLTc2YjE5NGU4NTUwOSJdLCJ4bXNfaWRyZWwiOiIxIDI2IiwieG1zX3BsIjoiZW4ifQ.c6KTyk9rv06J4h-WiA9ArxP5yJLw4-AkBQaWqye5mu8HRSzZt_J2Zt2nluUTeqB5EeyEzm-oIZxSTlN8sh9t7OnI5LPV4CSUos8T1jceeT_tYhG-UlkedCevnJrP_ISKO-41IYm6VxUhDNS5aKio5YFl62Fhrg5Xdf1aLo2kyvhtu1XKRqsEW-zCA11AFrmVFoeP8_aumq2IX7xG536WV3o0YKV4vahauEtLnB-aB3ehWI58SfBbdNybMlSa5cuwywpextlZnRxa5bdr15-OnhJN55dSjj8UqOEApYLXMceDowzyKz5Q8dpyehK3tIrBg_4NMksgGYDQJo-1tRDBjg',\n",
       " 'refresh_token': '0.AcYAlEnWXMBkWUy8poAVJ7GlCPOBxYDXAr9Ls3GKYbgHQLrGAK0.AgABAwEAAADW6jl31mB3T7ugrWTT8pFeAwDs_wUA9P8qLp-mjxc1jx1Iesq8rd3j-qSy8qqargPGyrHhncyaTj7C4ARMU9yZ7w7DqJQl2-9MOyN31llLxZ0QzVC-DiRCQPNYcUKblwt2USKs13HhfZ4Nn5iBnOcRu7T291FDYStDx_bD2ND3UZCVuMJzKWukXCq7gT2QbmIiXRB44CSKkw4bVQkCc8TJQGtcaPBnifq_DbH-PpvArqCvu_UHiE0jBPEnXUs1J7gHoWG9-GZcZ3YZmmOJ1szPrtp3zyo-R5uDdm4pK4z6wR0oeuH83tjxb0KLVlDSs_UQ4zJjvc9CgO6qWt2xTdx2Xb0bJVI2Wj-aEcoDyspgtp4OHcPEIqUPENZKP6OAtUPxBS_B6-YLpRMNRFQyEbocc7uZTxOaYTHsGnbdZaHyddYT2L3I1tplMcQIwtkpdqdafbUQqzRaw8G71y1d6a85AeLxFu-YmvEcHXVC-d7wpTF71s_8IWe5TPwJ81xSkQhCeli8YyFosDfoOM1nwVl1KkNVc-2wE25cDAzivXsYp5F1hE5cEHcdWP80oPXMdf3DpT382U0mkZbCgKk0VVbd7_0cK06rE1BzgOe28WtOn3ao93wdO6t4t8gbKOIlB-zWZIKKXs0braW2RHvCaJxw9F483JECXTS0KmL8Bhip9WOx2YmisgG4Ji5Fjye01Y0RI4Kms4lAl4jchpcvWRQIlgblqjHI5iQisY-e5OsxQ3eJ_k0kzEVHEJjQF5UhzpeK-gUU8EnMZpgmzy77-Pnr02Gmk79J2QRu4O4_xEAVx-l3wRjBQ7w'}"
      ]
     },
     "execution_count": 33,
     "metadata": {},
     "output_type": "execute_result"
    }
   ],
   "source": [
    "token_info['access_token']"
   ]
  },
  {
   "cell_type": "code",
   "execution_count": 17,
   "metadata": {},
   "outputs": [],
   "source": [
    "import struct\n",
    "from itertools import chain, repeat\n",
    "\n",
    "import pyodbc"
   ]
  },
  {
   "cell_type": "code",
   "execution_count": 18,
   "metadata": {},
   "outputs": [],
   "source": [
    "sql_endpoint = \"sre5mxgamrmuzpfgqakspmnfba-qof5ppqwvtoevjs2ev6jxgnd6y.datawarehouse.fabric.microsoft.com\" # copy and paste the SQL endpoint from any of the Lakehouses or Warehouses in your Fabric Workspace\n",
    "database = \"lake1\" # copy and paste the name of the Lakehouse or Warehouse you want to connect to\n",
    "\n",
    "connection_string = f\"Driver={{ODBC Driver 17 for SQL Server}};Server={sql_endpoint},1433;Database=f{database};Encrypt=Yes;TrustServerCertificate=No\"\n",
    "\n",
    "token_as_bytes = bytes(token_info['access_token'], \"UTF-8\") # Convert the token to a UTF-8 byte string\n",
    "encoded_bytes = bytes(chain.from_iterable(zip(token_as_bytes, repeat(0)))) # Encode the bytes to a Windows byte string\n",
    "token_bytes = struct.pack(\"<i\", len(encoded_bytes)) + encoded_bytes # Package the token into a bytes object\n",
    "attrs_before = {1256: token_bytes} "
   ]
  },
  {
   "cell_type": "code",
   "execution_count": 21,
   "metadata": {},
   "outputs": [
    {
     "data": {
      "text/plain": [
       "b'e\\x00y\\x00J\\x000\\x00e\\x00X\\x00A\\x00i\\x00O\\x00i\\x00J\\x00K\\x00V\\x001\\x00Q\\x00i\\x00L\\x00C\\x00J\\x00h\\x00b\\x00G\\x00c\\x00i\\x00O\\x00i\\x00J\\x00S\\x00U\\x00z\\x00I\\x001\\x00N\\x00i\\x00I\\x00s\\x00I\\x00n\\x00g\\x001\\x00d\\x00C\\x00I\\x006\\x00I\\x00j\\x00N\\x00Q\\x00Y\\x00U\\x00s\\x000\\x00R\\x00W\\x00Z\\x005\\x00Q\\x00k\\x005\\x00R\\x00d\\x00T\\x00N\\x00D\\x00d\\x00G\\x00p\\x00Z\\x00c\\x002\\x00E\\x00z\\x00W\\x00W\\x001\\x00o\\x00U\\x00T\\x00V\\x00F\\x00M\\x00C\\x00I\\x00s\\x00I\\x00m\\x00t\\x00p\\x00Z\\x00C\\x00I\\x006\\x00I\\x00j\\x00N\\x00Q\\x00Y\\x00U\\x00s\\x000\\x00R\\x00W\\x00Z\\x005\\x00Q\\x00k\\x005\\x00R\\x00d\\x00T\\x00N\\x00D\\x00d\\x00G\\x00p\\x00Z\\x00c\\x002\\x00E\\x00z\\x00W\\x00W\\x001\\x00o\\x00U\\x00T\\x00V\\x00F\\x00M\\x00C\\x00J\\x009\\x00.\\x00e\\x00y\\x00J\\x00h\\x00d\\x00W\\x00Q\\x00i\\x00O\\x00i\\x00J\\x00o\\x00d\\x00H\\x00R\\x00w\\x00c\\x00z\\x00o\\x00v\\x00L\\x002\\x00F\\x00u\\x00Y\\x00W\\x00x\\x005\\x00c\\x002\\x00l\\x00z\\x00L\\x00n\\x00d\\x00p\\x00b\\x00m\\x00R\\x00v\\x00d\\x003\\x00M\\x00u\\x00b\\x00m\\x00V\\x000\\x00L\\x003\\x00B\\x00v\\x00d\\x002\\x00V\\x00y\\x00Y\\x00m\\x00k\\x00v\\x00Y\\x00X\\x00B\\x00p\\x00I\\x00i\\x00w\\x00i\\x00a\\x00X\\x00N\\x00z\\x00I\\x00j\\x00o\\x00i\\x00a\\x00H\\x00R\\x000\\x00c\\x00H\\x00M\\x006\\x00L\\x00y\\x009\\x00z\\x00d\\x00H\\x00M\\x00u\\x00d\\x002\\x00l\\x00u\\x00Z\\x00G\\x009\\x003\\x00c\\x00y\\x005\\x00u\\x00Z\\x00X\\x00Q\\x00v\\x00N\\x00W\\x00N\\x00k\\x00N\\x00j\\x00Q\\x005\\x00O\\x00T\\x00Q\\x00t\\x00N\\x00j\\x00R\\x00j\\x00M\\x00C\\x000\\x000\\x00Y\\x00z\\x00U\\x005\\x00L\\x00W\\x00J\\x00j\\x00Y\\x00T\\x00Y\\x00t\\x00O\\x00D\\x00A\\x00x\\x00N\\x00T\\x00I\\x003\\x00Y\\x00j\\x00F\\x00h\\x00N\\x00T\\x00A\\x004\\x00L\\x00y\\x00I\\x00s\\x00I\\x00m\\x00l\\x00h\\x00d\\x00C\\x00I\\x006\\x00M\\x00T\\x00c\\x00y\\x00O\\x00T\\x00g\\x000\\x00N\\x00D\\x00M\\x00w\\x00O\\x00C\\x00w\\x00i\\x00b\\x00m\\x00J\\x00m\\x00I\\x00j\\x00o\\x00x\\x00N\\x00z\\x00I\\x005\\x00O\\x00D\\x00Q\\x000\\x00M\\x00z\\x00A\\x004\\x00L\\x00C\\x00J\\x00l\\x00e\\x00H\\x00A\\x00i\\x00O\\x00j\\x00E\\x003\\x00M\\x00j\\x00k\\x004\\x00N\\x00D\\x00k\\x002\\x00N\\x00z\\x00E\\x00s\\x00I\\x00m\\x00F\\x00j\\x00Y\\x003\\x00Q\\x00i\\x00O\\x00j\\x00A\\x00s\\x00I\\x00m\\x00F\\x00j\\x00c\\x00i\\x00I\\x006\\x00I\\x00j\\x00E\\x00i\\x00L\\x00C\\x00J\\x00h\\x00a\\x00W\\x008\\x00i\\x00O\\x00i\\x00J\\x00B\\x00V\\x00l\\x00F\\x00B\\x00c\\x00S\\x008\\x004\\x00W\\x00U\\x00F\\x00B\\x00Q\\x00U\\x00F\\x00W\\x00Z\\x00l\\x00F\\x00R\\x00V\\x000\\x00l\\x00R\\x00e\\x00W\\x00t\\x002\\x00M\\x00W\\x001\\x005\\x00Q\\x00n\\x00R\\x002\\x00Z\\x00V\\x00p\\x00j\\x00V\\x00E\\x00E\\x00r\\x00V\\x00z\\x00d\\x00V\\x00Z\\x003\\x00g\\x000\\x00Q\\x00m\\x00c\\x00w\\x00W\\x00j\\x00F\\x00R\\x00V\\x00W\\x00k\\x005\\x00M\\x002\\x008\\x000\\x00Y\\x00V\\x00Z\\x005\\x00T\\x00G\\x00V\\x00m\\x00c\\x00E\\x009\\x00H\\x00a\\x00T\\x00c\\x00r\\x00b\\x00T\\x00Z\\x00W\\x00d\\x00V\\x00o\\x00y\\x00W\\x00n\\x00l\\x00Y\\x00U\\x00D\\x00V\\x00U\\x00b\\x00m\\x00N\\x00z\\x00N\\x00X\\x00p\\x00Y\\x00W\\x00H\\x00I\\x004\\x00Y\\x00m\\x001\\x00N\\x00a\\x00l\\x00Q\\x00w\\x00L\\x002\\x00t\\x00r\\x00b\\x00k\\x00V\\x00k\\x00b\\x003\\x00J\\x00L\\x00S\\x002\\x00J\\x00m\\x00b\\x00E\\x00d\\x00h\\x00b\\x002\\x00t\\x006\\x00b\\x00n\\x00p\\x00O\\x00b\\x00V\\x00Y\\x001\\x00Z\\x00U\\x004\\x002\\x00b\\x00z\\x000\\x00i\\x00L\\x00C\\x00J\\x00h\\x00b\\x00X\\x00I\\x00i\\x00O\\x00l\\x00s\\x00i\\x00c\\x00H\\x00d\\x00k\\x00I\\x00i\\x00w\\x00i\\x00b\\x00W\\x00Z\\x00h\\x00I\\x00l\\x000\\x00s\\x00I\\x00m\\x00F\\x00w\\x00c\\x00G\\x00l\\x00k\\x00I\\x00j\\x00o\\x00i\\x00O\\x00D\\x00B\\x00j\\x00N\\x00T\\x00g\\x00x\\x00Z\\x00j\\x00M\\x00t\\x00M\\x00D\\x00J\\x00k\\x00N\\x00y\\x000\\x000\\x00Y\\x00m\\x00J\\x00m\\x00L\\x00W\\x00I\\x00z\\x00N\\x00z\\x00E\\x00t\\x00O\\x00G\\x00E\\x002\\x00M\\x00W\\x00I\\x004\\x00M\\x00D\\x00c\\x000\\x00M\\x00G\\x00J\\x00h\\x00I\\x00i\\x00w\\x00i\\x00Y\\x00X\\x00B\\x00w\\x00a\\x00W\\x00R\\x00h\\x00Y\\x003\\x00I\\x00i\\x00O\\x00i\\x00I\\x00x\\x00I\\x00i\\x00w\\x00i\\x00Z\\x00m\\x00F\\x00t\\x00a\\x00W\\x00x\\x005\\x00X\\x002\\x005\\x00h\\x00b\\x00W\\x00U\\x00i\\x00O\\x00i\\x00J\\x00M\\x00R\\x00S\\x00I\\x00s\\x00I\\x00m\\x00d\\x00p\\x00d\\x00m\\x00V\\x00u\\x00X\\x002\\x005\\x00h\\x00b\\x00W\\x00U\\x00i\\x00O\\x00i\\x00J\\x00U\\x00W\\x00S\\x00I\\x00s\\x00I\\x00m\\x00l\\x00k\\x00d\\x00H\\x00l\\x00w\\x00I\\x00j\\x00o\\x00i\\x00d\\x00X\\x00N\\x00l\\x00c\\x00i\\x00I\\x00s\\x00I\\x00m\\x00l\\x00w\\x00Y\\x00W\\x00R\\x00k\\x00c\\x00i\\x00I\\x006\\x00I\\x00j\\x00E\\x00x\\x00M\\x00y\\x004\\x00x\\x00N\\x00j\\x00E\\x00u\\x00M\\x00z\\x00k\\x00u\\x00M\\x00T\\x00Q\\x00z\\x00I\\x00i\\x00w\\x00i\\x00b\\x00m\\x00F\\x00t\\x00Z\\x00S\\x00I\\x006\\x00I\\x00l\\x00R\\x00Z\\x00I\\x00E\\x00x\\x00F\\x00I\\x00i\\x00w\\x00i\\x00b\\x002\\x00l\\x00k\\x00I\\x00j\\x00o\\x00i\\x00Z\\x00G\\x00M\\x004\\x00Z\\x00T\\x00Q\\x00y\\x00M\\x00G\\x00Y\\x00t\\x00Y\\x00j\\x00A\\x000\\x00N\\x00i\\x000\\x000\\x00Y\\x00W\\x00E\\x00z\\x00L\\x00W\\x00E\\x003\\x00N\\x00W\\x00M\\x00t\\x00Y\\x002\\x00I\\x00y\\x00Y\\x00j\\x00Q\\x005\\x00N\\x00j\\x00V\\x00i\\x00Y\\x00j\\x00N\\x00j\\x00I\\x00i\\x00w\\x00i\\x00c\\x00H\\x00V\\x00p\\x00Z\\x00C\\x00I\\x006\\x00I\\x00j\\x00E\\x00w\\x00M\\x00D\\x00M\\x00y\\x00M\\x00D\\x00A\\x00z\\x00Q\\x00j\\x00J\\x00F\\x00N\\x00z\\x00h\\x00G\\x00R\\x00D\\x00I\\x00i\\x00L\\x00C\\x00J\\x00y\\x00a\\x00C\\x00I\\x006\\x00I\\x00j\\x00A\\x00u\\x00Q\\x00W\\x00N\\x00Z\\x00Q\\x00W\\x00x\\x00F\\x00b\\x00l\\x00d\\x00Y\\x00T\\x00U\\x00J\\x00r\\x00V\\x001\\x00V\\x005\\x00O\\x00H\\x00B\\x00v\\x00Q\\x00V\\x00Z\\x00K\\x00N\\x000\\x00d\\x00s\\x00Q\\x000\\x00F\\x00r\\x00Q\\x00U\\x00F\\x00B\\x00Q\\x00U\\x00F\\x00B\\x00Q\\x00U\\x00F\\x00B\\x00d\\x000\\x00F\\x00B\\x00Q\\x00U\\x00F\\x00B\\x00Q\\x00U\\x00F\\x00B\\x00Q\\x00U\\x00R\\x00H\\x00Q\\x00U\\x00s\\x00w\\x00L\\x00i\\x00I\\x00s\\x00I\\x00n\\x00N\\x00j\\x00c\\x00C\\x00I\\x006\\x00I\\x00k\\x009\\x00u\\x00Z\\x00U\\x00x\\x00h\\x00a\\x002\\x00U\\x00u\\x00U\\x00m\\x00V\\x00h\\x00Z\\x00F\\x00d\\x00y\\x00a\\x00X\\x00R\\x00l\\x00L\\x00k\\x00F\\x00s\\x00b\\x00C\\x00B\\x00T\\x00U\\x00U\\x00x\\x00F\\x00b\\x00m\\x00R\\x00w\\x00b\\x002\\x00l\\x00u\\x00d\\x00C\\x005\\x00F\\x00e\\x00G\\x00V\\x00j\\x00d\\x00X\\x00R\\x00l\\x00L\\x00k\\x00F\\x00s\\x00b\\x00C\\x00B\\x00T\\x00U\\x00U\\x00x\\x00F\\x00b\\x00m\\x00R\\x00w\\x00b\\x002\\x00l\\x00u\\x00d\\x00C\\x005\\x00S\\x00Z\\x00W\\x00F\\x00k\\x00L\\x00k\\x00F\\x00s\\x00b\\x00C\\x00B\\x00T\\x00U\\x00U\\x00x\\x00F\\x00b\\x00m\\x00R\\x00w\\x00b\\x002\\x00l\\x00u\\x00d\\x00C\\x005\\x00S\\x00Z\\x00W\\x00F\\x00k\\x00V\\x003\\x00J\\x00p\\x00d\\x00G\\x00U\\x00u\\x00Q\\x00W\\x00x\\x00s\\x00I\\x00F\\x00N\\x00R\\x00T\\x00E\\x00V\\x00u\\x00Z\\x00H\\x00B\\x00v\\x00a\\x00W\\x005\\x000\\x00L\\x00l\\x00J\\x00l\\x00c\\x002\\x00h\\x00h\\x00c\\x00m\\x00U\\x00u\\x00Q\\x00W\\x00x\\x00s\\x00I\\x00F\\x00d\\x00h\\x00c\\x00m\\x00V\\x00o\\x00b\\x003\\x00V\\x00z\\x00Z\\x00S\\x005\\x00F\\x00e\\x00G\\x00V\\x00j\\x00d\\x00X\\x00R\\x00l\\x00L\\x00k\\x00F\\x00s\\x00b\\x00C\\x00B\\x00X\\x00Y\\x00X\\x00J\\x00l\\x00a\\x00G\\x009\\x001\\x00c\\x002\\x00U\\x00u\\x00R\\x00X\\x00h\\x000\\x00Z\\x00X\\x00J\\x00u\\x00Y\\x00W\\x00x\\x00E\\x00Y\\x00X\\x00R\\x00h\\x00U\\x002\\x00h\\x00h\\x00c\\x00m\\x00U\\x00u\\x00Q\\x00W\\x00x\\x00s\\x00I\\x00F\\x00d\\x00h\\x00c\\x00m\\x00V\\x00o\\x00b\\x003\\x00V\\x00z\\x00Z\\x00S\\x005\\x00S\\x00Z\\x00W\\x00F\\x00k\\x00L\\x00k\\x00F\\x00s\\x00b\\x00C\\x00B\\x00X\\x00Y\\x00X\\x00J\\x00l\\x00a\\x00G\\x009\\x001\\x00c\\x002\\x00U\\x00u\\x00U\\x00m\\x00V\\x00h\\x00Z\\x00F\\x00d\\x00y\\x00a\\x00X\\x00R\\x00l\\x00L\\x00k\\x00F\\x00s\\x00b\\x00C\\x00B\\x00X\\x00Y\\x00X\\x00J\\x00l\\x00a\\x00G\\x009\\x001\\x00c\\x002\\x00U\\x00u\\x00U\\x00m\\x00V\\x00z\\x00a\\x00G\\x00F\\x00y\\x00Z\\x00S\\x005\\x00B\\x00b\\x00G\\x00w\\x00i\\x00L\\x00C\\x00J\\x00z\\x00a\\x00W\\x00d\\x00u\\x00a\\x00W\\x005\\x00f\\x00c\\x003\\x00R\\x00h\\x00d\\x00G\\x00U\\x00i\\x00O\\x00l\\x00s\\x00i\\x00a\\x002\\x001\\x00z\\x00a\\x00S\\x00J\\x00d\\x00L\\x00C\\x00J\\x00z\\x00d\\x00W\\x00I\\x00i\\x00O\\x00i\\x00J\\x00T\\x00T\\x00W\\x00d\\x00F\\x00V\\x000\\x00R\\x00h\\x00M\\x00l\\x00o\\x00z\\x00N\\x00W\\x005\\x00u\\x00M\\x00k\\x00N\\x00N\\x00W\\x00T\\x00d\\x00q\\x00R\\x00G\\x00N\\x00U\\x00V\\x00W\\x00R\\x00Y\\x00Z\\x001\\x00h\\x00Y\\x00c\\x000\\x00w\\x001\\x00c\\x00m\\x00J\\x00y\\x00M\\x00U\\x00J\\x00W\\x00U\\x00E\\x00V\\x00N\\x00b\\x00j\\x00B\\x00n\\x00I\\x00i\\x00w\\x00i\\x00d\\x00G\\x00l\\x00k\\x00I\\x00j\\x00o\\x00i\\x00N\\x00W\\x00N\\x00k\\x00N\\x00j\\x00Q\\x005\\x00O\\x00T\\x00Q\\x00t\\x00N\\x00j\\x00R\\x00j\\x00M\\x00C\\x000\\x000\\x00Y\\x00z\\x00U\\x005\\x00L\\x00W\\x00J\\x00j\\x00Y\\x00T\\x00Y\\x00t\\x00O\\x00D\\x00A\\x00x\\x00N\\x00T\\x00I\\x003\\x00Y\\x00j\\x00F\\x00h\\x00N\\x00T\\x00A\\x004\\x00I\\x00i\\x00w\\x00i\\x00d\\x00W\\x005\\x00p\\x00c\\x00X\\x00V\\x00l\\x00X\\x002\\x005\\x00h\\x00b\\x00W\\x00U\\x00i\\x00O\\x00i\\x00J\\x000\\x00e\\x00S\\x005\\x00s\\x00Z\\x00U\\x00B\\x00k\\x00Y\\x00X\\x00R\\x00h\\x00d\\x00m\\x00V\\x00y\\x00c\\x002\\x00U\\x00u\\x00Y\\x002\\x009\\x00t\\x00L\\x00n\\x00Z\\x00u\\x00I\\x00i\\x00w\\x00i\\x00d\\x00X\\x00B\\x00u\\x00I\\x00j\\x00o\\x00i\\x00d\\x00H\\x00k\\x00u\\x00b\\x00G\\x00V\\x00A\\x00Z\\x00G\\x00F\\x000\\x00Y\\x00X\\x00Z\\x00l\\x00c\\x00n\\x00N\\x00l\\x00L\\x00m\\x00N\\x00v\\x00b\\x00S\\x005\\x002\\x00b\\x00i\\x00I\\x00s\\x00I\\x00n\\x00V\\x000\\x00a\\x00S\\x00I\\x006\\x00I\\x00k\\x00s\\x005\\x00U\\x00E\\x00F\\x00v\\x00Y\\x00U\\x00V\\x00r\\x00O\\x00T\\x00A\\x00t\\x00Z\\x001\\x00B\\x00t\\x00V\\x00F\\x00g\\x004\\x00T\\x00F\\x00c\\x00z\\x00Q\\x00U\\x00E\\x00i\\x00L\\x00C\\x00J\\x002\\x00Z\\x00X\\x00I\\x00i\\x00O\\x00i\\x00I\\x00x\\x00L\\x00j\\x00A\\x00i\\x00L\\x00C\\x00J\\x003\\x00a\\x00W\\x00R\\x00z\\x00I\\x00j\\x00p\\x00b\\x00I\\x00j\\x00Y\\x00y\\x00Z\\x00T\\x00k\\x00w\\x00M\\x00z\\x00k\\x000\\x00L\\x00T\\x00Y\\x005\\x00Z\\x00j\\x00U\\x00t\\x00N\\x00D\\x00I\\x00z\\x00N\\x00y\\x000\\x005\\x00M\\x00T\\x00k\\x00w\\x00L\\x00T\\x00A\\x00x\\x00M\\x00j\\x00E\\x003\\x00N\\x00z\\x00E\\x000\\x00N\\x00W\\x00U\\x00x\\x00M\\x00C\\x00I\\x00s\\x00I\\x00m\\x00I\\x003\\x00O\\x00W\\x00Z\\x00i\\x00Z\\x00j\\x00R\\x00k\\x00L\\x00T\\x00N\\x00l\\x00Z\\x00j\\x00k\\x00t\\x00N\\x00D\\x00Y\\x004\\x00O\\x00S\\x000\\x004\\x00M\\x00T\\x00Q\\x00z\\x00L\\x00T\\x00c\\x002\\x00Y\\x00j\\x00E\\x005\\x00N\\x00G\\x00U\\x004\\x00N\\x00T\\x00U\\x00w\\x00O\\x00S\\x00J\\x00d\\x00L\\x00C\\x00J\\x004\\x00b\\x00X\\x00N\\x00f\\x00a\\x00W\\x00R\\x00y\\x00Z\\x00W\\x00w\\x00i\\x00O\\x00i\\x00I\\x00x\\x00I\\x00D\\x00E\\x000\\x00I\\x00i\\x00w\\x00i\\x00e\\x00G\\x001\\x00z\\x00X\\x003\\x00B\\x00s\\x00I\\x00j\\x00o\\x00i\\x00Z\\x00W\\x004\\x00i\\x00f\\x00Q\\x00.\\x00T\\x00x\\x00b\\x00Y\\x003\\x004\\x00O\\x00k\\x00-\\x00W\\x00z\\x00d\\x00j\\x00A\\x00z\\x00x\\x00r\\x007\\x00i\\x00N\\x00f\\x00m\\x00I\\x00p\\x00a\\x00y\\x00s\\x00D\\x00F\\x00I\\x00d\\x00R\\x00_\\x00N\\x00X\\x00L\\x00m\\x006\\x000\\x00x\\x00t\\x00-\\x00_\\x00B\\x00B\\x00g\\x00b\\x00C\\x00V\\x00T\\x00u\\x00U\\x00C\\x006\\x00_\\x00S\\x00Q\\x00u\\x00x\\x00u\\x00O\\x00P\\x00b\\x00t\\x008\\x00V\\x00F\\x00w\\x000\\x00G\\x00S\\x00V\\x00P\\x00h\\x00o\\x00k\\x00K\\x00m\\x00x\\x00v\\x00I\\x00J\\x00J\\x00W\\x00p\\x001\\x00G\\x00s\\x00x\\x006\\x00z\\x00x\\x00D\\x00X\\x00i\\x00r\\x006\\x00a\\x00K\\x00p\\x00M\\x00U\\x003\\x007\\x00A\\x00n\\x00A\\x006\\x00d\\x00O\\x00U\\x00R\\x00f\\x00R\\x00L\\x00O\\x00M\\x00o\\x000\\x00H\\x00K\\x00A\\x00z\\x00V\\x00m\\x00p\\x00I\\x00s\\x00l\\x00m\\x00r\\x002\\x00H\\x002\\x001\\x008\\x00c\\x00S\\x007\\x00n\\x00S\\x00m\\x00I\\x00f\\x001\\x008\\x001\\x00A\\x00W\\x00Q\\x00r\\x00b\\x00E\\x00P\\x00A\\x00R\\x00u\\x00u\\x00a\\x00E\\x00L\\x00f\\x00s\\x00q\\x00J\\x00V\\x00K\\x007\\x00W\\x00q\\x00a\\x00g\\x003\\x001\\x001\\x00s\\x00n\\x000\\x00b\\x00O\\x00Y\\x003\\x00l\\x00X\\x00_\\x00d\\x00G\\x001\\x00t\\x005\\x00t\\x00N\\x00G\\x00H\\x00Q\\x00G\\x00V\\x00y\\x00e\\x00Z\\x00z\\x00v\\x00l\\x00e\\x00t\\x000\\x00R\\x00r\\x00y\\x008\\x00c\\x00-\\x00u\\x00l\\x00Q\\x001\\x00P\\x004\\x006\\x00A\\x00k\\x002\\x002\\x00z\\x00C\\x00Q\\x00P\\x00Q\\x002\\x00S\\x00k\\x006\\x00L\\x00J\\x00D\\x001\\x00w\\x00Q\\x00T\\x00D\\x00I\\x00H\\x00l\\x00u\\x00b\\x00G\\x004\\x00g\\x00c\\x00B\\x00j\\x00m\\x00v\\x00-\\x00p\\x00C\\x00j\\x00S\\x00q\\x00B\\x00Z\\x00J\\x00w\\x00i\\x00y\\x00N\\x00s\\x00U\\x003\\x00O\\x00G\\x009\\x00V\\x00q\\x00m\\x00O\\x00a\\x00w\\x00k\\x00t\\x00S\\x00U\\x00o\\x00L\\x00C\\x00v\\x00U\\x003\\x00B\\x00o\\x00Q\\x005\\x00l\\x002\\x00Y\\x00S\\x00-\\x00b\\x00_\\x00P\\x00k\\x00T\\x00Q\\x00Q\\x00M\\x00r\\x00d\\x002\\x00A\\x00h\\x00T\\x00_\\x005\\x00t\\x00k\\x004\\x00L\\x00U\\x00e\\x00q\\x00o\\x00s\\x00f\\x00a\\x00u\\x00g\\x006\\x00w\\x00x\\x00e\\x00c\\x00j\\x00B\\x00h\\x004\\x00L\\x003\\x00R\\x00U\\x00W\\x003\\x00Q\\x00'"
      ]
     },
     "execution_count": 21,
     "metadata": {},
     "output_type": "execute_result"
    }
   ],
   "source": [
    "encoded_bytes"
   ]
  },
  {
   "cell_type": "code",
   "execution_count": 23,
   "metadata": {},
   "outputs": [
    {
     "ename": "InterfaceError",
     "evalue": "('28000', '[28000] [Microsoft][ODBC Driver 17 for SQL Server][SQL Server]Could not login because the authentication failed. (18456) (SQLDriverConnect); [28000] [Microsoft][ODBC Driver 17 for SQL Server][SQL Server]Could not login because the authentication failed. (18456)')",
     "output_type": "error",
     "traceback": [
      "\u001b[1;31m---------------------------------------------------------------------------\u001b[0m",
      "\u001b[1;31mInterfaceError\u001b[0m                            Traceback (most recent call last)",
      "Cell \u001b[1;32mIn[23], line 22\u001b[0m\n\u001b[0;32m     12\u001b[0m conn_str \u001b[38;5;241m=\u001b[39m (\n\u001b[0;32m     13\u001b[0m     \u001b[38;5;124mf\u001b[39m\u001b[38;5;124m\"\u001b[39m\u001b[38;5;124mDRIVER=\u001b[39m\u001b[38;5;130;01m{{\u001b[39;00m\u001b[38;5;124mODBC Driver 17 for SQL Server\u001b[39m\u001b[38;5;130;01m}}\u001b[39;00m\u001b[38;5;124m;\u001b[39m\u001b[38;5;124m\"\u001b[39m\n\u001b[0;32m     14\u001b[0m     \u001b[38;5;124mf\u001b[39m\u001b[38;5;124m\"\u001b[39m\u001b[38;5;124mSERVER=\u001b[39m\u001b[38;5;132;01m{\u001b[39;00mserver_name\u001b[38;5;132;01m}\u001b[39;00m\u001b[38;5;124m;\u001b[39m\u001b[38;5;124m\"\u001b[39m\n\u001b[1;32m   (...)\u001b[0m\n\u001b[0;32m     18\u001b[0m     \u001b[38;5;124mf\u001b[39m\u001b[38;5;124m\"\u001b[39m\u001b[38;5;124mAuthentication=ActiveDirectoryServicePrincipal\u001b[39m\u001b[38;5;124m\"\u001b[39m\n\u001b[0;32m     19\u001b[0m )\n\u001b[0;32m     21\u001b[0m \u001b[38;5;66;03m# Establish the connection\u001b[39;00m\n\u001b[1;32m---> 22\u001b[0m conn \u001b[38;5;241m=\u001b[39m \u001b[43mpyodbc\u001b[49m\u001b[38;5;241;43m.\u001b[39;49m\u001b[43mconnect\u001b[49m\u001b[43m(\u001b[49m\u001b[43mconn_str\u001b[49m\u001b[43m)\u001b[49m\n\u001b[0;32m     24\u001b[0m \u001b[38;5;66;03m# Execute a query\u001b[39;00m\n\u001b[0;32m     25\u001b[0m cursor \u001b[38;5;241m=\u001b[39m conn\u001b[38;5;241m.\u001b[39mcursor()\n",
      "\u001b[1;31mInterfaceError\u001b[0m: ('28000', '[28000] [Microsoft][ODBC Driver 17 for SQL Server][SQL Server]Could not login because the authentication failed. (18456) (SQLDriverConnect); [28000] [Microsoft][ODBC Driver 17 for SQL Server][SQL Server]Could not login because the authentication failed. (18456)')"
     ]
    }
   ],
   "source": [
    "import pyodbc\n",
    "\n",
    "service_principal_id = f\"{client_id}@{tenant_id}\" # important to include your @fully qualified domain or tenant_id\n",
    "service_principal_secret = client_secret\n",
    "\n",
    "# Define your SQL Server details\n",
    "server_name = \"sre5mxgamrmuzpfgqakspmnfba-qof5ppqwvtoevjs2ev6jxgnd6y.datawarehouse.fabric.microsoft.com\"\n",
    "database_name = \"lake1\"\n",
    "queryStr = 'SELECT * from dbo.test2'    \n",
    "\n",
    "# Define the SQL Server ODBC connection string\n",
    "conn_str = (\n",
    "    f\"DRIVER={{ODBC Driver 17 for SQL Server}};\"\n",
    "    f\"SERVER={server_name};\"\n",
    "    f\"DATABASE={database_name};\"\n",
    "    f\"UID={service_principal_id};\"\n",
    "    f\"PWD={service_principal_secret};\"\n",
    "    f\"Authentication=ActiveDirectoryServicePrincipal\"\n",
    ")\n",
    "\n",
    "# Establish the connection\n",
    "conn = pyodbc.connect(conn_str)\n",
    "\n",
    "# Execute a query\n",
    "cursor = conn.cursor()\n",
    "cursor.execute(queryStr)\n",
    "resultList = cursor.fetchall()\n",
    "# resultColumns = columns = [column[0] for column in cursor.description]\n",
    "# print(str([dict(zip(columns, row)) for row in resultList]))"
   ]
  },
  {
   "cell_type": "code",
   "execution_count": 24,
   "metadata": {},
   "outputs": [
    {
     "name": "stdout",
     "output_type": "stream",
     "text": [
      "Collecting SQLAlchemy\n",
      "  Downloading SQLAlchemy-2.0.36-cp310-cp310-win_amd64.whl (2.1 MB)\n",
      "     ---------------------------------------- 0.0/2.1 MB ? eta -:--:--\n",
      "     ---------------------------------------- 0.0/2.1 MB ? eta -:--:--\n",
      "     ---------------------------------------- 0.0/2.1 MB 217.9 kB/s eta 0:00:10\n",
      "     ---------------------------------------- 0.0/2.1 MB 217.9 kB/s eta 0:00:10\n",
      "      --------------------------------------- 0.0/2.1 MB 245.8 kB/s eta 0:00:09\n",
      "     - -------------------------------------- 0.1/2.1 MB 297.7 kB/s eta 0:00:07\n",
      "     -- ------------------------------------- 0.1/2.1 MB 516.7 kB/s eta 0:00:04\n",
      "     ----- ---------------------------------- 0.3/2.1 MB 1.0 MB/s eta 0:00:02\n",
      "     -------- ------------------------------- 0.5/2.1 MB 1.3 MB/s eta 0:00:02\n",
      "     --------------- ------------------------ 0.8/2.1 MB 2.2 MB/s eta 0:00:01\n",
      "     -------------------------- ------------- 1.4/2.1 MB 3.2 MB/s eta 0:00:01\n",
      "     ---------------------------------------- 2.1/2.1 MB 4.6 MB/s eta 0:00:00\n",
      "Requirement already satisfied: typing-extensions>=4.6.0 in c:\\users\\vanty\\downloads\\odoo\\.venv\\lib\\site-packages (from SQLAlchemy) (4.12.2)\n",
      "Collecting greenlet!=0.4.17\n",
      "  Downloading greenlet-3.1.1-cp310-cp310-win_amd64.whl (298 kB)\n",
      "     ---------------------------------------- 0.0/298.4 kB ? eta -:--:--\n",
      "     -------------------------------------- 298.4/298.4 kB 9.0 MB/s eta 0:00:00\n",
      "Installing collected packages: greenlet, SQLAlchemy\n",
      "Successfully installed SQLAlchemy-2.0.36 greenlet-3.1.1\n",
      "Note: you may need to restart the kernel to use updated packages.\n"
     ]
    },
    {
     "name": "stderr",
     "output_type": "stream",
     "text": [
      "\n",
      "[notice] A new release of pip is available: 23.0.1 -> 24.2\n",
      "[notice] To update, run: python.exe -m pip install --upgrade pip\n"
     ]
    }
   ],
   "source": [
    "pip install SQLAlchemy"
   ]
  },
  {
   "cell_type": "code",
   "execution_count": 16,
   "metadata": {},
   "outputs": [],
   "source": [
    "import sqlalchemy as sa\n",
    "from sqlalchemy import create_engine, MetaData, Table, select\n",
    "import struct\n",
    "from itertools import chain, repeat\n",
    "import pyodbc\n",
    "import urllib\n",
    "from azure.identity import ClientSecretCredential"
   ]
  },
  {
   "cell_type": "code",
   "execution_count": 17,
   "metadata": {},
   "outputs": [],
   "source": [
    "credential = ClientSecretCredential(tenant_id, client_id, client_secret)"
   ]
  },
  {
   "cell_type": "code",
   "execution_count": 20,
   "metadata": {},
   "outputs": [],
   "source": [
    "# This will remain as is\n",
    "resource_url = \"https://analysis.windows.net/powerbi/api/.default\"\n",
    "\n",
    "# Get the token\n",
    "token_object = credential.get_token(resource_url)"
   ]
  },
  {
   "cell_type": "code",
   "execution_count": 21,
   "metadata": {},
   "outputs": [],
   "source": [
    "sql_endpoint  = \"sre5mxgamrmuzpfgqakspmnfba-qof5ppqwvtoevjs2ev6jxgnd6y.datawarehouse.fabric.microsoft.com\"\n",
    "database  = \"lake1\"\n",
    "queryStr = 'SELECT * from dbo.test2'    "
   ]
  },
  {
   "cell_type": "code",
   "execution_count": 22,
   "metadata": {},
   "outputs": [],
   "source": [
    "connection_string = f\"Driver={{ODBC Driver 18 for SQL Server}};Server={sql_endpoint}\""
   ]
  },
  {
   "cell_type": "code",
   "execution_count": 24,
   "metadata": {},
   "outputs": [
    {
     "data": {
      "text/plain": [
       "'eyJ0eXAiOiJKV1QiLCJhbGciOiJSUzI1NiIsIng1dCI6IjNQYUs0RWZ5Qk5RdTNDdGpZc2EzWW1oUTVFMCIsImtpZCI6IjNQYUs0RWZ5Qk5RdTNDdGpZc2EzWW1oUTVFMCJ9.eyJhdWQiOiJodHRwczovL2FuYWx5c2lzLndpbmRvd3MubmV0L3Bvd2VyYmkvYXBpIiwiaXNzIjoiaHR0cHM6Ly9zdHMud2luZG93cy5uZXQvNWNkNjQ5OTQtNjRjMC00YzU5LWJjYTYtODAxNTI3YjFhNTA4LyIsImlhdCI6MTcyOTg1MDI2MSwibmJmIjoxNzI5ODUwMjYxLCJleHAiOjE3Mjk4NTQxNjEsImFpbyI6ImsyQmdZTGpxdVdQU204eStCWXRGVTVmNkNSdHZCQUE9IiwiYXBwaWQiOiI4MGM1ODFmMy0wMmQ3LTRiYmYtYjM3MS04YTYxYjgwNzQwYmEiLCJhcHBpZGFjciI6IjEiLCJpZHAiOiJodHRwczovL3N0cy53aW5kb3dzLm5ldC81Y2Q2NDk5NC02NGMwLTRjNTktYmNhNi04MDE1MjdiMWE1MDgvIiwiaWR0eXAiOiJhcHAiLCJvaWQiOiI0MDIwMTJkYS1mMTk1LTQ0MWItODBjMi01OGMwMWIwMDlkM2MiLCJyaCI6IjAuQWNZQWxFbldYTUJrV1V5OHBvQVZKN0dsQ0FrQUFBQUFBQUFBd0FBQUFBQUFBQURHQUFBLiIsInN1YiI6IjQwMjAxMmRhLWYxOTUtNDQxYi04MGMyLTU4YzAxYjAwOWQzYyIsInRpZCI6IjVjZDY0OTk0LTY0YzAtNGM1OS1iY2E2LTgwMTUyN2IxYTUwOCIsInV0aSI6ImNQRmpnS1Q0Q0VHOFdIdEdJLU9aQUEiLCJ2ZXIiOiIxLjAiLCJ4bXNfaWRyZWwiOiIyOCA3In0.UYD0Q027sdKWq2-8RyDX-H-E32juKc7aIGEiMvq0fa5Znjl26LXEtLv7NaT2Qnb-pF-nfF5VE1x57wOFnvJLV9WhM2vh18a6bkqivFfAT8Rxhn1-cLKkHRNCKWn3S7kTQIF2uYfZlNhVEoKuJSOWijAe-Xu7uhGkmP5ZqtlzRBVsAXGZxbud3w3NUpVt69fxieZ9EzGqA8NTw0kKkotQgJcWDG_355x1Kb6y1QWn1kV0e2sFbUGGJfgoLA8tMPljEz-EIEoMaV79OGgyuz87IEMZ9PF6NOj23IN8UfTR2iQLBe7CalUuNnoeOwTPty3vDAPyKjvjEOTeiQmhwUh0WQ'"
      ]
     },
     "execution_count": 24,
     "metadata": {},
     "output_type": "execute_result"
    }
   ],
   "source": [
    "token_object.token"
   ]
  },
  {
   "cell_type": "code",
   "execution_count": 37,
   "metadata": {},
   "outputs": [],
   "source": [
    "token = token_info['access_token'].encode(\"UTF-16-LE\")"
   ]
  },
  {
   "cell_type": "code",
   "execution_count": 38,
   "metadata": {},
   "outputs": [],
   "source": [
    "token_struct = struct.pack(f'<I{len(token)}s', len(token), token)\n",
    "SQL_COPT_SS_ACCESS_TOKEN = 1256\n",
    "engine = sa.create_engine(\"mssql+pyodbc://\", creator=lambda: pyodbc.connect(connection_string, attrs_before={SQL_COPT_SS_ACCESS_TOKEN: token_struct}))"
   ]
  },
  {
   "cell_type": "code",
   "execution_count": 38,
   "metadata": {},
   "outputs": [],
   "source": [
    "connection_string = f\"Driver={{ODBC Driver 18 for SQL Server}};Server={sql_endpoint},1433;Database=f{database};Encrypt=Yes;TrustServerCertificate=No\"\n",
    "params = urllib.parse.quote(connection_string)"
   ]
  },
  {
   "cell_type": "code",
   "execution_count": 32,
   "metadata": {},
   "outputs": [],
   "source": [
    "# Retrieve an access token valid to connect to SQL databases\n",
    "token_as_bytes = bytes(token_object.token, \"UTF-8\") # Convert the token to a UTF-8 byte string\n",
    "encoded_bytes = bytes(chain.from_iterable(zip(token_as_bytes, repeat(0)))) # Encode the bytes to a Windows byte string\n",
    "token_bytes = struct.pack(\"<i\", len(encoded_bytes)) + encoded_bytes # Package the token into a bytes object\n",
    "attrs_before = {1256: token_bytes}  # Attribute pointing to SQL_COPT_SS_ACCESS_TOKEN to pass access token to the driver"
   ]
  },
  {
   "cell_type": "code",
   "execution_count": 36,
   "metadata": {},
   "outputs": [
    {
     "ename": "NameError",
     "evalue": "name 'attrs_before' is not defined",
     "output_type": "error",
     "traceback": [
      "\u001b[1;31m---------------------------------------------------------------------------\u001b[0m",
      "\u001b[1;31mNameError\u001b[0m                                 Traceback (most recent call last)",
      "Cell \u001b[1;32mIn[36], line 2\u001b[0m\n\u001b[0;32m      1\u001b[0m \u001b[38;5;66;03m# build the connection\u001b[39;00m\n\u001b[1;32m----> 2\u001b[0m engine \u001b[38;5;241m=\u001b[39m sa\u001b[38;5;241m.\u001b[39mcreate_engine(\u001b[38;5;124m\"\u001b[39m\u001b[38;5;124mmssql+pyodbc:///?odbc_connect=\u001b[39m\u001b[38;5;132;01m{0}\u001b[39;00m\u001b[38;5;124m\"\u001b[39m\u001b[38;5;241m.\u001b[39mformat(params), connect_args\u001b[38;5;241m=\u001b[39m{\u001b[38;5;124m'\u001b[39m\u001b[38;5;124mattrs_before\u001b[39m\u001b[38;5;124m'\u001b[39m: \u001b[43mattrs_before\u001b[49m})\n",
      "\u001b[1;31mNameError\u001b[0m: name 'attrs_before' is not defined"
     ]
    }
   ],
   "source": [
    "# build the connection\n",
    "engine = sa.create_engine(\"mssql+pyodbc:///?odbc_connect={0}\".format(params), connect_args={'attrs_before': attrs_before})"
   ]
  },
  {
   "cell_type": "code",
   "execution_count": 36,
   "metadata": {},
   "outputs": [],
   "source": [
    "import pandas as pd"
   ]
  },
  {
   "cell_type": "code",
   "execution_count": 39,
   "metadata": {},
   "outputs": [
    {
     "ename": "InterfaceError",
     "evalue": "(pyodbc.InterfaceError) ('28000', '[28000] [Microsoft][ODBC Driver 18 for SQL Server][SQL Server]Login failed due to invalid authentication methods. (18456) (SQLDriverConnect); [28000] [Microsoft][ODBC Driver 18 for SQL Server][SQL Server]Login failed due to invalid authentication methods. (18456)')\n(Background on this error at: https://sqlalche.me/e/20/rvf5)",
     "output_type": "error",
     "traceback": [
      "\u001b[1;31m---------------------------------------------------------------------------\u001b[0m",
      "\u001b[1;31mInterfaceError\u001b[0m                            Traceback (most recent call last)",
      "File \u001b[1;32mc:\\Users\\vanty\\Downloads\\Odoo\\.venv\\lib\\site-packages\\sqlalchemy\\engine\\base.py:146\u001b[0m, in \u001b[0;36mConnection.__init__\u001b[1;34m(self, engine, connection, _has_events, _allow_revalidate, _allow_autobegin)\u001b[0m\n\u001b[0;32m    145\u001b[0m \u001b[38;5;28;01mtry\u001b[39;00m:\n\u001b[1;32m--> 146\u001b[0m     \u001b[38;5;28mself\u001b[39m\u001b[38;5;241m.\u001b[39m_dbapi_connection \u001b[38;5;241m=\u001b[39m \u001b[43mengine\u001b[49m\u001b[38;5;241;43m.\u001b[39;49m\u001b[43mraw_connection\u001b[49m\u001b[43m(\u001b[49m\u001b[43m)\u001b[49m\n\u001b[0;32m    147\u001b[0m \u001b[38;5;28;01mexcept\u001b[39;00m dialect\u001b[38;5;241m.\u001b[39mloaded_dbapi\u001b[38;5;241m.\u001b[39mError \u001b[38;5;28;01mas\u001b[39;00m err:\n",
      "File \u001b[1;32mc:\\Users\\vanty\\Downloads\\Odoo\\.venv\\lib\\site-packages\\sqlalchemy\\engine\\base.py:3302\u001b[0m, in \u001b[0;36mEngine.raw_connection\u001b[1;34m(self)\u001b[0m\n\u001b[0;32m   3281\u001b[0m \u001b[38;5;250m\u001b[39m\u001b[38;5;124;03m\"\"\"Return a \"raw\" DBAPI connection from the connection pool.\u001b[39;00m\n\u001b[0;32m   3282\u001b[0m \n\u001b[0;32m   3283\u001b[0m \u001b[38;5;124;03mThe returned object is a proxied version of the DBAPI\u001b[39;00m\n\u001b[1;32m   (...)\u001b[0m\n\u001b[0;32m   3300\u001b[0m \n\u001b[0;32m   3301\u001b[0m \u001b[38;5;124;03m\"\"\"\u001b[39;00m\n\u001b[1;32m-> 3302\u001b[0m \u001b[38;5;28;01mreturn\u001b[39;00m \u001b[38;5;28;43mself\u001b[39;49m\u001b[38;5;241;43m.\u001b[39;49m\u001b[43mpool\u001b[49m\u001b[38;5;241;43m.\u001b[39;49m\u001b[43mconnect\u001b[49m\u001b[43m(\u001b[49m\u001b[43m)\u001b[49m\n",
      "File \u001b[1;32mc:\\Users\\vanty\\Downloads\\Odoo\\.venv\\lib\\site-packages\\sqlalchemy\\pool\\base.py:449\u001b[0m, in \u001b[0;36mPool.connect\u001b[1;34m(self)\u001b[0m\n\u001b[0;32m    442\u001b[0m \u001b[38;5;250m\u001b[39m\u001b[38;5;124;03m\"\"\"Return a DBAPI connection from the pool.\u001b[39;00m\n\u001b[0;32m    443\u001b[0m \n\u001b[0;32m    444\u001b[0m \u001b[38;5;124;03mThe connection is instrumented such that when its\u001b[39;00m\n\u001b[1;32m   (...)\u001b[0m\n\u001b[0;32m    447\u001b[0m \n\u001b[0;32m    448\u001b[0m \u001b[38;5;124;03m\"\"\"\u001b[39;00m\n\u001b[1;32m--> 449\u001b[0m \u001b[38;5;28;01mreturn\u001b[39;00m \u001b[43m_ConnectionFairy\u001b[49m\u001b[38;5;241;43m.\u001b[39;49m\u001b[43m_checkout\u001b[49m\u001b[43m(\u001b[49m\u001b[38;5;28;43mself\u001b[39;49m\u001b[43m)\u001b[49m\n",
      "File \u001b[1;32mc:\\Users\\vanty\\Downloads\\Odoo\\.venv\\lib\\site-packages\\sqlalchemy\\pool\\base.py:1263\u001b[0m, in \u001b[0;36m_ConnectionFairy._checkout\u001b[1;34m(cls, pool, threadconns, fairy)\u001b[0m\n\u001b[0;32m   1262\u001b[0m \u001b[38;5;28;01mif\u001b[39;00m \u001b[38;5;129;01mnot\u001b[39;00m fairy:\n\u001b[1;32m-> 1263\u001b[0m     fairy \u001b[38;5;241m=\u001b[39m \u001b[43m_ConnectionRecord\u001b[49m\u001b[38;5;241;43m.\u001b[39;49m\u001b[43mcheckout\u001b[49m\u001b[43m(\u001b[49m\u001b[43mpool\u001b[49m\u001b[43m)\u001b[49m\n\u001b[0;32m   1265\u001b[0m     \u001b[38;5;28;01mif\u001b[39;00m threadconns \u001b[38;5;129;01mis\u001b[39;00m \u001b[38;5;129;01mnot\u001b[39;00m \u001b[38;5;28;01mNone\u001b[39;00m:\n",
      "File \u001b[1;32mc:\\Users\\vanty\\Downloads\\Odoo\\.venv\\lib\\site-packages\\sqlalchemy\\pool\\base.py:712\u001b[0m, in \u001b[0;36m_ConnectionRecord.checkout\u001b[1;34m(cls, pool)\u001b[0m\n\u001b[0;32m    711\u001b[0m \u001b[38;5;28;01melse\u001b[39;00m:\n\u001b[1;32m--> 712\u001b[0m     rec \u001b[38;5;241m=\u001b[39m \u001b[43mpool\u001b[49m\u001b[38;5;241;43m.\u001b[39;49m\u001b[43m_do_get\u001b[49m\u001b[43m(\u001b[49m\u001b[43m)\u001b[49m\n\u001b[0;32m    714\u001b[0m \u001b[38;5;28;01mtry\u001b[39;00m:\n",
      "File \u001b[1;32mc:\\Users\\vanty\\Downloads\\Odoo\\.venv\\lib\\site-packages\\sqlalchemy\\pool\\impl.py:179\u001b[0m, in \u001b[0;36mQueuePool._do_get\u001b[1;34m(self)\u001b[0m\n\u001b[0;32m    178\u001b[0m \u001b[38;5;28;01mexcept\u001b[39;00m:\n\u001b[1;32m--> 179\u001b[0m     \u001b[38;5;28;01mwith\u001b[39;00m util\u001b[38;5;241m.\u001b[39msafe_reraise():\n\u001b[0;32m    180\u001b[0m         \u001b[38;5;28mself\u001b[39m\u001b[38;5;241m.\u001b[39m_dec_overflow()\n",
      "File \u001b[1;32mc:\\Users\\vanty\\Downloads\\Odoo\\.venv\\lib\\site-packages\\sqlalchemy\\util\\langhelpers.py:146\u001b[0m, in \u001b[0;36msafe_reraise.__exit__\u001b[1;34m(self, type_, value, traceback)\u001b[0m\n\u001b[0;32m    145\u001b[0m     \u001b[38;5;28mself\u001b[39m\u001b[38;5;241m.\u001b[39m_exc_info \u001b[38;5;241m=\u001b[39m \u001b[38;5;28;01mNone\u001b[39;00m  \u001b[38;5;66;03m# remove potential circular references\u001b[39;00m\n\u001b[1;32m--> 146\u001b[0m     \u001b[38;5;28;01mraise\u001b[39;00m exc_value\u001b[38;5;241m.\u001b[39mwith_traceback(exc_tb)\n\u001b[0;32m    147\u001b[0m \u001b[38;5;28;01melse\u001b[39;00m:\n",
      "File \u001b[1;32mc:\\Users\\vanty\\Downloads\\Odoo\\.venv\\lib\\site-packages\\sqlalchemy\\pool\\impl.py:177\u001b[0m, in \u001b[0;36mQueuePool._do_get\u001b[1;34m(self)\u001b[0m\n\u001b[0;32m    176\u001b[0m \u001b[38;5;28;01mtry\u001b[39;00m:\n\u001b[1;32m--> 177\u001b[0m     \u001b[38;5;28;01mreturn\u001b[39;00m \u001b[38;5;28;43mself\u001b[39;49m\u001b[38;5;241;43m.\u001b[39;49m\u001b[43m_create_connection\u001b[49m\u001b[43m(\u001b[49m\u001b[43m)\u001b[49m\n\u001b[0;32m    178\u001b[0m \u001b[38;5;28;01mexcept\u001b[39;00m:\n",
      "File \u001b[1;32mc:\\Users\\vanty\\Downloads\\Odoo\\.venv\\lib\\site-packages\\sqlalchemy\\pool\\base.py:390\u001b[0m, in \u001b[0;36mPool._create_connection\u001b[1;34m(self)\u001b[0m\n\u001b[0;32m    388\u001b[0m \u001b[38;5;250m\u001b[39m\u001b[38;5;124;03m\"\"\"Called by subclasses to create a new ConnectionRecord.\"\"\"\u001b[39;00m\n\u001b[1;32m--> 390\u001b[0m \u001b[38;5;28;01mreturn\u001b[39;00m \u001b[43m_ConnectionRecord\u001b[49m\u001b[43m(\u001b[49m\u001b[38;5;28;43mself\u001b[39;49m\u001b[43m)\u001b[49m\n",
      "File \u001b[1;32mc:\\Users\\vanty\\Downloads\\Odoo\\.venv\\lib\\site-packages\\sqlalchemy\\pool\\base.py:674\u001b[0m, in \u001b[0;36m_ConnectionRecord.__init__\u001b[1;34m(self, pool, connect)\u001b[0m\n\u001b[0;32m    673\u001b[0m \u001b[38;5;28;01mif\u001b[39;00m connect:\n\u001b[1;32m--> 674\u001b[0m     \u001b[38;5;28;43mself\u001b[39;49m\u001b[38;5;241;43m.\u001b[39;49m\u001b[43m__connect\u001b[49m\u001b[43m(\u001b[49m\u001b[43m)\u001b[49m\n\u001b[0;32m    675\u001b[0m \u001b[38;5;28mself\u001b[39m\u001b[38;5;241m.\u001b[39mfinalize_callback \u001b[38;5;241m=\u001b[39m deque()\n",
      "File \u001b[1;32mc:\\Users\\vanty\\Downloads\\Odoo\\.venv\\lib\\site-packages\\sqlalchemy\\pool\\base.py:900\u001b[0m, in \u001b[0;36m_ConnectionRecord.__connect\u001b[1;34m(self)\u001b[0m\n\u001b[0;32m    899\u001b[0m \u001b[38;5;28;01mexcept\u001b[39;00m \u001b[38;5;167;01mBaseException\u001b[39;00m \u001b[38;5;28;01mas\u001b[39;00m e:\n\u001b[1;32m--> 900\u001b[0m     \u001b[38;5;28;01mwith\u001b[39;00m util\u001b[38;5;241m.\u001b[39msafe_reraise():\n\u001b[0;32m    901\u001b[0m         pool\u001b[38;5;241m.\u001b[39mlogger\u001b[38;5;241m.\u001b[39mdebug(\u001b[38;5;124m\"\u001b[39m\u001b[38;5;124mError on connect(): \u001b[39m\u001b[38;5;132;01m%s\u001b[39;00m\u001b[38;5;124m\"\u001b[39m, e)\n",
      "File \u001b[1;32mc:\\Users\\vanty\\Downloads\\Odoo\\.venv\\lib\\site-packages\\sqlalchemy\\util\\langhelpers.py:146\u001b[0m, in \u001b[0;36msafe_reraise.__exit__\u001b[1;34m(self, type_, value, traceback)\u001b[0m\n\u001b[0;32m    145\u001b[0m     \u001b[38;5;28mself\u001b[39m\u001b[38;5;241m.\u001b[39m_exc_info \u001b[38;5;241m=\u001b[39m \u001b[38;5;28;01mNone\u001b[39;00m  \u001b[38;5;66;03m# remove potential circular references\u001b[39;00m\n\u001b[1;32m--> 146\u001b[0m     \u001b[38;5;28;01mraise\u001b[39;00m exc_value\u001b[38;5;241m.\u001b[39mwith_traceback(exc_tb)\n\u001b[0;32m    147\u001b[0m \u001b[38;5;28;01melse\u001b[39;00m:\n",
      "File \u001b[1;32mc:\\Users\\vanty\\Downloads\\Odoo\\.venv\\lib\\site-packages\\sqlalchemy\\pool\\base.py:896\u001b[0m, in \u001b[0;36m_ConnectionRecord.__connect\u001b[1;34m(self)\u001b[0m\n\u001b[0;32m    895\u001b[0m \u001b[38;5;28mself\u001b[39m\u001b[38;5;241m.\u001b[39mstarttime \u001b[38;5;241m=\u001b[39m time\u001b[38;5;241m.\u001b[39mtime()\n\u001b[1;32m--> 896\u001b[0m \u001b[38;5;28mself\u001b[39m\u001b[38;5;241m.\u001b[39mdbapi_connection \u001b[38;5;241m=\u001b[39m connection \u001b[38;5;241m=\u001b[39m \u001b[43mpool\u001b[49m\u001b[38;5;241;43m.\u001b[39;49m\u001b[43m_invoke_creator\u001b[49m\u001b[43m(\u001b[49m\u001b[38;5;28;43mself\u001b[39;49m\u001b[43m)\u001b[49m\n\u001b[0;32m    897\u001b[0m pool\u001b[38;5;241m.\u001b[39mlogger\u001b[38;5;241m.\u001b[39mdebug(\u001b[38;5;124m\"\u001b[39m\u001b[38;5;124mCreated new connection \u001b[39m\u001b[38;5;132;01m%r\u001b[39;00m\u001b[38;5;124m\"\u001b[39m, connection)\n",
      "File \u001b[1;32mc:\\Users\\vanty\\Downloads\\Odoo\\.venv\\lib\\site-packages\\sqlalchemy\\pool\\base.py:362\u001b[0m, in \u001b[0;36mPool._should_wrap_creator.<locals>.<lambda>\u001b[1;34m(rec)\u001b[0m\n\u001b[0;32m    361\u001b[0m creator_fn \u001b[38;5;241m=\u001b[39m cast(_CreatorFnType, creator)\n\u001b[1;32m--> 362\u001b[0m \u001b[38;5;28;01mreturn\u001b[39;00m \u001b[38;5;28;01mlambda\u001b[39;00m rec: \u001b[43mcreator_fn\u001b[49m\u001b[43m(\u001b[49m\u001b[43m)\u001b[49m\n",
      "Cell \u001b[1;32mIn[38], line 3\u001b[0m, in \u001b[0;36m<lambda>\u001b[1;34m()\u001b[0m\n\u001b[0;32m      2\u001b[0m SQL_COPT_SS_ACCESS_TOKEN \u001b[38;5;241m=\u001b[39m \u001b[38;5;241m1256\u001b[39m\n\u001b[1;32m----> 3\u001b[0m engine \u001b[38;5;241m=\u001b[39m sa\u001b[38;5;241m.\u001b[39mcreate_engine(\u001b[38;5;124m\"\u001b[39m\u001b[38;5;124mmssql+pyodbc://\u001b[39m\u001b[38;5;124m\"\u001b[39m, creator\u001b[38;5;241m=\u001b[39m\u001b[38;5;28;01mlambda\u001b[39;00m: \u001b[43mpyodbc\u001b[49m\u001b[38;5;241;43m.\u001b[39;49m\u001b[43mconnect\u001b[49m\u001b[43m(\u001b[49m\u001b[43mconnection_string\u001b[49m\u001b[43m,\u001b[49m\u001b[43m \u001b[49m\u001b[43mattrs_before\u001b[49m\u001b[38;5;241;43m=\u001b[39;49m\u001b[43m{\u001b[49m\u001b[43mSQL_COPT_SS_ACCESS_TOKEN\u001b[49m\u001b[43m:\u001b[49m\u001b[43m \u001b[49m\u001b[43mtoken_struct\u001b[49m\u001b[43m}\u001b[49m\u001b[43m)\u001b[49m)\n",
      "\u001b[1;31mInterfaceError\u001b[0m: ('28000', '[28000] [Microsoft][ODBC Driver 18 for SQL Server][SQL Server]Login failed due to invalid authentication methods. (18456) (SQLDriverConnect); [28000] [Microsoft][ODBC Driver 18 for SQL Server][SQL Server]Login failed due to invalid authentication methods. (18456)')",
      "\nThe above exception was the direct cause of the following exception:\n",
      "\u001b[1;31mInterfaceError\u001b[0m                            Traceback (most recent call last)",
      "Cell \u001b[1;32mIn[39], line 1\u001b[0m\n\u001b[1;32m----> 1\u001b[0m sql_df \u001b[38;5;241m=\u001b[39m \u001b[43mpd\u001b[49m\u001b[38;5;241;43m.\u001b[39;49m\u001b[43mread_sql\u001b[49m\u001b[43m(\u001b[49m\u001b[43m \u001b[49m\n\u001b[0;32m      2\u001b[0m \u001b[43m    \u001b[49m\u001b[38;5;124;43m\"\u001b[39;49m\u001b[38;5;124;43mSELECT * FROM sys.objects\u001b[39;49m\u001b[38;5;124;43m\"\u001b[39;49m\u001b[43m,\u001b[49m\u001b[43m \u001b[49m\n\u001b[0;32m      3\u001b[0m \u001b[43m    \u001b[49m\u001b[43mcon\u001b[49m\u001b[38;5;241;43m=\u001b[39;49m\u001b[43mengine\u001b[49m\u001b[43m \u001b[49m\n\u001b[0;32m      4\u001b[0m \u001b[43m)\u001b[49m \n",
      "File \u001b[1;32mc:\\Users\\vanty\\Downloads\\Odoo\\.venv\\lib\\site-packages\\pandas\\io\\sql.py:704\u001b[0m, in \u001b[0;36mread_sql\u001b[1;34m(sql, con, index_col, coerce_float, params, parse_dates, columns, chunksize, dtype_backend, dtype)\u001b[0m\n\u001b[0;32m    701\u001b[0m     dtype_backend \u001b[38;5;241m=\u001b[39m \u001b[38;5;124m\"\u001b[39m\u001b[38;5;124mnumpy\u001b[39m\u001b[38;5;124m\"\u001b[39m  \u001b[38;5;66;03m# type: ignore[assignment]\u001b[39;00m\n\u001b[0;32m    702\u001b[0m \u001b[38;5;28;01massert\u001b[39;00m dtype_backend \u001b[38;5;129;01mis\u001b[39;00m \u001b[38;5;129;01mnot\u001b[39;00m lib\u001b[38;5;241m.\u001b[39mno_default\n\u001b[1;32m--> 704\u001b[0m \u001b[38;5;28;01mwith\u001b[39;00m \u001b[43mpandasSQL_builder\u001b[49m\u001b[43m(\u001b[49m\u001b[43mcon\u001b[49m\u001b[43m)\u001b[49m \u001b[38;5;28;01mas\u001b[39;00m pandas_sql:\n\u001b[0;32m    705\u001b[0m     \u001b[38;5;28;01mif\u001b[39;00m \u001b[38;5;28misinstance\u001b[39m(pandas_sql, SQLiteDatabase):\n\u001b[0;32m    706\u001b[0m         \u001b[38;5;28;01mreturn\u001b[39;00m pandas_sql\u001b[38;5;241m.\u001b[39mread_query(\n\u001b[0;32m    707\u001b[0m             sql,\n\u001b[0;32m    708\u001b[0m             index_col\u001b[38;5;241m=\u001b[39mindex_col,\n\u001b[1;32m   (...)\u001b[0m\n\u001b[0;32m    714\u001b[0m             dtype\u001b[38;5;241m=\u001b[39mdtype,\n\u001b[0;32m    715\u001b[0m         )\n",
      "File \u001b[1;32mc:\\Users\\vanty\\Downloads\\Odoo\\.venv\\lib\\site-packages\\pandas\\io\\sql.py:906\u001b[0m, in \u001b[0;36mpandasSQL_builder\u001b[1;34m(con, schema, need_transaction)\u001b[0m\n\u001b[0;32m    903\u001b[0m     \u001b[38;5;28;01mraise\u001b[39;00m \u001b[38;5;167;01mImportError\u001b[39;00m(\u001b[38;5;124m\"\u001b[39m\u001b[38;5;124mUsing URI string without sqlalchemy installed.\u001b[39m\u001b[38;5;124m\"\u001b[39m)\n\u001b[0;32m    905\u001b[0m \u001b[38;5;28;01mif\u001b[39;00m sqlalchemy \u001b[38;5;129;01mis\u001b[39;00m \u001b[38;5;129;01mnot\u001b[39;00m \u001b[38;5;28;01mNone\u001b[39;00m \u001b[38;5;129;01mand\u001b[39;00m \u001b[38;5;28misinstance\u001b[39m(con, (\u001b[38;5;28mstr\u001b[39m, sqlalchemy\u001b[38;5;241m.\u001b[39mengine\u001b[38;5;241m.\u001b[39mConnectable)):\n\u001b[1;32m--> 906\u001b[0m     \u001b[38;5;28;01mreturn\u001b[39;00m \u001b[43mSQLDatabase\u001b[49m\u001b[43m(\u001b[49m\u001b[43mcon\u001b[49m\u001b[43m,\u001b[49m\u001b[43m \u001b[49m\u001b[43mschema\u001b[49m\u001b[43m,\u001b[49m\u001b[43m \u001b[49m\u001b[43mneed_transaction\u001b[49m\u001b[43m)\u001b[49m\n\u001b[0;32m    908\u001b[0m adbc \u001b[38;5;241m=\u001b[39m import_optional_dependency(\u001b[38;5;124m\"\u001b[39m\u001b[38;5;124madbc_driver_manager.dbapi\u001b[39m\u001b[38;5;124m\"\u001b[39m, errors\u001b[38;5;241m=\u001b[39m\u001b[38;5;124m\"\u001b[39m\u001b[38;5;124mignore\u001b[39m\u001b[38;5;124m\"\u001b[39m)\n\u001b[0;32m    909\u001b[0m \u001b[38;5;28;01mif\u001b[39;00m adbc \u001b[38;5;129;01mand\u001b[39;00m \u001b[38;5;28misinstance\u001b[39m(con, adbc\u001b[38;5;241m.\u001b[39mConnection):\n",
      "File \u001b[1;32mc:\\Users\\vanty\\Downloads\\Odoo\\.venv\\lib\\site-packages\\pandas\\io\\sql.py:1636\u001b[0m, in \u001b[0;36mSQLDatabase.__init__\u001b[1;34m(self, con, schema, need_transaction)\u001b[0m\n\u001b[0;32m   1634\u001b[0m     \u001b[38;5;28mself\u001b[39m\u001b[38;5;241m.\u001b[39mexit_stack\u001b[38;5;241m.\u001b[39mcallback(con\u001b[38;5;241m.\u001b[39mdispose)\n\u001b[0;32m   1635\u001b[0m \u001b[38;5;28;01mif\u001b[39;00m \u001b[38;5;28misinstance\u001b[39m(con, Engine):\n\u001b[1;32m-> 1636\u001b[0m     con \u001b[38;5;241m=\u001b[39m \u001b[38;5;28mself\u001b[39m\u001b[38;5;241m.\u001b[39mexit_stack\u001b[38;5;241m.\u001b[39menter_context(\u001b[43mcon\u001b[49m\u001b[38;5;241;43m.\u001b[39;49m\u001b[43mconnect\u001b[49m\u001b[43m(\u001b[49m\u001b[43m)\u001b[49m)\n\u001b[0;32m   1637\u001b[0m \u001b[38;5;28;01mif\u001b[39;00m need_transaction \u001b[38;5;129;01mand\u001b[39;00m \u001b[38;5;129;01mnot\u001b[39;00m con\u001b[38;5;241m.\u001b[39min_transaction():\n\u001b[0;32m   1638\u001b[0m     \u001b[38;5;28mself\u001b[39m\u001b[38;5;241m.\u001b[39mexit_stack\u001b[38;5;241m.\u001b[39menter_context(con\u001b[38;5;241m.\u001b[39mbegin())\n",
      "File \u001b[1;32mc:\\Users\\vanty\\Downloads\\Odoo\\.venv\\lib\\site-packages\\sqlalchemy\\engine\\base.py:3278\u001b[0m, in \u001b[0;36mEngine.connect\u001b[1;34m(self)\u001b[0m\n\u001b[0;32m   3255\u001b[0m \u001b[38;5;28;01mdef\u001b[39;00m \u001b[38;5;21mconnect\u001b[39m(\u001b[38;5;28mself\u001b[39m) \u001b[38;5;241m-\u001b[39m\u001b[38;5;241m>\u001b[39m Connection:\n\u001b[0;32m   3256\u001b[0m \u001b[38;5;250m    \u001b[39m\u001b[38;5;124;03m\"\"\"Return a new :class:`_engine.Connection` object.\u001b[39;00m\n\u001b[0;32m   3257\u001b[0m \n\u001b[0;32m   3258\u001b[0m \u001b[38;5;124;03m    The :class:`_engine.Connection` acts as a Python context manager, so\u001b[39;00m\n\u001b[1;32m   (...)\u001b[0m\n\u001b[0;32m   3275\u001b[0m \n\u001b[0;32m   3276\u001b[0m \u001b[38;5;124;03m    \"\"\"\u001b[39;00m\n\u001b[1;32m-> 3278\u001b[0m     \u001b[38;5;28;01mreturn\u001b[39;00m \u001b[38;5;28;43mself\u001b[39;49m\u001b[38;5;241;43m.\u001b[39;49m\u001b[43m_connection_cls\u001b[49m\u001b[43m(\u001b[49m\u001b[38;5;28;43mself\u001b[39;49m\u001b[43m)\u001b[49m\n",
      "File \u001b[1;32mc:\\Users\\vanty\\Downloads\\Odoo\\.venv\\lib\\site-packages\\sqlalchemy\\engine\\base.py:148\u001b[0m, in \u001b[0;36mConnection.__init__\u001b[1;34m(self, engine, connection, _has_events, _allow_revalidate, _allow_autobegin)\u001b[0m\n\u001b[0;32m    146\u001b[0m         \u001b[38;5;28mself\u001b[39m\u001b[38;5;241m.\u001b[39m_dbapi_connection \u001b[38;5;241m=\u001b[39m engine\u001b[38;5;241m.\u001b[39mraw_connection()\n\u001b[0;32m    147\u001b[0m     \u001b[38;5;28;01mexcept\u001b[39;00m dialect\u001b[38;5;241m.\u001b[39mloaded_dbapi\u001b[38;5;241m.\u001b[39mError \u001b[38;5;28;01mas\u001b[39;00m err:\n\u001b[1;32m--> 148\u001b[0m         \u001b[43mConnection\u001b[49m\u001b[38;5;241;43m.\u001b[39;49m\u001b[43m_handle_dbapi_exception_noconnection\u001b[49m\u001b[43m(\u001b[49m\n\u001b[0;32m    149\u001b[0m \u001b[43m            \u001b[49m\u001b[43merr\u001b[49m\u001b[43m,\u001b[49m\u001b[43m \u001b[49m\u001b[43mdialect\u001b[49m\u001b[43m,\u001b[49m\u001b[43m \u001b[49m\u001b[43mengine\u001b[49m\n\u001b[0;32m    150\u001b[0m \u001b[43m        \u001b[49m\u001b[43m)\u001b[49m\n\u001b[0;32m    151\u001b[0m         \u001b[38;5;28;01mraise\u001b[39;00m\n\u001b[0;32m    152\u001b[0m \u001b[38;5;28;01melse\u001b[39;00m:\n",
      "File \u001b[1;32mc:\\Users\\vanty\\Downloads\\Odoo\\.venv\\lib\\site-packages\\sqlalchemy\\engine\\base.py:2442\u001b[0m, in \u001b[0;36mConnection._handle_dbapi_exception_noconnection\u001b[1;34m(cls, e, dialect, engine, is_disconnect, invalidate_pool_on_disconnect, is_pre_ping)\u001b[0m\n\u001b[0;32m   2440\u001b[0m \u001b[38;5;28;01melif\u001b[39;00m should_wrap:\n\u001b[0;32m   2441\u001b[0m     \u001b[38;5;28;01massert\u001b[39;00m sqlalchemy_exception \u001b[38;5;129;01mis\u001b[39;00m \u001b[38;5;129;01mnot\u001b[39;00m \u001b[38;5;28;01mNone\u001b[39;00m\n\u001b[1;32m-> 2442\u001b[0m     \u001b[38;5;28;01mraise\u001b[39;00m sqlalchemy_exception\u001b[38;5;241m.\u001b[39mwith_traceback(exc_info[\u001b[38;5;241m2\u001b[39m]) \u001b[38;5;28;01mfrom\u001b[39;00m \u001b[38;5;21;01me\u001b[39;00m\n\u001b[0;32m   2443\u001b[0m \u001b[38;5;28;01melse\u001b[39;00m:\n\u001b[0;32m   2444\u001b[0m     \u001b[38;5;28;01massert\u001b[39;00m exc_info[\u001b[38;5;241m1\u001b[39m] \u001b[38;5;129;01mis\u001b[39;00m \u001b[38;5;129;01mnot\u001b[39;00m \u001b[38;5;28;01mNone\u001b[39;00m\n",
      "File \u001b[1;32mc:\\Users\\vanty\\Downloads\\Odoo\\.venv\\lib\\site-packages\\sqlalchemy\\engine\\base.py:146\u001b[0m, in \u001b[0;36mConnection.__init__\u001b[1;34m(self, engine, connection, _has_events, _allow_revalidate, _allow_autobegin)\u001b[0m\n\u001b[0;32m    144\u001b[0m \u001b[38;5;28;01mif\u001b[39;00m connection \u001b[38;5;129;01mis\u001b[39;00m \u001b[38;5;28;01mNone\u001b[39;00m:\n\u001b[0;32m    145\u001b[0m     \u001b[38;5;28;01mtry\u001b[39;00m:\n\u001b[1;32m--> 146\u001b[0m         \u001b[38;5;28mself\u001b[39m\u001b[38;5;241m.\u001b[39m_dbapi_connection \u001b[38;5;241m=\u001b[39m \u001b[43mengine\u001b[49m\u001b[38;5;241;43m.\u001b[39;49m\u001b[43mraw_connection\u001b[49m\u001b[43m(\u001b[49m\u001b[43m)\u001b[49m\n\u001b[0;32m    147\u001b[0m     \u001b[38;5;28;01mexcept\u001b[39;00m dialect\u001b[38;5;241m.\u001b[39mloaded_dbapi\u001b[38;5;241m.\u001b[39mError \u001b[38;5;28;01mas\u001b[39;00m err:\n\u001b[0;32m    148\u001b[0m         Connection\u001b[38;5;241m.\u001b[39m_handle_dbapi_exception_noconnection(\n\u001b[0;32m    149\u001b[0m             err, dialect, engine\n\u001b[0;32m    150\u001b[0m         )\n",
      "File \u001b[1;32mc:\\Users\\vanty\\Downloads\\Odoo\\.venv\\lib\\site-packages\\sqlalchemy\\engine\\base.py:3302\u001b[0m, in \u001b[0;36mEngine.raw_connection\u001b[1;34m(self)\u001b[0m\n\u001b[0;32m   3280\u001b[0m \u001b[38;5;28;01mdef\u001b[39;00m \u001b[38;5;21mraw_connection\u001b[39m(\u001b[38;5;28mself\u001b[39m) \u001b[38;5;241m-\u001b[39m\u001b[38;5;241m>\u001b[39m PoolProxiedConnection:\n\u001b[0;32m   3281\u001b[0m \u001b[38;5;250m    \u001b[39m\u001b[38;5;124;03m\"\"\"Return a \"raw\" DBAPI connection from the connection pool.\u001b[39;00m\n\u001b[0;32m   3282\u001b[0m \n\u001b[0;32m   3283\u001b[0m \u001b[38;5;124;03m    The returned object is a proxied version of the DBAPI\u001b[39;00m\n\u001b[1;32m   (...)\u001b[0m\n\u001b[0;32m   3300\u001b[0m \n\u001b[0;32m   3301\u001b[0m \u001b[38;5;124;03m    \"\"\"\u001b[39;00m\n\u001b[1;32m-> 3302\u001b[0m     \u001b[38;5;28;01mreturn\u001b[39;00m \u001b[38;5;28;43mself\u001b[39;49m\u001b[38;5;241;43m.\u001b[39;49m\u001b[43mpool\u001b[49m\u001b[38;5;241;43m.\u001b[39;49m\u001b[43mconnect\u001b[49m\u001b[43m(\u001b[49m\u001b[43m)\u001b[49m\n",
      "File \u001b[1;32mc:\\Users\\vanty\\Downloads\\Odoo\\.venv\\lib\\site-packages\\sqlalchemy\\pool\\base.py:449\u001b[0m, in \u001b[0;36mPool.connect\u001b[1;34m(self)\u001b[0m\n\u001b[0;32m    441\u001b[0m \u001b[38;5;28;01mdef\u001b[39;00m \u001b[38;5;21mconnect\u001b[39m(\u001b[38;5;28mself\u001b[39m) \u001b[38;5;241m-\u001b[39m\u001b[38;5;241m>\u001b[39m PoolProxiedConnection:\n\u001b[0;32m    442\u001b[0m \u001b[38;5;250m    \u001b[39m\u001b[38;5;124;03m\"\"\"Return a DBAPI connection from the pool.\u001b[39;00m\n\u001b[0;32m    443\u001b[0m \n\u001b[0;32m    444\u001b[0m \u001b[38;5;124;03m    The connection is instrumented such that when its\u001b[39;00m\n\u001b[1;32m   (...)\u001b[0m\n\u001b[0;32m    447\u001b[0m \n\u001b[0;32m    448\u001b[0m \u001b[38;5;124;03m    \"\"\"\u001b[39;00m\n\u001b[1;32m--> 449\u001b[0m     \u001b[38;5;28;01mreturn\u001b[39;00m \u001b[43m_ConnectionFairy\u001b[49m\u001b[38;5;241;43m.\u001b[39;49m\u001b[43m_checkout\u001b[49m\u001b[43m(\u001b[49m\u001b[38;5;28;43mself\u001b[39;49m\u001b[43m)\u001b[49m\n",
      "File \u001b[1;32mc:\\Users\\vanty\\Downloads\\Odoo\\.venv\\lib\\site-packages\\sqlalchemy\\pool\\base.py:1263\u001b[0m, in \u001b[0;36m_ConnectionFairy._checkout\u001b[1;34m(cls, pool, threadconns, fairy)\u001b[0m\n\u001b[0;32m   1255\u001b[0m \u001b[38;5;129m@classmethod\u001b[39m\n\u001b[0;32m   1256\u001b[0m \u001b[38;5;28;01mdef\u001b[39;00m \u001b[38;5;21m_checkout\u001b[39m(\n\u001b[0;32m   1257\u001b[0m     \u001b[38;5;28mcls\u001b[39m,\n\u001b[1;32m   (...)\u001b[0m\n\u001b[0;32m   1260\u001b[0m     fairy: Optional[_ConnectionFairy] \u001b[38;5;241m=\u001b[39m \u001b[38;5;28;01mNone\u001b[39;00m,\n\u001b[0;32m   1261\u001b[0m ) \u001b[38;5;241m-\u001b[39m\u001b[38;5;241m>\u001b[39m _ConnectionFairy:\n\u001b[0;32m   1262\u001b[0m     \u001b[38;5;28;01mif\u001b[39;00m \u001b[38;5;129;01mnot\u001b[39;00m fairy:\n\u001b[1;32m-> 1263\u001b[0m         fairy \u001b[38;5;241m=\u001b[39m \u001b[43m_ConnectionRecord\u001b[49m\u001b[38;5;241;43m.\u001b[39;49m\u001b[43mcheckout\u001b[49m\u001b[43m(\u001b[49m\u001b[43mpool\u001b[49m\u001b[43m)\u001b[49m\n\u001b[0;32m   1265\u001b[0m         \u001b[38;5;28;01mif\u001b[39;00m threadconns \u001b[38;5;129;01mis\u001b[39;00m \u001b[38;5;129;01mnot\u001b[39;00m \u001b[38;5;28;01mNone\u001b[39;00m:\n\u001b[0;32m   1266\u001b[0m             threadconns\u001b[38;5;241m.\u001b[39mcurrent \u001b[38;5;241m=\u001b[39m weakref\u001b[38;5;241m.\u001b[39mref(fairy)\n",
      "File \u001b[1;32mc:\\Users\\vanty\\Downloads\\Odoo\\.venv\\lib\\site-packages\\sqlalchemy\\pool\\base.py:712\u001b[0m, in \u001b[0;36m_ConnectionRecord.checkout\u001b[1;34m(cls, pool)\u001b[0m\n\u001b[0;32m    710\u001b[0m     rec \u001b[38;5;241m=\u001b[39m cast(_ConnectionRecord, pool\u001b[38;5;241m.\u001b[39m_do_get())\n\u001b[0;32m    711\u001b[0m \u001b[38;5;28;01melse\u001b[39;00m:\n\u001b[1;32m--> 712\u001b[0m     rec \u001b[38;5;241m=\u001b[39m \u001b[43mpool\u001b[49m\u001b[38;5;241;43m.\u001b[39;49m\u001b[43m_do_get\u001b[49m\u001b[43m(\u001b[49m\u001b[43m)\u001b[49m\n\u001b[0;32m    714\u001b[0m \u001b[38;5;28;01mtry\u001b[39;00m:\n\u001b[0;32m    715\u001b[0m     dbapi_connection \u001b[38;5;241m=\u001b[39m rec\u001b[38;5;241m.\u001b[39mget_connection()\n",
      "File \u001b[1;32mc:\\Users\\vanty\\Downloads\\Odoo\\.venv\\lib\\site-packages\\sqlalchemy\\pool\\impl.py:179\u001b[0m, in \u001b[0;36mQueuePool._do_get\u001b[1;34m(self)\u001b[0m\n\u001b[0;32m    177\u001b[0m     \u001b[38;5;28;01mreturn\u001b[39;00m \u001b[38;5;28mself\u001b[39m\u001b[38;5;241m.\u001b[39m_create_connection()\n\u001b[0;32m    178\u001b[0m \u001b[38;5;28;01mexcept\u001b[39;00m:\n\u001b[1;32m--> 179\u001b[0m     \u001b[38;5;28;01mwith\u001b[39;00m util\u001b[38;5;241m.\u001b[39msafe_reraise():\n\u001b[0;32m    180\u001b[0m         \u001b[38;5;28mself\u001b[39m\u001b[38;5;241m.\u001b[39m_dec_overflow()\n\u001b[0;32m    181\u001b[0m     \u001b[38;5;28;01mraise\u001b[39;00m\n",
      "File \u001b[1;32mc:\\Users\\vanty\\Downloads\\Odoo\\.venv\\lib\\site-packages\\sqlalchemy\\util\\langhelpers.py:146\u001b[0m, in \u001b[0;36msafe_reraise.__exit__\u001b[1;34m(self, type_, value, traceback)\u001b[0m\n\u001b[0;32m    144\u001b[0m     \u001b[38;5;28;01massert\u001b[39;00m exc_value \u001b[38;5;129;01mis\u001b[39;00m \u001b[38;5;129;01mnot\u001b[39;00m \u001b[38;5;28;01mNone\u001b[39;00m\n\u001b[0;32m    145\u001b[0m     \u001b[38;5;28mself\u001b[39m\u001b[38;5;241m.\u001b[39m_exc_info \u001b[38;5;241m=\u001b[39m \u001b[38;5;28;01mNone\u001b[39;00m  \u001b[38;5;66;03m# remove potential circular references\u001b[39;00m\n\u001b[1;32m--> 146\u001b[0m     \u001b[38;5;28;01mraise\u001b[39;00m exc_value\u001b[38;5;241m.\u001b[39mwith_traceback(exc_tb)\n\u001b[0;32m    147\u001b[0m \u001b[38;5;28;01melse\u001b[39;00m:\n\u001b[0;32m    148\u001b[0m     \u001b[38;5;28mself\u001b[39m\u001b[38;5;241m.\u001b[39m_exc_info \u001b[38;5;241m=\u001b[39m \u001b[38;5;28;01mNone\u001b[39;00m  \u001b[38;5;66;03m# remove potential circular references\u001b[39;00m\n",
      "File \u001b[1;32mc:\\Users\\vanty\\Downloads\\Odoo\\.venv\\lib\\site-packages\\sqlalchemy\\pool\\impl.py:177\u001b[0m, in \u001b[0;36mQueuePool._do_get\u001b[1;34m(self)\u001b[0m\n\u001b[0;32m    175\u001b[0m \u001b[38;5;28;01mif\u001b[39;00m \u001b[38;5;28mself\u001b[39m\u001b[38;5;241m.\u001b[39m_inc_overflow():\n\u001b[0;32m    176\u001b[0m     \u001b[38;5;28;01mtry\u001b[39;00m:\n\u001b[1;32m--> 177\u001b[0m         \u001b[38;5;28;01mreturn\u001b[39;00m \u001b[38;5;28;43mself\u001b[39;49m\u001b[38;5;241;43m.\u001b[39;49m\u001b[43m_create_connection\u001b[49m\u001b[43m(\u001b[49m\u001b[43m)\u001b[49m\n\u001b[0;32m    178\u001b[0m     \u001b[38;5;28;01mexcept\u001b[39;00m:\n\u001b[0;32m    179\u001b[0m         \u001b[38;5;28;01mwith\u001b[39;00m util\u001b[38;5;241m.\u001b[39msafe_reraise():\n",
      "File \u001b[1;32mc:\\Users\\vanty\\Downloads\\Odoo\\.venv\\lib\\site-packages\\sqlalchemy\\pool\\base.py:390\u001b[0m, in \u001b[0;36mPool._create_connection\u001b[1;34m(self)\u001b[0m\n\u001b[0;32m    387\u001b[0m \u001b[38;5;28;01mdef\u001b[39;00m \u001b[38;5;21m_create_connection\u001b[39m(\u001b[38;5;28mself\u001b[39m) \u001b[38;5;241m-\u001b[39m\u001b[38;5;241m>\u001b[39m ConnectionPoolEntry:\n\u001b[0;32m    388\u001b[0m \u001b[38;5;250m    \u001b[39m\u001b[38;5;124;03m\"\"\"Called by subclasses to create a new ConnectionRecord.\"\"\"\u001b[39;00m\n\u001b[1;32m--> 390\u001b[0m     \u001b[38;5;28;01mreturn\u001b[39;00m \u001b[43m_ConnectionRecord\u001b[49m\u001b[43m(\u001b[49m\u001b[38;5;28;43mself\u001b[39;49m\u001b[43m)\u001b[49m\n",
      "File \u001b[1;32mc:\\Users\\vanty\\Downloads\\Odoo\\.venv\\lib\\site-packages\\sqlalchemy\\pool\\base.py:674\u001b[0m, in \u001b[0;36m_ConnectionRecord.__init__\u001b[1;34m(self, pool, connect)\u001b[0m\n\u001b[0;32m    672\u001b[0m \u001b[38;5;28mself\u001b[39m\u001b[38;5;241m.\u001b[39m__pool \u001b[38;5;241m=\u001b[39m pool\n\u001b[0;32m    673\u001b[0m \u001b[38;5;28;01mif\u001b[39;00m connect:\n\u001b[1;32m--> 674\u001b[0m     \u001b[38;5;28;43mself\u001b[39;49m\u001b[38;5;241;43m.\u001b[39;49m\u001b[43m__connect\u001b[49m\u001b[43m(\u001b[49m\u001b[43m)\u001b[49m\n\u001b[0;32m    675\u001b[0m \u001b[38;5;28mself\u001b[39m\u001b[38;5;241m.\u001b[39mfinalize_callback \u001b[38;5;241m=\u001b[39m deque()\n",
      "File \u001b[1;32mc:\\Users\\vanty\\Downloads\\Odoo\\.venv\\lib\\site-packages\\sqlalchemy\\pool\\base.py:900\u001b[0m, in \u001b[0;36m_ConnectionRecord.__connect\u001b[1;34m(self)\u001b[0m\n\u001b[0;32m    898\u001b[0m     \u001b[38;5;28mself\u001b[39m\u001b[38;5;241m.\u001b[39mfresh \u001b[38;5;241m=\u001b[39m \u001b[38;5;28;01mTrue\u001b[39;00m\n\u001b[0;32m    899\u001b[0m \u001b[38;5;28;01mexcept\u001b[39;00m \u001b[38;5;167;01mBaseException\u001b[39;00m \u001b[38;5;28;01mas\u001b[39;00m e:\n\u001b[1;32m--> 900\u001b[0m     \u001b[38;5;28;01mwith\u001b[39;00m util\u001b[38;5;241m.\u001b[39msafe_reraise():\n\u001b[0;32m    901\u001b[0m         pool\u001b[38;5;241m.\u001b[39mlogger\u001b[38;5;241m.\u001b[39mdebug(\u001b[38;5;124m\"\u001b[39m\u001b[38;5;124mError on connect(): \u001b[39m\u001b[38;5;132;01m%s\u001b[39;00m\u001b[38;5;124m\"\u001b[39m, e)\n\u001b[0;32m    902\u001b[0m \u001b[38;5;28;01melse\u001b[39;00m:\n\u001b[0;32m    903\u001b[0m     \u001b[38;5;66;03m# in SQLAlchemy 1.4 the first_connect event is not used by\u001b[39;00m\n\u001b[0;32m    904\u001b[0m     \u001b[38;5;66;03m# the engine, so this will usually not be set\u001b[39;00m\n",
      "File \u001b[1;32mc:\\Users\\vanty\\Downloads\\Odoo\\.venv\\lib\\site-packages\\sqlalchemy\\util\\langhelpers.py:146\u001b[0m, in \u001b[0;36msafe_reraise.__exit__\u001b[1;34m(self, type_, value, traceback)\u001b[0m\n\u001b[0;32m    144\u001b[0m     \u001b[38;5;28;01massert\u001b[39;00m exc_value \u001b[38;5;129;01mis\u001b[39;00m \u001b[38;5;129;01mnot\u001b[39;00m \u001b[38;5;28;01mNone\u001b[39;00m\n\u001b[0;32m    145\u001b[0m     \u001b[38;5;28mself\u001b[39m\u001b[38;5;241m.\u001b[39m_exc_info \u001b[38;5;241m=\u001b[39m \u001b[38;5;28;01mNone\u001b[39;00m  \u001b[38;5;66;03m# remove potential circular references\u001b[39;00m\n\u001b[1;32m--> 146\u001b[0m     \u001b[38;5;28;01mraise\u001b[39;00m exc_value\u001b[38;5;241m.\u001b[39mwith_traceback(exc_tb)\n\u001b[0;32m    147\u001b[0m \u001b[38;5;28;01melse\u001b[39;00m:\n\u001b[0;32m    148\u001b[0m     \u001b[38;5;28mself\u001b[39m\u001b[38;5;241m.\u001b[39m_exc_info \u001b[38;5;241m=\u001b[39m \u001b[38;5;28;01mNone\u001b[39;00m  \u001b[38;5;66;03m# remove potential circular references\u001b[39;00m\n",
      "File \u001b[1;32mc:\\Users\\vanty\\Downloads\\Odoo\\.venv\\lib\\site-packages\\sqlalchemy\\pool\\base.py:896\u001b[0m, in \u001b[0;36m_ConnectionRecord.__connect\u001b[1;34m(self)\u001b[0m\n\u001b[0;32m    894\u001b[0m \u001b[38;5;28;01mtry\u001b[39;00m:\n\u001b[0;32m    895\u001b[0m     \u001b[38;5;28mself\u001b[39m\u001b[38;5;241m.\u001b[39mstarttime \u001b[38;5;241m=\u001b[39m time\u001b[38;5;241m.\u001b[39mtime()\n\u001b[1;32m--> 896\u001b[0m     \u001b[38;5;28mself\u001b[39m\u001b[38;5;241m.\u001b[39mdbapi_connection \u001b[38;5;241m=\u001b[39m connection \u001b[38;5;241m=\u001b[39m \u001b[43mpool\u001b[49m\u001b[38;5;241;43m.\u001b[39;49m\u001b[43m_invoke_creator\u001b[49m\u001b[43m(\u001b[49m\u001b[38;5;28;43mself\u001b[39;49m\u001b[43m)\u001b[49m\n\u001b[0;32m    897\u001b[0m     pool\u001b[38;5;241m.\u001b[39mlogger\u001b[38;5;241m.\u001b[39mdebug(\u001b[38;5;124m\"\u001b[39m\u001b[38;5;124mCreated new connection \u001b[39m\u001b[38;5;132;01m%r\u001b[39;00m\u001b[38;5;124m\"\u001b[39m, connection)\n\u001b[0;32m    898\u001b[0m     \u001b[38;5;28mself\u001b[39m\u001b[38;5;241m.\u001b[39mfresh \u001b[38;5;241m=\u001b[39m \u001b[38;5;28;01mTrue\u001b[39;00m\n",
      "File \u001b[1;32mc:\\Users\\vanty\\Downloads\\Odoo\\.venv\\lib\\site-packages\\sqlalchemy\\pool\\base.py:362\u001b[0m, in \u001b[0;36mPool._should_wrap_creator.<locals>.<lambda>\u001b[1;34m(rec)\u001b[0m\n\u001b[0;32m    358\u001b[0m \u001b[38;5;66;03m# all other cases, just wrap and assume legacy \"creator\" callable\u001b[39;00m\n\u001b[0;32m    359\u001b[0m \u001b[38;5;66;03m# thing\u001b[39;00m\n\u001b[0;32m    360\u001b[0m \u001b[38;5;28;01melse\u001b[39;00m:\n\u001b[0;32m    361\u001b[0m     creator_fn \u001b[38;5;241m=\u001b[39m cast(_CreatorFnType, creator)\n\u001b[1;32m--> 362\u001b[0m     \u001b[38;5;28;01mreturn\u001b[39;00m \u001b[38;5;28;01mlambda\u001b[39;00m rec: \u001b[43mcreator_fn\u001b[49m\u001b[43m(\u001b[49m\u001b[43m)\u001b[49m\n",
      "Cell \u001b[1;32mIn[38], line 3\u001b[0m, in \u001b[0;36m<lambda>\u001b[1;34m()\u001b[0m\n\u001b[0;32m      1\u001b[0m token_struct \u001b[38;5;241m=\u001b[39m struct\u001b[38;5;241m.\u001b[39mpack(\u001b[38;5;124mf\u001b[39m\u001b[38;5;124m'\u001b[39m\u001b[38;5;124m<I\u001b[39m\u001b[38;5;132;01m{\u001b[39;00m\u001b[38;5;28mlen\u001b[39m(token)\u001b[38;5;132;01m}\u001b[39;00m\u001b[38;5;124ms\u001b[39m\u001b[38;5;124m'\u001b[39m, \u001b[38;5;28mlen\u001b[39m(token), token)\n\u001b[0;32m      2\u001b[0m SQL_COPT_SS_ACCESS_TOKEN \u001b[38;5;241m=\u001b[39m \u001b[38;5;241m1256\u001b[39m\n\u001b[1;32m----> 3\u001b[0m engine \u001b[38;5;241m=\u001b[39m sa\u001b[38;5;241m.\u001b[39mcreate_engine(\u001b[38;5;124m\"\u001b[39m\u001b[38;5;124mmssql+pyodbc://\u001b[39m\u001b[38;5;124m\"\u001b[39m, creator\u001b[38;5;241m=\u001b[39m\u001b[38;5;28;01mlambda\u001b[39;00m: \u001b[43mpyodbc\u001b[49m\u001b[38;5;241;43m.\u001b[39;49m\u001b[43mconnect\u001b[49m\u001b[43m(\u001b[49m\u001b[43mconnection_string\u001b[49m\u001b[43m,\u001b[49m\u001b[43m \u001b[49m\u001b[43mattrs_before\u001b[49m\u001b[38;5;241;43m=\u001b[39;49m\u001b[43m{\u001b[49m\u001b[43mSQL_COPT_SS_ACCESS_TOKEN\u001b[49m\u001b[43m:\u001b[49m\u001b[43m \u001b[49m\u001b[43mtoken_struct\u001b[49m\u001b[43m}\u001b[49m\u001b[43m)\u001b[49m)\n",
      "\u001b[1;31mInterfaceError\u001b[0m: (pyodbc.InterfaceError) ('28000', '[28000] [Microsoft][ODBC Driver 18 for SQL Server][SQL Server]Login failed due to invalid authentication methods. (18456) (SQLDriverConnect); [28000] [Microsoft][ODBC Driver 18 for SQL Server][SQL Server]Login failed due to invalid authentication methods. (18456)')\n(Background on this error at: https://sqlalche.me/e/20/rvf5)"
     ]
    }
   ],
   "source": [
    "sql_df = pd.read_sql( \n",
    "    \"SELECT * FROM sys.objects\", \n",
    "    con=engine \n",
    ") "
   ]
  },
  {
   "cell_type": "code",
   "execution_count": 2,
   "metadata": {},
   "outputs": [],
   "source": [
    "import pandas as pd\n",
    "import sqlalchemy as sa\n",
    "import urllib\n",
    "import struct\n",
    "import requests\n",
    "import json"
   ]
  },
  {
   "cell_type": "code",
   "execution_count": 5,
   "metadata": {},
   "outputs": [],
   "source": [
    "def get_access_token():\n",
    "    \"\"\"It will create a access token to access the mail apis\"\"\"\n",
    "    app_id = os.getenv('client_id')\n",
    "    client_secret = os.getenv('client_secret')\n",
    "    directory_id = os.getenv('tenant_id')\n",
    "    token_url = \"https://login.microsoftonline.com/\"+directory_id+\"/oauth2/token\"\n",
    "    token_data = {\n",
    "    \"grant_type\": \"password\",\n",
    "    \"client_id\": app_id,\n",
    "    \"client_secret\": client_secret,\n",
    "    \"resource\": \"https://storage.azure.com/\",\n",
    "    \"scope\":\"https://graph.microsoft.com\",\n",
    "    \"username\": os.getenv('username'), \n",
    "    \"password\": os.getenv('password'),\n",
    "    }\n",
    "    token_headers={\n",
    "      \"Content-Type\":\"application/x-www-form-urlencoded\"\n",
    "    }\n",
    "    print(token_url)\n",
    "    token_response = requests.post(token_url,data=token_data,headers=token_headers)\n",
    "    token_response_dict = json.loads(token_response.text)\n",
    "    error_exists = checkKey(token_response_dict,\"error\")\n",
    "    #print(token_response.text)\n",
    "    if error_exists == True :\n",
    "      raise Exception(\"Error in getting in access token\") \n",
    "    else:\n",
    "      token = token_response_dict.get(\"access_token\")\n",
    "      refresh_token = token_response_dict.get(\"refresh_token\")\n",
    "      if token == None :\n",
    "        print(\"Unable to get access token\")\n",
    "        print(str(token_response_dict))\n",
    "        raise Exception(\"Error in getting in access token\")\n",
    "      elif refresh_token == None :\n",
    "        print(\"Unable to get refresh token\")\n",
    "        print(str(token_response_dict))\n",
    "        raise Exception(\"Error in getting in refresh token\")\n",
    "      else:\n",
    "        return token\n",
    "\n",
    "def checkKey(dict, key):\n",
    "    \"\"\"It will check the given key exists in the response dictionary and return True or False\"\"\"\n",
    "    if key in dict.keys():\n",
    "        # print(dict[key])\n",
    "        return True\n",
    "    else:\n",
    "        return False\n",
    "def checkKey(dict, key):\n",
    "    \"\"\"It will check the given key exists in the response dictionary and return True or False\"\"\"\n",
    "    if key in dict.keys():\n",
    "        # print(dict[key])\n",
    "        return True\n",
    "    else:\n",
    "        return False"
   ]
  },
  {
   "cell_type": "code",
   "execution_count": 13,
   "metadata": {},
   "outputs": [
    {
     "name": "stdout",
     "output_type": "stream",
     "text": [
      "https://login.microsoftonline.com/5cd64994-64c0-4c59-bca6-801527b1a508/oauth2/token\n"
     ]
    }
   ],
   "source": [
    "app_id = os.getenv('client_id')\n",
    "client_secret = os.getenv('client_secret')\n",
    "directory_id = '5cd64994-64c0-4c59-bca6-801527b1a508'\n",
    "token_url = \"https://login.microsoftonline.com/\"+directory_id+\"/oauth2/token\"\n",
    "token_data = {\n",
    "\"grant_type\": \"password\",\n",
    "\"client_id\": app_id,\n",
    "\"client_secret\": client_secret,\n",
    "\"resource\": \"https://storage.azure.com/\",\n",
    "\"scope\":\"https://graph.microsoft.com\",\n",
    "\"username\": os.getenv('user_name'), \n",
    "\"password\": os.getenv('password'),\n",
    "}\n",
    "token_headers={\n",
    "    \"Content-Type\":\"application/x-www-form-urlencoded\"\n",
    "}\n",
    "print(token_url)\n",
    "token_response = requests.post(token_url,data=token_data,headers=token_headers)"
   ]
  },
  {
   "cell_type": "code",
   "execution_count": 15,
   "metadata": {},
   "outputs": [
    {
     "data": {
      "text/plain": [
       "'{\"error\":\"interaction_required\",\"error_description\":\"AADSTS50076: Due to a configuration change made by your administrator, or because you moved to a new location, you must use multi-factor authentication to access \\'e406a681-f3d4-42a8-90b6-c2b029497af1\\'. Trace ID: 48d9ea91-0224-45a4-a746-82a04a549100 Correlation ID: 63eaacf5-f0f8-4412-9c17-b6a61168a005 Timestamp: 2024-10-25 09:35:50Z\",\"error_codes\":[50076],\"timestamp\":\"2024-10-25 09:35:50Z\",\"trace_id\":\"48d9ea91-0224-45a4-a746-82a04a549100\",\"correlation_id\":\"63eaacf5-f0f8-4412-9c17-b6a61168a005\",\"error_uri\":\"https://login.microsoftonline.com/error?code=50076\",\"suberror\":\"basic_action\"}'"
      ]
     },
     "execution_count": 15,
     "metadata": {},
     "output_type": "execute_result"
    }
   ],
   "source": [
    "token_response.text"
   ]
  }
 ],
 "metadata": {
  "kernelspec": {
   "display_name": ".venv",
   "language": "python",
   "name": "python3"
  },
  "language_info": {
   "codemirror_mode": {
    "name": "ipython",
    "version": 3
   },
   "file_extension": ".py",
   "mimetype": "text/x-python",
   "name": "python",
   "nbconvert_exporter": "python",
   "pygments_lexer": "ipython3",
   "version": "3.10.14"
  }
 },
 "nbformat": 4,
 "nbformat_minor": 2
}
