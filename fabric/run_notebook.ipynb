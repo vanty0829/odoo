{
 "cells": [
  {
   "cell_type": "code",
   "execution_count": 1,
   "metadata": {},
   "outputs": [],
   "source": [
    "from utils import *"
   ]
  },
  {
   "cell_type": "code",
   "execution_count": 3,
   "metadata": {},
   "outputs": [
    {
     "name": "stdout",
     "output_type": "stream",
     "text": [
      "https://login.microsoftonline.com/5cd64994-64c0-4c59-bca6-801527b1a508/oauth2/v2.0/authorize?client_id=80c581f3-02d7-4bbf-b371-8a61b80740ba&response_type=code&redirect_uri=http%3A%2F%2Flocalhost%2Fmyapp%2F&response_mode=query&scope=offline_access+https%3A%2F%2Fanalysis.windows.net%2Fpowerbi%2Fapi%2F.default&state=12345\n"
     ]
    }
   ],
   "source": [
    "print(get_code())"
   ]
  },
  {
   "cell_type": "code",
   "execution_count": 10,
   "metadata": {},
   "outputs": [],
   "source": [
    "access_token = get_token()"
   ]
  },
  {
   "cell_type": "code",
   "execution_count": 13,
   "metadata": {},
   "outputs": [],
   "source": [
    "import requests\n",
    "\n",
    "# Replace with your actual values\n",
    "workspace_id = 'bed78b83-ac16-4adc-a65a-257c9b99a3f6'\n",
    "artifact_id = '63ab9ff0-d6c2-4343-8f31-5ebc36fb769c'\n",
    "url = f'https://api.fabric.microsoft.com/v1/workspaces/{workspace_id}/items/{artifact_id}/jobs/instances?jobType=RunNotebook'\n",
    "\n",
    "# Optional: Set headers if required (e.g., for authentication)\n",
    "headers = {\n",
    "    'Authorization': f'Bearer {access_token}',  # Replace with your access token\n",
    "    'Content-Type': 'application/json'\n",
    "}\n",
    "\n",
    "# Make the POST request\n",
    "response = requests.post(url, headers=headers)"
   ]
  },
  {
   "cell_type": "code",
   "execution_count": 19,
   "metadata": {},
   "outputs": [
    {
     "data": {
      "text/plain": [
       "'Accepted'"
      ]
     },
     "execution_count": 19,
     "metadata": {},
     "output_type": "execute_result"
    }
   ],
   "source": [
    "response.id"
   ]
  }
 ],
 "metadata": {
  "kernelspec": {
   "display_name": ".venv",
   "language": "python",
   "name": "python3"
  },
  "language_info": {
   "codemirror_mode": {
    "name": "ipython",
    "version": 3
   },
   "file_extension": ".py",
   "mimetype": "text/x-python",
   "name": "python",
   "nbconvert_exporter": "python",
   "pygments_lexer": "ipython3",
   "version": "3.10.14"
  }
 },
 "nbformat": 4,
 "nbformat_minor": 2
}
