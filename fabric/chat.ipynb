{
 "cells": [
  {
   "cell_type": "code",
   "execution_count": 1,
   "metadata": {},
   "outputs": [],
   "source": [
    "from utils import *"
   ]
  },
  {
   "cell_type": "code",
   "execution_count": 7,
   "metadata": {},
   "outputs": [
    {
     "data": {
      "text/plain": [
       "'19:a82c74bf-ac97-446c-82bf-e23f893658f1_dc8e420f-b046-4aa3-a75c-cb2b4965bb3c@unq.gbl.spaces'"
      ]
     },
     "execution_count": 7,
     "metadata": {},
     "output_type": "execute_result"
    }
   ],
   "source": [
    "url = \"https://graph.microsoft.com/v1.0/chats\"\n",
    "\n",
    "# Define the headers\n",
    "headers = {\n",
    "    \"Content-Type\": \"application/json\",\n",
    "    \"Authorization\": \"Bearer \"+get_token('graph','client')  # Replace with your access token\n",
    "}\n",
    "\n",
    "# Define the payload\n",
    "payload = {\n",
    "    \"chatType\": \"oneOnOne\",\n",
    "    \"members\": [\n",
    "        {\n",
    "            \"@odata.type\": \"#microsoft.graph.aadUserConversationMember\",\n",
    "            \"roles\": [\"owner\"],\n",
    "            \"user@odata.bind\": \"https://graph.microsoft.com/v1.0/users('dc8e420f-b046-4aa3-a75c-cb2b4965bb3c')\"\n",
    "        },\n",
    "        {\n",
    "            \"@odata.type\": \"#microsoft.graph.aadUserConversationMember\",\n",
    "            \"roles\": [\"owner\"],\n",
    "            \"user@odata.bind\": \"https://graph.microsoft.com/v1.0/users('a82c74bf-ac97-446c-82bf-e23f893658f1')\"\n",
    "        }\n",
    "    ]\n",
    "}\n",
    "\n",
    "# Make the POST request\n",
    "response = requests.post(url, headers=headers, data=json.dumps(payload))\n",
    "response.json()['id']\n"
   ]
  },
  {
   "cell_type": "code",
   "execution_count": 14,
   "metadata": {},
   "outputs": [],
   "source": [
    "chat_id = response.json()['id']"
   ]
  },
  {
   "cell_type": "code",
   "execution_count": 4,
   "metadata": {},
   "outputs": [],
   "source": [
    "chat_id ='19:a82c74bf-ac97-446c-82bf-e23f893658f1_dc8e420f-b046-4aa3-a75c-cb2b4965bb3c@unq.gbl.spaces'"
   ]
  },
  {
   "cell_type": "code",
   "execution_count": 5,
   "metadata": {},
   "outputs": [],
   "source": [
    "url = f\"https://graph.microsoft.com/v1.0/chats/{chat_id}/messages\"\n",
    "\n",
    "# Define the headers\n",
    "headers = {\n",
    "    \"Content-Type\": \"application/json\",\n",
    "    \"Authorization\": \"Bearer \"+get_token('graph','code') \n",
    "}\n",
    "\n",
    "# Define the payload\n",
    "payload = {\n",
    "    \"body\": {\n",
    "        \"content\": \"Hello world\"\n",
    "    }\n",
    "}\n",
    "\n",
    "# Make the POST request\n",
    "response = requests.post(url, headers=headers, data=json.dumps(payload))"
   ]
  },
  {
   "cell_type": "code",
   "execution_count": 6,
   "metadata": {},
   "outputs": [
    {
     "data": {
      "text/plain": [
       "'{\"@odata.context\":\"https://graph.microsoft.com/v1.0/$metadata#chats(\\'19%3Aa82c74bf-ac97-446c-82bf-e23f893658f1_dc8e420f-b046-4aa3-a75c-cb2b4965bb3c%40unq.gbl.spaces\\')/messages/$entity\",\"id\":\"1730255139078\",\"replyToId\":null,\"etag\":\"1730255139078\",\"messageType\":\"message\",\"createdDateTime\":\"2024-10-30T02:25:39.078Z\",\"lastModifiedDateTime\":\"2024-10-30T02:25:39.078Z\",\"lastEditedDateTime\":null,\"deletedDateTime\":null,\"subject\":null,\"summary\":null,\"chatId\":\"19:a82c74bf-ac97-446c-82bf-e23f893658f1_dc8e420f-b046-4aa3-a75c-cb2b4965bb3c@unq.gbl.spaces\",\"importance\":\"normal\",\"locale\":\"en-us\",\"webUrl\":null,\"channelIdentity\":null,\"policyViolation\":null,\"eventDetail\":null,\"from\":{\"application\":null,\"device\":null,\"user\":{\"@odata.type\":\"#microsoft.graph.teamworkUserIdentity\",\"id\":\"dc8e420f-b046-4aa3-a75c-cb2b4965bb3c\",\"displayName\":\"TY LE\",\"userIdentityType\":\"aadUser\",\"tenantId\":\"5cd64994-64c0-4c59-bca6-801527b1a508\"}},\"body\":{\"contentType\":\"text\",\"content\":\"Hello world\"},\"attachments\":[],\"mentions\":[],\"reactions\":[]}'"
      ]
     },
     "execution_count": 6,
     "metadata": {},
     "output_type": "execute_result"
    }
   ],
   "source": [
    "response.text"
   ]
  },
  {
   "cell_type": "code",
   "execution_count": 2,
   "metadata": {},
   "outputs": [
    {
     "name": "stdout",
     "output_type": "stream",
     "text": [
      "https://login.microsoftonline.com/5cd64994-64c0-4c59-bca6-801527b1a508/oauth2/v2.0/authorize?client_id=80c581f3-02d7-4bbf-b371-8a61b80740ba&response_type=code&redirect_uri=http%3A%2F%2Flocalhost%2Fmyapp%2F&response_mode=query&scope=offline_access+https%3A%2F%2Fgraph.microsoft.com%2F.default&state=12345\n"
     ]
    }
   ],
   "source": [
    "print(get_code('graph'))"
   ]
  },
  {
   "cell_type": "code",
   "execution_count": 3,
   "metadata": {},
   "outputs": [],
   "source": [
    "code = '0.AcYAlEnWXMBkWUy8poAVJ7GlCPOBxYDXAr9Ls3GKYbgHQLrGAK0.AgABBAIAAADW6jl31mB3T7ugrWTT8pFeAwDs_wUA9P-E1VbfJ0TWM6IGez5vqdjhdZQseICo5vwe428kbh-HfU7MWN_j-MbJDu8o1YE8mFApYqOHDIdJ9L8HEQ2SHnH4QmB8C4vE91BZ_kv2S1BfoI4gN02CQQKeGu38SeJbgyYcodlPuogJNqFGQY-AChHBCd6lOJv1KNetVb7aahM7kzaX4wn976Bym3aWAnJNcWoKPkB40xv2cn07A-kueJ4097nvwHjTLJBsLvoHYwKBRqiqYgPVZGpC6qPL_TLa2-nQ3zO6H0CiURvEDx0MokxTOpZzpSpBxmtui2lw8AsApKwVwC5Rub-MvWI3p9h0mqOj2Cp5wFc9Y2rTUPt520wj1VrScGZTuGQ1zoS1rknk841VsNkv7IXGz0Xjrim0h5Rx9MbAHLPy0EN66qNx-n5lvEupj1QPx1WWO2_M_gl__REaeu_8aKSKoaDqo0O0HOPxHEYr80JjeQii5Zl1BY7u_oesyiwK2yogU0KcWQAdu5UKqcCrA5ovWnlvdBSp_AFgKAraWAKsJTUjoaW4xLAYdlXMwlrF3BFWpXxcHUax2ZEdqPEKwKAMpPn-dvzyqJ6c7S9ye5GKIjLLY57jrx2d-4L7T1JJsJrmWQyvAK_pgSYDyLK9noIv-Gll5E2I9muBzygJdPNjM6ed15Y948pDAqLjcdNrUBtutEzEOT97XgX2ds9TVvIllOz-I3yFbuLfs1eZZOO-hEPJErJD5Q'"
   ]
  },
  {
   "cell_type": "code",
   "execution_count": 2,
   "metadata": {},
   "outputs": [
    {
     "data": {
      "text/plain": [
       "'eyJ0eXAiOiJKV1QiLCJub25jZSI6Im9jVFctcW5kN1ZBQ3MtTlNyVGxjdzIxZi1QQ3JCWXZwREk3RDB2enBlckEiLCJhbGciOiJSUzI1NiIsIng1dCI6IjNQYUs0RWZ5Qk5RdTNDdGpZc2EzWW1oUTVFMCIsImtpZCI6IjNQYUs0RWZ5Qk5RdTNDdGpZc2EzWW1oUTVFMCJ9.eyJhdWQiOiJodHRwczovL2dyYXBoLm1pY3Jvc29mdC5jb20iLCJpc3MiOiJodHRwczovL3N0cy53aW5kb3dzLm5ldC81Y2Q2NDk5NC02NGMwLTRjNTktYmNhNi04MDE1MjdiMWE1MDgvIiwiaWF0IjoxNzMwMjU0NzkyLCJuYmYiOjE3MzAyNTQ3OTIsImV4cCI6MTczMDI1ODg2MywiYWNjdCI6MCwiYWNyIjoiMSIsImFpbyI6IkFWUUFxLzhZQUFBQTdCTHhOTUl6RytqWS8wbjAyQk5VTXJhRnV4bW5QUEpLQkVPaGhpREp5ZENKM0FQS0QrQ2crRzFEZGE3ak9uWjhkR3BFUWlkMkdYeXFqYlFLSW53b1hkRGZxbmgrZCtUQnVJWFZSbkVhKzhVPSIsImFtciI6WyJwd2QiLCJtZmEiXSwiYXBwX2Rpc3BsYXluYW1lIjoiZmFicmljYXBwIiwiYXBwaWQiOiI4MGM1ODFmMy0wMmQ3LTRiYmYtYjM3MS04YTYxYjgwNzQwYmEiLCJhcHBpZGFjciI6IjEiLCJmYW1pbHlfbmFtZSI6IkxFIiwiZ2l2ZW5fbmFtZSI6IlRZIiwiaWR0eXAiOiJ1c2VyIiwiaXBhZGRyIjoiMTEzLjE2MS4zOS4xNDMiLCJuYW1lIjoiVFkgTEUiLCJvaWQiOiJkYzhlNDIwZi1iMDQ2LTRhYTMtYTc1Yy1jYjJiNDk2NWJiM2MiLCJwbGF0ZiI6IjMiLCJwdWlkIjoiMTAwMzIwMDNCMkU3OEZEMiIsInJoIjoiMC5BY1lBbEVuV1hNQmtXVXk4cG9BVko3R2xDQU1BQUFBQUFBQUF3QUFBQUFBQUFBREdBSzAuIiwic2NwIjoiQ2hhdE1lc3NhZ2UuU2VuZCBVc2VyLlJlYWQgcHJvZmlsZSBvcGVuaWQgZW1haWwiLCJzaWduaW5fc3RhdGUiOlsia21zaSJdLCJzdWIiOiJtQWFYcEhHa0FwSDRLVFNBLXdwdXNDZ2NXUW5Ic2pGSE9haUJ6UnlNc0RRIiwidGVuYW50X3JlZ2lvbl9zY29wZSI6IkFTIiwidGlkIjoiNWNkNjQ5OTQtNjRjMC00YzU5LWJjYTYtODAxNTI3YjFhNTA4IiwidW5pcXVlX25hbWUiOiJ0eS5sZUBkYXRhdmVyc2UuY29tLnZuIiwidXBuIjoidHkubGVAZGF0YXZlcnNlLmNvbS52biIsInV0aSI6IjZfZk5keGI3REVTamxyM0ZLbEJEQUEiLCJ2ZXIiOiIxLjAiLCJ3aWRzIjpbIjYyZTkwMzk0LTY5ZjUtNDIzNy05MTkwLTAxMjE3NzE0NWUxMCIsImI3OWZiZjRkLTNlZjktNDY4OS04MTQzLTc2YjE5NGU4NTUwOSJdLCJ4bXNfaWRyZWwiOiIxIDI4IiwieG1zX3N0Ijp7InN1YiI6IkJ6WlhNdFRySHhSMzBDMTJPZXJvR0g4bGxCLWNkTGxEZThGY3dmX0FKWGcifSwieG1zX3RjZHQiOjE3MjM0MzQzOTl9.hPzHznDPJFSi1wZ-fo1s6m_UaszJapxpgi1bgBnVfJ5q7loW6Bx3RdlGYpV4kCqVCEDkbFtYpy1ASYsYVO9Ay5BbjIOT_QtLX1mkJuVOz-cT7PAeJgdMbnMNYZQqnK7mFBRTF_4gvf7F526HGcxalKfVAQ04D4OfSqLOT-gcfL6RFrVhgEVlcx-j3EuuuyuI22l2Udz2DdRTuIYXsvNqUPEuzYKRDrF7FGbu9mwk-XifvTsTclcA4xX6vYoI_tmqNawuy1GpDGTxyWzozbwPA1G3uIdzfnNej7gyLPwxrxjs0euC_W9BNxyb9R_nvlPYBzOSzb23EcHLYiqq4mvS5Q'"
      ]
     },
     "execution_count": 2,
     "metadata": {},
     "output_type": "execute_result"
    }
   ],
   "source": [
    "get_token('graph','code')"
   ]
  },
  {
   "cell_type": "code",
   "execution_count": 3,
   "metadata": {},
   "outputs": [
    {
     "data": {
      "text/plain": [
       "'19:a82c74bf-ac97-446c-82bf-e23f893658f1_dc8e420f-b046-4aa3-a75c-cb2b4965bb3c@unq.gbl.spaces'"
      ]
     },
     "execution_count": 3,
     "metadata": {},
     "output_type": "execute_result"
    }
   ],
   "source": [
    "get_chat_id(['ty.le@dataverse.com.vn','the.nguyen@dataverse.com.vn'])"
   ]
  },
  {
   "cell_type": "code",
   "execution_count": 17,
   "metadata": {},
   "outputs": [],
   "source": [
    "payload = {\n",
    "    \"subject\": None,\n",
    "    \"body\": {\n",
    "        \"contentType\": \"html\",\n",
    "        \"content\": \"<attachment id=\\\"74d20c7f34aa4a7fb74e2b30004247c5\\\"></attachment>\"\n",
    "    },\n",
    "    \"attachments\": [{\n",
    "        \"id\": \"74d20c7f34aa4a7fb74e2b30004247c5\",\n",
    "        \"contentType\": \"application/vnd.microsoft.card.adaptive\",\n",
    "        \"contentUrl\": None,\n",
    "        \"content\": json.dumps({\n",
    "            \"$schema\": \"http://adaptivecards.io/schemas/adaptive-card.json\",\n",
    "            \"type\": \"AdaptiveCard\",\n",
    "            \"version\": \"1.2\",\n",
    "            \"speak\": \"The Seattle Seahawks beat the Carolina Panthers 40-7\",\n",
    "            \"body\": [{\n",
    "                \"type\": \"Container\",\n",
    "                \"items\": [{\n",
    "                    \"type\": \"ColumnSet\",\n",
    "                    \"columns\": [{\n",
    "                        \"type\": \"Column\",\n",
    "                        \"width\": \"auto\",\n",
    "                        \"items\": [{\n",
    "                            \"type\": \"Image\",\n",
    "                            \"url\": \"../hostedContents/1/$value\",\n",
    "                            \"size\": \"Medium\"\n",
    "                        }, {\n",
    "                            \"type\": \"TextBlock\",\n",
    "                            \"text\": \"SHADES\",\n",
    "                            \"horizontalAlignment\": \"Center\",\n",
    "                            \"weight\": \"Bolder\"\n",
    "                        }]\n",
    "                    }, {\n",
    "                        \"type\": \"Column\",\n",
    "                        \"width\": \"stretch\",\n",
    "                        \"separator\": True,\n",
    "                        \"spacing\": \"Medium\",\n",
    "                        \"items\": [{\n",
    "                            \"type\": \"TextBlock\",\n",
    "                            \"text\": \"2019-08-31T19:30:00Z\",\n",
    "                            \"horizontalAlignment\": \"Center\"\n",
    "                        }, {\n",
    "                            \"type\": \"TextBlock\",\n",
    "                            \"text\": \"Final\",\n",
    "                            \"spacing\": \"None\",\n",
    "                            \"horizontalAlignment\": \"Center\"\n",
    "                        }, {\n",
    "                            \"type\": \"TextBlock\",\n",
    "                            \"text\": \"40 - 7\",\n",
    "                            \"size\": \"ExtraLarge\",\n",
    "                            \"horizontalAlignment\": \"Center\"\n",
    "                        }]\n",
    "                    }, {\n",
    "                        \"type\": \"Column\",\n",
    "                        \"width\": \"auto\",\n",
    "                        \"separator\": True,\n",
    "                        \"spacing\": \"Medium\",\n",
    "                        \"items\": [{\n",
    "                            \"type\": \"Image\",\n",
    "                            \"url\": \"../hostedContents/2/$value\",\n",
    "                            \"size\": \"Medium\",\n",
    "                            \"horizontalAlignment\": \"Center\"\n",
    "                        }, {\n",
    "                            \"type\": \"TextBlock\",\n",
    "                            \"text\": \"SKINS\",\n",
    "                            \"horizontalAlignment\": \"Center\",\n",
    "                            \"weight\": \"Bolder\"\n",
    "                        }]\n",
    "                    }]\n",
    "                }]\n",
    "            }]\n",
    "        }),\n",
    "        \"name\": None,\n",
    "        \"thumbnailUrl\": None\n",
    "    }],\n",
    "    \"hostedContents\": [{\n",
    "        \"@microsoft.graph.temporaryId\": \"1\",\n",
    "        \"contentBytes\": \"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\",\n",
    "        \"contentType\": \"image/png\"\n",
    "    }, {\n",
    "        \"@microsoft.graph.temporaryId\": \"2\",\n",
    "        \"contentBytes\": \"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\",\n",
    "        \"contentType\": \"image/png\"\n",
    "    }]\n",
    "}"
   ]
  },
  {
   "cell_type": "code",
   "execution_count": 19,
   "metadata": {},
   "outputs": [
    {
     "data": {
      "text/plain": [
       "{'@odata.context': \"https://graph.microsoft.com/v1.0/$metadata#chats('19%3Aa82c74bf-ac97-446c-82bf-e23f893658f1_dc8e420f-b046-4aa3-a75c-cb2b4965bb3c%40unq.gbl.spaces')/messages/$entity\",\n",
       " 'id': '1730257727909',\n",
       " 'replyToId': None,\n",
       " 'etag': '1730257727909',\n",
       " 'messageType': 'message',\n",
       " 'createdDateTime': '2024-10-30T03:08:47.909Z',\n",
       " 'lastModifiedDateTime': '2024-10-30T03:08:47.909Z',\n",
       " 'lastEditedDateTime': None,\n",
       " 'deletedDateTime': None,\n",
       " 'subject': None,\n",
       " 'summary': None,\n",
       " 'chatId': '19:a82c74bf-ac97-446c-82bf-e23f893658f1_dc8e420f-b046-4aa3-a75c-cb2b4965bb3c@unq.gbl.spaces',\n",
       " 'importance': 'normal',\n",
       " 'locale': 'en-us',\n",
       " 'webUrl': None,\n",
       " 'channelIdentity': None,\n",
       " 'policyViolation': None,\n",
       " 'eventDetail': None,\n",
       " 'from': {'application': None,\n",
       "  'device': None,\n",
       "  'user': {'@odata.type': '#microsoft.graph.teamworkUserIdentity',\n",
       "   'id': 'dc8e420f-b046-4aa3-a75c-cb2b4965bb3c',\n",
       "   'displayName': 'TY LE',\n",
       "   'userIdentityType': 'aadUser',\n",
       "   'tenantId': '5cd64994-64c0-4c59-bca6-801527b1a508'}},\n",
       " 'body': {'contentType': 'html',\n",
       "  'content': '<attachment id=\"74d20c7f34aa4a7fb74e2b30004247c5\"></attachment>'},\n",
       " 'attachments': [{'id': '74d20c7f34aa4a7fb74e2b30004247c5',\n",
       "   'contentType': 'application/vnd.microsoft.card.adaptive',\n",
       "   'contentUrl': None,\n",
       "   'content': '{\\r\\n  \"type\": \"AdaptiveCard\",\\r\\n  \"body\": [\\r\\n    {\\r\\n      \"items\": [\\r\\n        {\\r\\n          \"columns\": [\\r\\n            {\\r\\n              \"width\": \"auto\",\\r\\n              \"items\": [\\r\\n                {\\r\\n                  \"size\": \"medium\",\\r\\n                  \"url\": \"https://graph.microsoft.com/v1.0/chats/19:a82c74bf-ac97-446c-82bf-e23f893658f1_dc8e420f-b046-4aa3-a75c-cb2b4965bb3c@unq.gbl.spaces/messages/1730257727909/hostedContents/aWQ9LHR5cGU9MSx1cmw9aHR0cHM6Ly9hcy1hcGkuYXNtLnNreXBlLmNvbS92MS9vYmplY3RzLzAtamhiLWQ4LWQ4ZDMwNDk2OTRmMWE0NTQwZDMxNGJkZjFjMmEwNzBiL3ZpZXdzL2ltZ3BzaF9mdWxsc2l6ZQ==/$value\",\\r\\n                  \"height\": \"auto\",\\r\\n                  \"type\": \"Image\"\\r\\n                },\\r\\n                {\\r\\n                  \"horizontalAlignment\": \"center\",\\r\\n                  \"text\": \"SHADES\",\\r\\n                  \"weight\": \"bolder\",\\r\\n                  \"type\": \"TextBlock\"\\r\\n                }\\r\\n              ],\\r\\n              \"type\": \"Column\"\\r\\n            },\\r\\n            {\\r\\n              \"width\": \"stretch\",\\r\\n              \"items\": [\\r\\n                {\\r\\n                  \"horizontalAlignment\": \"center\",\\r\\n                  \"text\": \"08/31/2019 19:30:00\",\\r\\n                  \"type\": \"TextBlock\"\\r\\n                },\\r\\n                {\\r\\n                  \"horizontalAlignment\": \"center\",\\r\\n                  \"text\": \"Final\",\\r\\n                  \"spacing\": \"None\",\\r\\n                  \"type\": \"TextBlock\"\\r\\n                },\\r\\n                {\\r\\n                  \"horizontalAlignment\": \"center\",\\r\\n                  \"size\": \"extraLarge\",\\r\\n                  \"text\": \"40 - 7\",\\r\\n                  \"type\": \"TextBlock\"\\r\\n                }\\r\\n              ],\\r\\n              \"spacing\": \"Medium\",\\r\\n              \"separator\": true,\\r\\n              \"type\": \"Column\"\\r\\n            },\\r\\n            {\\r\\n              \"width\": \"auto\",\\r\\n              \"items\": [\\r\\n                {\\r\\n                  \"horizontalAlignment\": \"center\",\\r\\n                  \"size\": \"medium\",\\r\\n                  \"url\": \"https://graph.microsoft.com/v1.0/chats/19:a82c74bf-ac97-446c-82bf-e23f893658f1_dc8e420f-b046-4aa3-a75c-cb2b4965bb3c@unq.gbl.spaces/messages/1730257727909/hostedContents/aWQ9LHR5cGU9MSx1cmw9aHR0cHM6Ly9hcy1hcGkuYXNtLnNreXBlLmNvbS92MS9vYmplY3RzLzAtamhiLWQyLWJhMDYxNjM1YjY5NTJlNDNjZDA2ODk2MTUwNzZiOTQxL3ZpZXdzL2ltZ3BzaF9mdWxsc2l6ZQ==/$value\",\\r\\n                  \"height\": \"auto\",\\r\\n                  \"type\": \"Image\"\\r\\n                },\\r\\n                {\\r\\n                  \"horizontalAlignment\": \"center\",\\r\\n                  \"text\": \"SKINS\",\\r\\n                  \"weight\": \"bolder\",\\r\\n                  \"type\": \"TextBlock\"\\r\\n                }\\r\\n              ],\\r\\n              \"spacing\": \"Medium\",\\r\\n              \"separator\": true,\\r\\n              \"type\": \"Column\"\\r\\n            }\\r\\n          ],\\r\\n          \"type\": \"ColumnSet\"\\r\\n        }\\r\\n      ],\\r\\n      \"type\": \"Container\"\\r\\n    }\\r\\n  ],\\r\\n  \"speak\": \"The Seattle Seahawks beat the Carolina Panthers 40-7\",\\r\\n  \"$schema\": \"http://adaptivecards.io/schemas/adaptive-card.json\",\\r\\n  \"version\": \"1.2\"\\r\\n}',\n",
       "   'name': None,\n",
       "   'thumbnailUrl': None,\n",
       "   'teamsAppId': None}],\n",
       " 'mentions': [],\n",
       " 'reactions': []}"
      ]
     },
     "execution_count": 19,
     "metadata": {},
     "output_type": "execute_result"
    }
   ],
   "source": [
    "send_message('the.nguyen@dataverse.com.vn',payload)"
   ]
  },
  {
   "cell_type": "code",
   "execution_count": 10,
   "metadata": {},
   "outputs": [],
   "source": [
    "def replace(template: dict, data:dict):\n",
    "        import re\n",
    "        str_temp = json.dumps(template)\n",
    "        for key in data:\n",
    "            pattern = \"\\${\"+key+\"}\"\n",
    "            str_temp = re.sub(pattern, str(data[key]),str_temp)        \n",
    "        return json.loads(str_temp)"
   ]
  },
  {
   "cell_type": "code",
   "execution_count": 6,
   "metadata": {},
   "outputs": [],
   "source": [
    "data= {\n",
    "  \"title\": \"Publish Adaptive Card Schema\",\n",
    "  \"description\": \"Now that we have defined the main rules and features of the format, we need to produce a schema and publish it to GitHub. The schema will be the starting point of our reference documentation.\",\n",
    "  \"creator\": {\n",
    "    \"name\": \"Matt Hidinger\",\n",
    "    \"profileImage\": \"https://pbs.twimg.com/profile_images/3647943215/d7f12830b3c17a5a9e4afcc370e3a37e_400x400.jpeg\"\n",
    "  },\n",
    "  \"createdUtc\": \"2017-02-14T06:08:39Z\",\n",
    "  \"viewUrl\": \"https://adaptivecards.io\",\n",
    "  \"properties\": [\n",
    "    { \"key\": \"Board\", \"value\": \"Adaptive Cards\" },\n",
    "    { \"key\": \"List\", \"value\": \"Backlog\" },\n",
    "    { \"key\": \"Assigned to\", \"value\": \"Matt Hidinger\" },\n",
    "    { \"key\": \"Due date\", \"value\": \"Not set\" }\n",
    "  ]\n",
    "}\n"
   ]
  },
  {
   "cell_type": "code",
   "execution_count": 8,
   "metadata": {},
   "outputs": [],
   "source": [
    "template = {\n",
    "  \"type\": \"AdaptiveCard\",\n",
    "  \"body\": [\n",
    "    {\n",
    "      \"type\": \"TextBlock\",\n",
    "      \"size\": \"medium\",\n",
    "      \"weight\": \"bolder\",\n",
    "      \"text\": \"${title}\",\n",
    "      \"style\": \"heading\",\n",
    "      \"wrap\": 1\n",
    "    },\n",
    "    {\n",
    "      \"type\": \"ColumnSet\",\n",
    "      \"columns\": [\n",
    "        {\n",
    "          \"type\": \"Column\",\n",
    "          \"items\": [\n",
    "            {\n",
    "              \"type\": \"Image\",\n",
    "              \"style\": \"person\",\n",
    "              \"url\": \"${creator.profileImage}\",\n",
    "              \"altText\": \"${creator.name}\",\n",
    "              \"size\": \"small\"\n",
    "            }\n",
    "          ],\n",
    "          \"width\": \"auto\"\n",
    "        },\n",
    "        {\n",
    "          \"type\": \"Column\",\n",
    "          \"items\": [\n",
    "            {\n",
    "              \"type\": \"TextBlock\",\n",
    "              \"weight\": \"bolder\",\n",
    "              \"text\": \"${creator.name}\",\n",
    "              \"wrap\": 1\n",
    "            },\n",
    "            {\n",
    "              \"type\": \"TextBlock\",\n",
    "              \"spacing\": \"none\",\n",
    "              \"text\": \"Created {{DATE(${string(createdUtc)}, SHORT)}}\",\n",
    "              \"isSubtle\": 1,\n",
    "              \"wrap\": 1\n",
    "            }\n",
    "          ],\n",
    "          \"width\": \"stretch\"\n",
    "        }\n",
    "      ]\n",
    "    },\n",
    "    {\n",
    "      \"type\": \"TextBlock\",\n",
    "      \"text\": \"${description}\",\n",
    "      \"wrap\": 1\n",
    "    },\n",
    "    {\n",
    "      \"type\": \"FactSet\",\n",
    "      \"facts\": [\n",
    "        {\n",
    "          \"$data\": \"${properties}\",\n",
    "          \"title\": \"${key}:\",\n",
    "          \"value\": \"${value}\"\n",
    "        }\n",
    "      ]\n",
    "    }\n",
    "  ],\n",
    "  \"actions\": [\n",
    "    {\n",
    "      \"type\": \"Action.ShowCard\",\n",
    "      \"title\": \"Set due date\",\n",
    "      \"card\": {\n",
    "        \"type\": \"AdaptiveCard\",\n",
    "        \"body\": [\n",
    "          {\n",
    "            \"type\": \"Input.Date\",\n",
    "            \"label\": \"Enter the due date\",\n",
    "            \"id\": \"dueDate\"\n",
    "          },\n",
    "          {\n",
    "            \"type\": \"Input.Text\",\n",
    "            \"id\": \"comment\",\n",
    "            \"isMultiline\": 1,\n",
    "            \"label\": \"Add a comment\"\n",
    "          }\n",
    "        ],\n",
    "        \"actions\": [\n",
    "          {\n",
    "            \"type\": \"Action.Submit\",\n",
    "            \"title\": \"OK\"\n",
    "          }\n",
    "        ],\n",
    "        \"$schema\": \"http://adaptivecards.io/schemas/adaptive-card.json\"\n",
    "      }\n",
    "    },\n",
    "    {\n",
    "      \"type\": \"Action.OpenUrl\",\n",
    "      \"title\": \"View\",\n",
    "      \"url\": \"${viewUrl}\",\n",
    "      \"role\": \"button\"\n",
    "    }\n",
    "  ],\n",
    "  \"$schema\": \"http://adaptivecards.io/schemas/adaptive-card.json\",\n",
    "  \"version\": \"1.5\"\n",
    "}\n"
   ]
  },
  {
   "cell_type": "code",
   "execution_count": 20,
   "metadata": {},
   "outputs": [
    {
     "name": "stdout",
     "output_type": "stream",
     "text": [
      "Collecting adaptivecardbuilderNote: you may need to restart the kernel to use updated packages.\n",
      "\n",
      "  Downloading adaptivecardbuilder-0.0.9-py3-none-any.whl (13 kB)\n",
      "Collecting aiohttp\n",
      "  Downloading aiohttp-3.10.10-cp310-cp310-win_amd64.whl (381 kB)\n",
      "     ---------------------------------------- 0.0/381.1 kB ? eta -:--:--\n",
      "     - -------------------------------------- 10.2/381.1 kB ? eta -:--:--\n",
      "     --- --------------------------------- 41.0/381.1 kB 487.6 kB/s eta 0:00:01\n",
      "     ---------------- --------------------- 163.8/381.1 kB 1.4 MB/s eta 0:00:01\n",
      "     ------------------------------ ------- 307.2/381.1 kB 1.9 MB/s eta 0:00:01\n",
      "     -------------------------------------- 381.1/381.1 kB 2.0 MB/s eta 0:00:00\n",
      "Collecting yarl<2.0,>=1.12.0\n",
      "  Downloading yarl-1.17.0-cp310-cp310-win_amd64.whl (89 kB)\n",
      "     ---------------------------------------- 0.0/89.5 kB ? eta -:--:--\n",
      "     ---------------------------------------- 89.5/89.5 kB 2.6 MB/s eta 0:00:00\n",
      "Collecting async-timeout<5.0,>=4.0\n",
      "  Using cached async_timeout-4.0.3-py3-none-any.whl (5.7 kB)\n",
      "Collecting frozenlist>=1.1.1\n",
      "  Downloading frozenlist-1.5.0-cp310-cp310-win_amd64.whl (51 kB)\n",
      "     ---------------------------------------- 0.0/51.6 kB ? eta -:--:--\n",
      "     ---------------------------------------- 51.6/51.6 kB 2.8 MB/s eta 0:00:00\n",
      "Requirement already satisfied: attrs>=17.3.0 in c:\\users\\vanty\\downloads\\odoo\\.venv\\lib\\site-packages (from aiohttp->adaptivecardbuilder) (24.2.0)\n",
      "Collecting aiosignal>=1.1.2\n",
      "  Using cached aiosignal-1.3.1-py3-none-any.whl (7.6 kB)\n",
      "Collecting multidict<7.0,>=4.5\n",
      "  Downloading multidict-6.1.0-cp310-cp310-win_amd64.whl (28 kB)\n",
      "Collecting aiohappyeyeballs>=2.3.0\n",
      "  Downloading aiohappyeyeballs-2.4.3-py3-none-any.whl (14 kB)\n",
      "Requirement already satisfied: typing-extensions>=4.1.0 in c:\\users\\vanty\\downloads\\odoo\\.venv\\lib\\site-packages (from multidict<7.0,>=4.5->aiohttp->adaptivecardbuilder) (4.12.2)\n",
      "Collecting propcache>=0.2.0\n",
      "  Downloading propcache-0.2.0-cp310-cp310-win_amd64.whl (44 kB)\n",
      "     ---------------------------------------- 0.0/45.0 kB ? eta -:--:--\n",
      "     ---------------------------------------- 45.0/45.0 kB 2.2 MB/s eta 0:00:00\n",
      "Requirement already satisfied: idna>=2.0 in c:\\users\\vanty\\downloads\\odoo\\.venv\\lib\\site-packages (from yarl<2.0,>=1.12.0->aiohttp->adaptivecardbuilder) (2.10)\n",
      "Installing collected packages: propcache, multidict, frozenlist, async-timeout, aiohappyeyeballs, yarl, aiosignal, aiohttp, adaptivecardbuilder\n",
      "Successfully installed adaptivecardbuilder-0.0.9 aiohappyeyeballs-2.4.3 aiohttp-3.10.10 aiosignal-1.3.1 async-timeout-4.0.3 frozenlist-1.5.0 multidict-6.1.0 propcache-0.2.0 yarl-1.17.0\n"
     ]
    },
    {
     "name": "stderr",
     "output_type": "stream",
     "text": [
      "\n",
      "[notice] A new release of pip is available: 23.0.1 -> 24.2\n",
      "[notice] To update, run: python.exe -m pip install --upgrade pip\n"
     ]
    }
   ],
   "source": [
    "pip install adaptivecardbuilder"
   ]
  },
  {
   "cell_type": "code",
   "execution_count": 23,
   "metadata": {},
   "outputs": [],
   "source": [
    "from adaptivecardbuilder import *\n",
    "card = AdaptiveCard()\n",
    "\n",
    "# Add a list of elements\n",
    "card.add([\n",
    "    TextBlock(\"Top Level\"),\n",
    "    ColumnSet(),\n",
    "        Column(),\n",
    "            TextBlock(\"Column 1 Top Item\"),\n",
    "            TextBlock(\"Column 1 Second Item\"),\n",
    "            \"<\",\n",
    "        Column(),\n",
    "            TextBlock(\"Column 2 Top Item\"),\n",
    "            TextBlock(\"Column 2 Second Item\"),\n",
    "            \"<\",\n",
    "        \"<\",\n",
    "    TextBlock(\"Lowest Level\"),\n",
    "\n",
    "    ActionOpenUrl(title=\"View Website\", url=\"someurl.com\"),\n",
    "    ActionShowCard(title=\"Click to Comment\"),\n",
    "        InputText(ID=\"comment\", placeholder=\"Type Here\"),\n",
    "        ActionSubmit(title=\"Submit Comment\")\n",
    "])\n",
    "\n",
    "template = await card.to_json()"
   ]
  },
  {
   "cell_type": "code",
   "execution_count": 25,
   "metadata": {},
   "outputs": [],
   "source": [
    "payload = {\n",
    "    \"subject\": None,\n",
    "    \"body\": {\n",
    "        \"contentType\": \"html\",\n",
    "        \"content\": \"<attachment id=\\\"74d20c7f34aa4a7fb74e2b30004247c5\\\"></attachment>\"\n",
    "    },\n",
    "    \"attachments\": [{\n",
    "        \"id\": \"74d20c7f34aa4a7fb74e2b30004247c5\",\n",
    "        \"contentType\": \"application/vnd.microsoft.card.adaptive\",\n",
    "        \"contentUrl\": None,\n",
    "        \"content\": template,\n",
    "        \"name\": None,\n",
    "        \"thumbnailUrl\": None\n",
    "    }],\n",
    "}"
   ]
  },
  {
   "cell_type": "code",
   "execution_count": 27,
   "metadata": {},
   "outputs": [
    {
     "ename": "TypeError",
     "evalue": "object dict can't be used in 'await' expression",
     "output_type": "error",
     "traceback": [
      "\u001b[1;31m---------------------------------------------------------------------------\u001b[0m",
      "\u001b[1;31mTypeError\u001b[0m                                 Traceback (most recent call last)",
      "Cell \u001b[1;32mIn[27], line 1\u001b[0m\n\u001b[1;32m----> 1\u001b[0m \u001b[38;5;28;01mawait\u001b[39;00m send_message(\u001b[38;5;124m'\u001b[39m\u001b[38;5;124mthe.nguyen@dataverse.com.vn\u001b[39m\u001b[38;5;124m'\u001b[39m,payload)\n",
      "\u001b[1;31mTypeError\u001b[0m: object dict can't be used in 'await' expression"
     ]
    }
   ],
   "source": [
    "send_message('the.nguyen@dataverse.com.vn',payload)"
   ]
  },
  {
   "cell_type": "code",
   "execution_count": 11,
   "metadata": {},
   "outputs": [],
   "source": [
    "card =replace(template,data)"
   ]
  },
  {
   "cell_type": "code",
   "execution_count": 12,
   "metadata": {},
   "outputs": [
    {
     "data": {
      "text/plain": [
       "{'type': 'AdaptiveCard',\n",
       " 'body': [{'type': 'TextBlock',\n",
       "   'size': 'medium',\n",
       "   'weight': 'bolder',\n",
       "   'text': 'Publish Adaptive Card Schema',\n",
       "   'style': 'heading',\n",
       "   'wrap': 1},\n",
       "  {'type': 'ColumnSet',\n",
       "   'columns': [{'type': 'Column',\n",
       "     'items': [{'type': 'Image',\n",
       "       'style': 'person',\n",
       "       'url': '${creator.profileImage}',\n",
       "       'altText': '${creator.name}',\n",
       "       'size': 'small'}],\n",
       "     'width': 'auto'},\n",
       "    {'type': 'Column',\n",
       "     'items': [{'type': 'TextBlock',\n",
       "       'weight': 'bolder',\n",
       "       'text': '${creator.name}',\n",
       "       'wrap': 1},\n",
       "      {'type': 'TextBlock',\n",
       "       'spacing': 'none',\n",
       "       'text': 'Created {{DATE(${string(createdUtc)}, SHORT)}}',\n",
       "       'isSubtle': 1,\n",
       "       'wrap': 1}],\n",
       "     'width': 'stretch'}]},\n",
       "  {'type': 'TextBlock',\n",
       "   'text': 'Now that we have defined the main rules and features of the format, we need to produce a schema and publish it to GitHub. The schema will be the starting point of our reference documentation.',\n",
       "   'wrap': 1},\n",
       "  {'type': 'FactSet',\n",
       "   'facts': [{'$data': \"[{'key': 'Board', 'value': 'Adaptive Cards'}, {'key': 'List', 'value': 'Backlog'}, {'key': 'Assigned to', 'value': 'Matt Hidinger'}, {'key': 'Due date', 'value': 'Not set'}]\",\n",
       "     'title': '${key}:',\n",
       "     'value': '${value}'}]}],\n",
       " 'actions': [{'type': 'Action.ShowCard',\n",
       "   'title': 'Set due date',\n",
       "   'card': {'type': 'AdaptiveCard',\n",
       "    'body': [{'type': 'Input.Date',\n",
       "      'label': 'Enter the due date',\n",
       "      'id': 'dueDate'},\n",
       "     {'type': 'Input.Text',\n",
       "      'id': 'comment',\n",
       "      'isMultiline': 1,\n",
       "      'label': 'Add a comment'}],\n",
       "    'actions': [{'type': 'Action.Submit', 'title': 'OK'}],\n",
       "    '$schema': 'http://adaptivecards.io/schemas/adaptive-card.json'}},\n",
       "  {'type': 'Action.OpenUrl',\n",
       "   'title': 'View',\n",
       "   'url': 'https://adaptivecards.io',\n",
       "   'role': 'button'}],\n",
       " '$schema': 'http://adaptivecards.io/schemas/adaptive-card.json',\n",
       " 'version': '1.5'}"
      ]
     },
     "execution_count": 12,
     "metadata": {},
     "output_type": "execute_result"
    }
   ],
   "source": [
    "card"
   ]
  }
 ],
 "metadata": {
  "kernelspec": {
   "display_name": ".venv",
   "language": "python",
   "name": "python3"
  },
  "language_info": {
   "codemirror_mode": {
    "name": "ipython",
    "version": 3
   },
   "file_extension": ".py",
   "mimetype": "text/x-python",
   "name": "python",
   "nbconvert_exporter": "python",
   "pygments_lexer": "ipython3",
   "version": "3.10.14"
  }
 },
 "nbformat": 4,
 "nbformat_minor": 2
}
