{
 "cells": [
  {
   "cell_type": "code",
   "execution_count": null,
   "metadata": {},
   "outputs": [],
   "source": [
    "from azure.identity import ClientSecretCredential\n",
    "import requests\n",
    "\n",
    "tenant_id = '<tenantid>'\n",
    "client_id = '<clientid>'\n",
    "client_secret = '<clientsecret>'\n",
    "scope = 'https://api.fabric.microsoft.com/.default'\n",
    "client_secret_credential_class = ClientSecretCredential(tenant_id=tenant_id, client_id=client_id, client_secret=client_secret)\n",
    "access_token_class = client_secret_credential_class.get_token(scope)\n",
    "token_string = access_token_class.token\n",
    "\n",
    "header = {'Content-Type':'application/json','Authorization': f'Bearer {token_string}'}\n",
    "response = requests.get(url='https://api.fabric.microsoft.com/v1/workspaces', headers=header)"
   ]
  },
  {
   "cell_type": "code",
   "execution_count": null,
   "metadata": {},
   "outputs": [],
   "source": [
    "# import requests\n",
    "# token_string = mssparkutils.credentials.getToken(\"https://api.fabric.microsoft.com/\")\n",
    "# header = {'Content-Type':'application/json','Authorization': f'Bearer {token_string}'}\n",
    "# response = requests.get(url='https://api.fabric.microsoft.com/v1/workspaces', headers=header)"
   ]
  },
  {
   "cell_type": "code",
   "execution_count": null,
   "metadata": {},
   "outputs": [],
   "source": [
    "tenant_id = os.getenv('tenant_id')\n",
    "client_id = os.getenv('client_id')\n",
    "client_secret = os.getenv('client_secret')"
   ]
  },
  {
   "cell_type": "code",
   "execution_count": null,
   "metadata": {},
   "outputs": [],
   "source": [
    "auth = ClientSecretCredential(authority = 'https://login.microsoftonline.com/',\n",
    "                                            tenant_id = tenant_id,\n",
    "                                            client_id = client_id,\n",
    "                                            client_secret = client_secret)\n",
    "access_token = auth.get_token(pbi_api)\n",
    "access_token = access_token.token"
   ]
  }
 ],
 "metadata": {
  "kernelspec": {
   "display_name": ".venv",
   "language": "python",
   "name": "python3"
  },
  "language_info": {
   "codemirror_mode": {
    "name": "ipython",
    "version": 3
   },
   "file_extension": ".py",
   "mimetype": "text/x-python",
   "name": "python",
   "nbconvert_exporter": "python",
   "pygments_lexer": "ipython3",
   "version": "3.10.14"
  }
 },
 "nbformat": 4,
 "nbformat_minor": 2
}
