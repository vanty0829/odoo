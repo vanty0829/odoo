{
 "cells": [
  {
   "cell_type": "code",
   "execution_count": 4,
   "metadata": {},
   "outputs": [],
   "source": [
    "import pandas as pd\n",
    "import pbipy\n",
    "import requests\n",
    "from azure.identity import ClientSecretCredential\n",
    "import json"
   ]
  },
  {
   "cell_type": "code",
   "execution_count": 2,
   "metadata": {},
   "outputs": [
    {
     "data": {
      "text/plain": [
       "True"
      ]
     },
     "execution_count": 2,
     "metadata": {},
     "output_type": "execute_result"
    }
   ],
   "source": [
    "import os\n",
    "from dotenv import load_dotenv\n",
    "load_dotenv()"
   ]
  },
  {
   "cell_type": "code",
   "execution_count": 3,
   "metadata": {},
   "outputs": [],
   "source": [
    "tenant_id = os.getenv('tenant_id')\n",
    "client_id = os.getenv('client_id')\n",
    "client_secret = os.getenv('client_secret')"
   ]
  },
  {
   "cell_type": "code",
   "execution_count": 6,
   "metadata": {},
   "outputs": [],
   "source": [
    "workspace_name = 'dev-test-gj'"
   ]
  },
  {
   "cell_type": "code",
   "execution_count": 7,
   "metadata": {},
   "outputs": [],
   "source": [
    "pbi_api = 'https://analysis.windows.net/powerbi/api/.default'"
   ]
  },
  {
   "cell_type": "code",
   "execution_count": 8,
   "metadata": {},
   "outputs": [],
   "source": [
    "auth = ClientSecretCredential(authority = 'https://login.microsoftonline.com/',\n",
    "                                            tenant_id = tenant_id,\n",
    "                                            client_id = client_id,\n",
    "                                            client_secret = client_secret)\n",
    "access_token = auth.get_token(pbi_api)\n",
    "access_token = access_token.token"
   ]
  },
  {
   "cell_type": "code",
   "execution_count": 10,
   "metadata": {},
   "outputs": [],
   "source": [
    "base_url = 'https://api.powerbi.com/v1.0/myorg/'\n",
    "header = {'Authorization': f'Bearer {access_token}',\n",
    "          'Content-Type': 'application/json'}"
   ]
  },
  {
   "cell_type": "code",
   "execution_count": 11,
   "metadata": {},
   "outputs": [],
   "source": [
    "pbi = pbipy.PowerBI(access_token)"
   ]
  },
  {
   "cell_type": "code",
   "execution_count": 12,
   "metadata": {},
   "outputs": [],
   "source": [
    "admin = pbi.admin()"
   ]
  },
  {
   "cell_type": "code",
   "execution_count": 13,
   "metadata": {},
   "outputs": [],
   "source": [
    "def check_workspace_exists(df, workspace_name):\n",
    "    existing_name = set(df['name'].values)\n",
    "    result = workspace_name in existing_name\n",
    "    return result"
   ]
  },
  {
   "cell_type": "code",
   "execution_count": 14,
   "metadata": {},
   "outputs": [],
   "source": [
    "workspace_tenant = admin.groups()"
   ]
  },
  {
   "cell_type": "code",
   "execution_count": 16,
   "metadata": {},
   "outputs": [],
   "source": [
    "data = [{'Group id': ws.id, 'name': ws.name} for ws in workspace_tenant]"
   ]
  },
  {
   "cell_type": "code",
   "execution_count": 18,
   "metadata": {},
   "outputs": [],
   "source": [
    "df_workspace = pd.DataFrame(data)"
   ]
  },
  {
   "cell_type": "code",
   "execution_count": 19,
   "metadata": {},
   "outputs": [
    {
     "data": {
      "text/html": [
       "<div>\n",
       "<style scoped>\n",
       "    .dataframe tbody tr th:only-of-type {\n",
       "        vertical-align: middle;\n",
       "    }\n",
       "\n",
       "    .dataframe tbody tr th {\n",
       "        vertical-align: top;\n",
       "    }\n",
       "\n",
       "    .dataframe thead th {\n",
       "        text-align: right;\n",
       "    }\n",
       "</style>\n",
       "<table border=\"1\" class=\"dataframe\">\n",
       "  <thead>\n",
       "    <tr style=\"text-align: right;\">\n",
       "      <th></th>\n",
       "      <th>Group id</th>\n",
       "      <th>name</th>\n",
       "    </tr>\n",
       "  </thead>\n",
       "  <tbody>\n",
       "    <tr>\n",
       "      <th>0</th>\n",
       "      <td>3de8cbaa-1f67-4015-b053-1ca935da3ff1</td>\n",
       "      <td>PersonalWorkspace TY LE</td>\n",
       "    </tr>\n",
       "    <tr>\n",
       "      <th>1</th>\n",
       "      <td>d8be72d8-a19f-485b-b9c2-ccd08a666f19</td>\n",
       "      <td>Admin monitoring</td>\n",
       "    </tr>\n",
       "    <tr>\n",
       "      <th>2</th>\n",
       "      <td>bed78b83-ac16-4adc-a65a-257c9b99a3f6</td>\n",
       "      <td>dataverse</td>\n",
       "    </tr>\n",
       "    <tr>\n",
       "      <th>3</th>\n",
       "      <td>736347b6-1c54-488a-a3f4-e98cde59df6f</td>\n",
       "      <td>PersonalWorkspace Thu Vu</td>\n",
       "    </tr>\n",
       "    <tr>\n",
       "      <th>4</th>\n",
       "      <td>9baf3735-27b9-4dc2-a884-31607ec96e30</td>\n",
       "      <td>Demo</td>\n",
       "    </tr>\n",
       "    <tr>\n",
       "      <th>5</th>\n",
       "      <td>617d1d28-14ab-4cb5-b657-5c910385cba7</td>\n",
       "      <td>PersonalWorkspace Demo</td>\n",
       "    </tr>\n",
       "    <tr>\n",
       "      <th>6</th>\n",
       "      <td>b28963ec-e7fb-4792-b3d9-29a45e23423a</td>\n",
       "      <td>PersonalWorkspace fabricapp</td>\n",
       "    </tr>\n",
       "  </tbody>\n",
       "</table>\n",
       "</div>"
      ],
      "text/plain": [
       "                               Group id                         name\n",
       "0  3de8cbaa-1f67-4015-b053-1ca935da3ff1      PersonalWorkspace TY LE\n",
       "1  d8be72d8-a19f-485b-b9c2-ccd08a666f19             Admin monitoring\n",
       "2  bed78b83-ac16-4adc-a65a-257c9b99a3f6                    dataverse\n",
       "3  736347b6-1c54-488a-a3f4-e98cde59df6f     PersonalWorkspace Thu Vu\n",
       "4  9baf3735-27b9-4dc2-a884-31607ec96e30                         Demo\n",
       "5  617d1d28-14ab-4cb5-b657-5c910385cba7       PersonalWorkspace Demo\n",
       "6  b28963ec-e7fb-4792-b3d9-29a45e23423a  PersonalWorkspace fabricapp"
      ]
     },
     "execution_count": 19,
     "metadata": {},
     "output_type": "execute_result"
    }
   ],
   "source": [
    "df_workspace"
   ]
  },
  {
   "cell_type": "code",
   "execution_count": 20,
   "metadata": {},
   "outputs": [],
   "source": [
    "workspace_check_existence = check_workspace_exists(df_workspace, workspace_name)"
   ]
  },
  {
   "cell_type": "code",
   "execution_count": 22,
   "metadata": {},
   "outputs": [
    {
     "name": "stdout",
     "output_type": "stream",
     "text": [
      "Workspace 'dev-test-gj' created.\n",
      "Workspace 'test-test-gj' created.\n",
      "Workspace 'prod-test-gj' created.\n"
     ]
    }
   ],
   "source": [
    "if not workspace_check_existence:\n",
    "    # Create DEV workspace\n",
    "    workspace_dev = pbi.create_group(name = workspace_name)\n",
    "    print(f\"Workspace '{workspace_dev.name}' created.\")\n",
    "    # Create TEST workspace\n",
    "    workspace_test = pbi.create_group(name = workspace_name.replace('dev', 'test'))\n",
    "    print(f\"Workspace '{workspace_test.name}' created.\")\n",
    "    # Create PROD workspace\n",
    "    workspace_prod = pbi.create_group(name = workspace_name.replace('dev', 'prod'))\n",
    "    print(f\"Workspace '{workspace_prod.name}' created.\")\n",
    "else:\n",
    "    print(f\"A workspace with the name '{workspace_name}' already exists\")"
   ]
  },
  {
   "cell_type": "code",
   "execution_count": null,
   "metadata": {},
   "outputs": [],
   "source": []
  }
 ],
 "metadata": {
  "kernelspec": {
   "display_name": ".venv",
   "language": "python",
   "name": "python3"
  },
  "language_info": {
   "codemirror_mode": {
    "name": "ipython",
    "version": 3
   },
   "file_extension": ".py",
   "mimetype": "text/x-python",
   "name": "python",
   "nbconvert_exporter": "python",
   "pygments_lexer": "ipython3",
   "version": "3.10.14"
  }
 },
 "nbformat": 4,
 "nbformat_minor": 2
}
