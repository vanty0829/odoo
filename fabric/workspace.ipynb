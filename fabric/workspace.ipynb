{
 "cells": [
  {
   "cell_type": "code",
   "execution_count": 4,
   "metadata": {},
   "outputs": [],
   "source": [
    "import pandas as pd\n",
    "import pbipy\n",
    "import requests\n",
    "from azure.identity import ClientSecretCredential\n",
    "import json"
   ]
  },
  {
   "cell_type": "code",
   "execution_count": null,
   "metadata": {},
   "outputs": [],
   "source": [
    "import os\n",
    "from dotenv import load_dotenv\n",
    "load_dotenv()"
   ]
  },
  {
   "cell_type": "code",
   "execution_count": 3,
   "metadata": {},
   "outputs": [],
   "source": [
    "tenant_id = os.getenv('tenant_id')\n",
    "client_id = os.getenv('client_id')\n",
    "client_secret = os.getenv('client_secret')"
   ]
  },
  {
   "cell_type": "code",
   "execution_count": 1,
   "metadata": {},
   "outputs": [],
   "source": [
    "from invoke_fabric_api import *"
   ]
  },
  {
   "cell_type": "code",
   "execution_count": 2,
   "metadata": {},
   "outputs": [],
   "source": [
    "workspace_id = 'bed78b83-ac16-4adc-a65a-257c9b99a3f6'\n",
    "lakehouse_id = 'c19671a8-29e7-4ed2-8570-78541d714684'"
   ]
  },
  {
   "cell_type": "code",
   "execution_count": 48,
   "metadata": {},
   "outputs": [
    {
     "name": "stdout",
     "output_type": "stream",
     "text": [
      "https://login.microsoftonline.com/5cd64994-64c0-4c59-bca6-801527b1a508/oauth2/v2.0/authorize?client_id=80c581f3-02d7-4bbf-b371-8a61b80740ba&response_type=code&redirect_uri=http%3A%2F%2Flocalhost%2Fmyapp%2F&response_mode=query&scope=offline_access+https%3A%2F%2Fapi.fabric.microsoft.com%2FOneLake.ReadWrite.All&state=12345\n"
     ]
    }
   ],
   "source": [
    "import requests\n",
    "\n",
    "# Define the parameters\n",
    "tenant = os.getenv('tenant_id')  # Replace with your tenant ID\n",
    "client_id = os.getenv('client_id')\n",
    "redirect_uri = 'http://localhost/myapp/'\n",
    "response_type = 'code'\n",
    "response_mode = 'query'\n",
    "# scope = ['https://api.fabric.microsoft.com/OneLake.ReadWrite.All']\n",
    "scope= 'offline_access https://api.fabric.microsoft.com/OneLake.ReadWrite.All'\n",
    "state = '12345'\n",
    "\n",
    "# Construct the URL\n",
    "url = f'https://login.microsoftonline.com/{tenant}/oauth2/v2.0/authorize'\n",
    "\n",
    "# Create the query parameters\n",
    "params = {\n",
    "    'client_id': client_id,\n",
    "    'response_type': response_type,\n",
    "    'redirect_uri': redirect_uri,\n",
    "    'response_mode': response_mode,\n",
    "    'scope': scope,\n",
    "    'state': state\n",
    "}\n",
    "\n",
    "# Make the GET request\n",
    "response = requests.get(url, params=params)\n",
    "\n",
    "# Print the response URL\n",
    "print(response.url)"
   ]
  },
  {
   "cell_type": "code",
   "execution_count": 49,
   "metadata": {},
   "outputs": [],
   "source": [
    "code='0.AcYAlEnWXMBkWUy8poAVJ7GlCPOBxYDXAr9Ls3GKYbgHQLrGAK0.AgABBAIAAADW6jl31mB3T7ugrWTT8pFeAwDs_wUA9P_-YETIa6Voynuie7EtrAUwXUbv-MrXp0IoVzLNrAiFrBSUTTlYhFgHQ24a5stgigTk0b0zrS5tcLuu_FwvesOZDxJXr38E18eHB5uPP7sUnOvCgRYgzssy6aSKziL02INSILgqlZAkY_N6YASS_V8y9QAQ3bKbMP93sYsFKsfP4w_zb7GSUTcol5S73S9LKrENMPtHtB-tJyc1dNXwFxNekECFsSn1tUi8a8sgSoRiLa5Hwh-ncL_yljRoKgy5_XNC8CuBVCw_nLqN4kWzoGUkx0080k1QWVHtyS1yZDD1XyrhaC5QZX-Ov-SsSolzTlFEyhMEdylzn39eIEI5Wqow2WJ_Kqa9eP74jUgKxNA9Mf-kEs_E_Cj9w_s-kr7aWyRcbFLNCxcyaX3ldm_wsyQDceJnTUWwUiAxWy1m1OuT5fmh8KHN6HDiYoEGiu62gVR_aFkTZgY_U9tttmRNOKyA6gxSRvjKNLO4jZmkdiu783WtEfdZ-DsWrDXwwcFFpmI5GSisBGQAf7OrosOmMwWgqUAPWuAM6elbeGMP_Hx77cubq-O34N_emmLnmHi9SEkLsq80eSpuVZ3Wl6Q2yVGCStVU2TKS5PftAMC6xMZkispPkaARirV6PcM2pzAGsojYaS_LjSJdox5YUl2oR4xvHU8iQeX8KtYx44khQYarna8dQG0ycbGFR8XQl5MO_UZmjAFdPiLVPaa2HuLclYeQhG4s6X2YHZEZmoyzBpY7LVF47GoxJfYboZE'"
   ]
  },
  {
   "cell_type": "code",
   "execution_count": 23,
   "metadata": {},
   "outputs": [
    {
     "data": {
      "text/plain": [
       "'0.AcYAlEnWXMBkWUy8poAVJ7GlCPOBxYDXAr9Ls3GKYbgHQLrGAK0.AgABBAIAAADW6jl31mB3T7ugrWTT8pFeAwDs_wUA9P9X9qFElbTspxMjvYaHBQlm61DdzpJ7sEeFISAKE6v6fiz5OHftHhikET2mIJfok-n9G2yjdBzWCVug2Ux__njRVyERcW6zHwylkaojhPR7k-Nc1SM48riMZhzoljli2cIpT87kYRNfTXHJybmp-zmLWcXB7gPwLcJqdDB4gAi8Lq0c85kckCSJEF4iC4Oyd1VeT4Ni1od-KFGK9S5BZdEbwtoBfOmKAr8NY0U989l9ExRMGMSU9VN59VAc32igmE50fEy3zrCFb6ranccUuuQvLtElJruuaR3EaXaPHLlhX0F2RdPjmAZXTZ5PPps-BHMdzduw8vLtFZa1G4cOo1spO8yRAuLym0fqDe-rlql9nd1W6-b2pjlwIEoGVgL2ptW5wrAkDt-X1597KB8pyZ8EWXEztre6dIqLZvFI2EFoXimwnaaHP5aKPzfeTF89ltd2Lich3ZrpstpVsianTOFKLlvyjwRdXDbAYVuY4-8JdFVIR6uHt12IV3-MnG-4_oiTPz0fOZSSxb72rkjCk5wfg3sCNWxDdH4l8fnpP1ipRbYkYaknRXRGODOKEsPg6G32Y3rpeGKoZretI4kUjdxtTH3ywwn44xpbXwzz8-sILFFh2UQGuAgX-z64AFodx1xOsp9VlHSFRghXgwLPmsi7Dbyc39yTC8Df14hm3MKk0ESLiYwZVmSPypXwu9inpWd8xP7TNp32snI&state=12345&session_state=7f6cd68f-b260-406e-a86e-69d612adb87a#'"
      ]
     },
     "execution_count": 23,
     "metadata": {},
     "output_type": "execute_result"
    }
   ],
   "source": [
    "code"
   ]
  },
  {
   "cell_type": "code",
   "execution_count": 50,
   "metadata": {},
   "outputs": [
    {
     "name": "stdout",
     "output_type": "stream",
     "text": [
      "Access Token: eyJ0eXAiOiJKV1QiLCJhbGciOiJSUzI1NiIsIng1dCI6IjNQYUs0RWZ5Qk5RdTNDdGpZc2EzWW1oUTVFMCIsImtpZCI6IjNQYUs0RWZ5Qk5RdTNDdGpZc2EzWW1oUTVFMCJ9.eyJhdWQiOiJodHRwczovL2FwaS5mYWJyaWMubWljcm9zb2Z0LmNvbSIsImlzcyI6Imh0dHBzOi8vc3RzLndpbmRvd3MubmV0LzVjZDY0OTk0LTY0YzAtNGM1OS1iY2E2LTgwMTUyN2IxYTUwOC8iLCJpYXQiOjE3Mjk3NTkyOTMsIm5iZiI6MTcyOTc1OTI5MywiZXhwIjoxNzI5NzYzMjQxLCJhY2N0IjowLCJhY3IiOiIxIiwiYWlvIjoiQVZRQXEvOFlBQUFBZVgrTjdNLzVXZTRRRXBSVENjOEdvd005cU0xMmIzd29oQ2tvcnd2aGpJeUg0VmV6eTRwMkx4d1U4Y2k0SmwwdUxKVHprN2k3cUErSFYyNFJFOUl2L2RQK3Y1TS9jOXpHMHMvS01VNVk1T1E9IiwiYW1yIjpbInB3ZCIsIm1mYSJdLCJhcHBpZCI6IjgwYzU4MWYzLTAyZDctNGJiZi1iMzcxLThhNjFiODA3NDBiYSIsImFwcGlkYWNyIjoiMSIsImZhbWlseV9uYW1lIjoiTEUiLCJnaXZlbl9uYW1lIjoiVFkiLCJpZHR5cCI6InVzZXIiLCJpcGFkZHIiOiIxMTMuMTYxLjM5LjE0MyIsIm5hbWUiOiJUWSBMRSIsIm9pZCI6ImRjOGU0MjBmLWIwNDYtNGFhMy1hNzVjLWNiMmI0OTY1YmIzYyIsInB1aWQiOiIxMDAzMjAwM0IyRTc4RkQyIiwicmgiOiIwLkFjWUFsRW5XWE1Ca1dVeThwb0FWSjdHbENBa0FBQUFBQUFBQXdBQUFBQUFBQUFER0FLMC4iLCJzY3AiOiJPbmVMYWtlLlJlYWRXcml0ZS5BbGwiLCJzaWduaW5fc3RhdGUiOlsia21zaSJdLCJzdWIiOiJTTWdFV0RhMlozNW5uMkNNWTdqRGNUVWRYZ1hYc0w1cmJyMUJWUEVNbjBnIiwidGlkIjoiNWNkNjQ5OTQtNjRjMC00YzU5LWJjYTYtODAxNTI3YjFhNTA4IiwidW5pcXVlX25hbWUiOiJ0eS5sZUBkYXRhdmVyc2UuY29tLnZuIiwidXBuIjoidHkubGVAZGF0YXZlcnNlLmNvbS52biIsInV0aSI6IkxuSnR0OS1SMUVDcFlaZ1NYb0dEQUEiLCJ2ZXIiOiIxLjAiLCJ3aWRzIjpbIjYyZTkwMzk0LTY5ZjUtNDIzNy05MTkwLTAxMjE3NzE0NWUxMCIsImI3OWZiZjRkLTNlZjktNDY4OS04MTQzLTc2YjE5NGU4NTUwOSJdLCJ4bXNfaWRyZWwiOiIxIDYiLCJ4bXNfcGwiOiJlbiJ9.WItc-Gung3pswhfFgtk2AIzcqSfvM9a3uIpomlY3_c_VshIYgF1uv_0evLY1Np0kuNTFq1-iJqWxrufMTg9eNIAxuZW0eM7IwK6bFGJ8wlaRyFId4wHZ6jUqMJxO9vcovb-lOj2S8CyssoJjYymjxr2Ce5S5tGo_s9tIJ7qnxFl_FTNMGKr322sptTgyX6SGrabZj4khkFrV_7RpurRW9nwjboCII2bzeq2CqZ02JIknP28QCb8PUuTV9i1Efg8mW_mff2bYixwKOmgnFdyfSALHyO-xP3iiAhrsmfPLXGJVzG46cUfkNW7bEEUoVyr5N06VBLqLAR3Ggde7NjYTmA\n"
     ]
    }
   ],
   "source": [
    "url = f'https://login.microsoftonline.com/{tenant}/oauth2/v2.0/token'\n",
    "\n",
    "# Prepare the data for the request\n",
    "data = {\n",
    "    'client_id': os.getenv('client_id'),\n",
    "    'scope': scope,\n",
    "    'code': code,\n",
    "    'redirect_uri': 'http://localhost/myapp/',\n",
    "    'grant_type': 'authorization_code',\n",
    "    'client_secret': os.getenv('client_secret')  # Only required for web apps\n",
    "}\n",
    "\n",
    "# Make the POST request\n",
    "response = requests.post(url, data=data)\n",
    "\n",
    "# Check the response\n",
    "if response.status_code == 200:\n",
    "    token_info = response.json()\n",
    "    print('Access Token:', token_info['access_token'])\n",
    "else:\n",
    "    print('Error:', response.status_code, response.text)\n"
   ]
  },
  {
   "cell_type": "code",
   "execution_count": 52,
   "metadata": {},
   "outputs": [
    {
     "name": "stdout",
     "output_type": "stream",
     "text": [
      "{\n",
      "  \"status_code\": 403,\n",
      "  \"response\": {\n",
      "    \"requestId\": \"ac2356a5-8b3b-4824-a5e4-c86b03098422\",\n",
      "    \"errorCode\": \"InsufficientPrivileges\",\n",
      "    \"moreDetails\": [\n",
      "      {\n",
      "        \"errorCode\": \"Forbidden\",\n",
      "        \"message\": \"User is not authorized to perform current operation for workspace 'bed78b83-ac16-4adc-a65a-257c9b99a3f6', item 'c19671a8-29e7-4ed2-8570-78541d714684'.\"\n",
      "      }\n",
      "    ],\n",
      "    \"message\": \"The caller does not have sufficient permissions to access the requested resource\"\n",
      "  },\n",
      "  \"headers\": {\n",
      "    \"Cache-Control\": \"no-store, must-revalidate, no-cache\",\n",
      "    \"Pragma\": \"no-cache\",\n",
      "    \"Transfer-Encoding\": \"chunked\",\n",
      "    \"Content-Type\": \"application/json; charset=utf-8\",\n",
      "    \"x-ms-public-api-error-code\": \"InsufficientPrivileges\",\n",
      "    \"Strict-Transport-Security\": \"max-age=31536000; includeSubDomains\",\n",
      "    \"X-Frame-Options\": \"deny\",\n",
      "    \"X-Content-Type-Options\": \"nosniff\",\n",
      "    \"RequestId\": \"ac2356a5-8b3b-4824-a5e4-c86b03098422\",\n",
      "    \"Access-Control-Expose-Headers\": \"RequestId\",\n",
      "    \"request-redirected\": \"true\",\n",
      "    \"home-cluster-uri\": \"https://wabi-south-east-asia-c-primary-redirect.analysis.windows.net/\",\n",
      "    \"Date\": \"Thu, 24 Oct 2024 08:48:27 GMT\"\n",
      "  }\n",
      "}\n",
      "{\n",
      "  \"status_code\": 201,\n",
      "  \"response\": {\n",
      "    \"name\": \"onelake_tables_sc\",\n",
      "    \"path\": \"Tables\",\n",
      "    \"target\": {\n",
      "      \"type\": \"OneLake\",\n",
      "      \"oneLake\": {\n",
      "        \"itemId\": \"76dfbe3f-19e2-4221-a465-d3458852309c\",\n",
      "        \"path\": \"Tables/test2\",\n",
      "        \"workspaceId\": \"bed78b83-ac16-4adc-a65a-257c9b99a3f6\"\n",
      "      }\n",
      "    }\n",
      "  },\n",
      "  \"headers\": {\n",
      "    \"Cache-Control\": \"no-store, must-revalidate, no-cache\",\n",
      "    \"Pragma\": \"no-cache\",\n",
      "    \"Content-Length\": \"196\",\n",
      "    \"Content-Type\": \"application/json; charset=utf-8\",\n",
      "    \"Content-Encoding\": \"gzip\",\n",
      "    \"Location\": \"https://api.fabric.microsoft.com/v1/workspaces/bed78b83-ac16-4adc-a65a-257c9b99a3f6/items/c19671a8-29e7-4ed2-8570-78541d714684/shortcuts/Tables/onelake_tables_sc\",\n",
      "    \"Access-Control-Allow-Origin\": \"*\",\n",
      "    \"Access-Control-Allow-Headers\": \"*\",\n",
      "    \"Access-Control-Allow-Methods\": \"*\",\n",
      "    \"Access-Control-Expose-Headers\": \"*,Authorization, RequestId,Location\",\n",
      "    \"Strict-Transport-Security\": \"max-age=31536000; includeSubDomains, max-age=31536000; includeSubDomains\",\n",
      "    \"X-Content-Type-Options\": \"nosniff, nosniff\",\n",
      "    \"x-ms-root-activity-id\": \"191271d2-da03-4afc-8bb3-e77cc7de85ba\",\n",
      "    \"X-Frame-Options\": \"deny\",\n",
      "    \"RequestId\": \"55d60de8-fe31-456d-8529-e05e6e48c074\",\n",
      "    \"request-redirected\": \"true\",\n",
      "    \"home-cluster-uri\": \"https://wabi-south-east-asia-c-primary-redirect.analysis.windows.net/\",\n",
      "    \"Date\": \"Thu, 24 Oct 2024 08:48:30 GMT\"\n",
      "  }\n",
      "}\n"
     ]
    }
   ],
   "source": [
    "method = \"post\"\n",
    "shortcut_conflict_policy = \"GenerateUniqueName\"\n",
    "uri = f\"workspaces/{workspace_id}/items/{lakehouse_id}/shortcuts?shortcutConflictPolicy={shortcut_conflict_policy}\"\n",
    "\n",
    "ws_from = 'bed78b83-ac16-4adc-a65a-257c9b99a3f6'\n",
    "lk_from = '76dfbe3f-19e2-4221-a465-d3458852309c'\n",
    "\n",
    "payload = {\n",
    "  \"path\": \"Tables\",\n",
    "  \"name\": \"onelake_tables_sc\",\n",
    "  \"target\": {\n",
    "     \"oneLake\": {\n",
    "      \"workspaceId\": ws_from,\n",
    "      \"itemId\": lk_from,\n",
    "      \"path\": \"Tables/test2\"\n",
    "      }\n",
    "  }\n",
    "}\n",
    "\n",
    "API_ENDPOINT = \"api.fabric.microsoft.com/v1\"\n",
    "\n",
    "\n",
    "\n",
    "headers = {\n",
    "    \"Authorization\": \"Bearer \" + token_info['access_token'],\n",
    "    \"Content-Type\": \"application/json\"\n",
    "}\n",
    "\n",
    "try:\n",
    "    url = f\"https://{API_ENDPOINT}/{uri}\"\n",
    "        \n",
    "    session = requests.Session()\n",
    "    retries = Retry(total=3, backoff_factor=5, status_forcelist=[502, 503, 504])\n",
    "    adapter = HTTPAdapter(max_retries=retries)\n",
    "    session.mount('http://', adapter)\n",
    "    session.mount('https://', adapter)\n",
    "\n",
    "    response = session.request(method, url, headers=headers, json=payload, timeout=240)\n",
    "\n",
    "    response_details = {\n",
    "        'status_code': response.status_code,\n",
    "        'response': response.json() if response.content else {},\n",
    "        'headers': dict(response.headers) \n",
    "    }\n",
    "    print(json.dumps(response_details, indent=2))\n",
    "\n",
    "except requests.RequestException as ex:\n",
    "    print(ex)"
   ]
  },
  {
   "cell_type": "code",
   "execution_count": 51,
   "metadata": {},
   "outputs": [
    {
     "data": {
      "text/plain": [
       "{'token_type': 'Bearer',\n",
       " 'scope': 'https://api.fabric.microsoft.com/OneLake.ReadWrite.All',\n",
       " 'expires_in': 3647,\n",
       " 'ext_expires_in': 3647,\n",
       " 'access_token': 'eyJ0eXAiOiJKV1QiLCJhbGciOiJSUzI1NiIsIng1dCI6IjNQYUs0RWZ5Qk5RdTNDdGpZc2EzWW1oUTVFMCIsImtpZCI6IjNQYUs0RWZ5Qk5RdTNDdGpZc2EzWW1oUTVFMCJ9.eyJhdWQiOiJodHRwczovL2FwaS5mYWJyaWMubWljcm9zb2Z0LmNvbSIsImlzcyI6Imh0dHBzOi8vc3RzLndpbmRvd3MubmV0LzVjZDY0OTk0LTY0YzAtNGM1OS1iY2E2LTgwMTUyN2IxYTUwOC8iLCJpYXQiOjE3Mjk3NTkyOTMsIm5iZiI6MTcyOTc1OTI5MywiZXhwIjoxNzI5NzYzMjQxLCJhY2N0IjowLCJhY3IiOiIxIiwiYWlvIjoiQVZRQXEvOFlBQUFBZVgrTjdNLzVXZTRRRXBSVENjOEdvd005cU0xMmIzd29oQ2tvcnd2aGpJeUg0VmV6eTRwMkx4d1U4Y2k0SmwwdUxKVHprN2k3cUErSFYyNFJFOUl2L2RQK3Y1TS9jOXpHMHMvS01VNVk1T1E9IiwiYW1yIjpbInB3ZCIsIm1mYSJdLCJhcHBpZCI6IjgwYzU4MWYzLTAyZDctNGJiZi1iMzcxLThhNjFiODA3NDBiYSIsImFwcGlkYWNyIjoiMSIsImZhbWlseV9uYW1lIjoiTEUiLCJnaXZlbl9uYW1lIjoiVFkiLCJpZHR5cCI6InVzZXIiLCJpcGFkZHIiOiIxMTMuMTYxLjM5LjE0MyIsIm5hbWUiOiJUWSBMRSIsIm9pZCI6ImRjOGU0MjBmLWIwNDYtNGFhMy1hNzVjLWNiMmI0OTY1YmIzYyIsInB1aWQiOiIxMDAzMjAwM0IyRTc4RkQyIiwicmgiOiIwLkFjWUFsRW5XWE1Ca1dVeThwb0FWSjdHbENBa0FBQUFBQUFBQXdBQUFBQUFBQUFER0FLMC4iLCJzY3AiOiJPbmVMYWtlLlJlYWRXcml0ZS5BbGwiLCJzaWduaW5fc3RhdGUiOlsia21zaSJdLCJzdWIiOiJTTWdFV0RhMlozNW5uMkNNWTdqRGNUVWRYZ1hYc0w1cmJyMUJWUEVNbjBnIiwidGlkIjoiNWNkNjQ5OTQtNjRjMC00YzU5LWJjYTYtODAxNTI3YjFhNTA4IiwidW5pcXVlX25hbWUiOiJ0eS5sZUBkYXRhdmVyc2UuY29tLnZuIiwidXBuIjoidHkubGVAZGF0YXZlcnNlLmNvbS52biIsInV0aSI6IkxuSnR0OS1SMUVDcFlaZ1NYb0dEQUEiLCJ2ZXIiOiIxLjAiLCJ3aWRzIjpbIjYyZTkwMzk0LTY5ZjUtNDIzNy05MTkwLTAxMjE3NzE0NWUxMCIsImI3OWZiZjRkLTNlZjktNDY4OS04MTQzLTc2YjE5NGU4NTUwOSJdLCJ4bXNfaWRyZWwiOiIxIDYiLCJ4bXNfcGwiOiJlbiJ9.WItc-Gung3pswhfFgtk2AIzcqSfvM9a3uIpomlY3_c_VshIYgF1uv_0evLY1Np0kuNTFq1-iJqWxrufMTg9eNIAxuZW0eM7IwK6bFGJ8wlaRyFId4wHZ6jUqMJxO9vcovb-lOj2S8CyssoJjYymjxr2Ce5S5tGo_s9tIJ7qnxFl_FTNMGKr322sptTgyX6SGrabZj4khkFrV_7RpurRW9nwjboCII2bzeq2CqZ02JIknP28QCb8PUuTV9i1Efg8mW_mff2bYixwKOmgnFdyfSALHyO-xP3iiAhrsmfPLXGJVzG46cUfkNW7bEEUoVyr5N06VBLqLAR3Ggde7NjYTmA',\n",
       " 'refresh_token': '0.AcYAlEnWXMBkWUy8poAVJ7GlCPOBxYDXAr9Ls3GKYbgHQLrGAK0.AgABAwEAAADW6jl31mB3T7ugrWTT8pFeAwDs_wUA9P_bzzXe6UULrT4qoVbB0pG9r0733Pn1zSEoilPsZrJqM-Y4Rx1F7OlhheQIScm161kYF15nAVrnIVu1dN4kKveyWhaHyDDzkuWvNWdpHeGy8DoZ0DuoSW84WU863ey1PhqYHmIaN_cAJAj4a7mkLsisS1McERha5lJihZOppLdnI4vqdOXGo-D5YC1IEG0PBxvlIzOlhCVkmBR3nFwxsTAN77u_WHxhSHCZDMmsqUoZ7lhJxTobvdY2nbbOTxfUl7yoQOdGXK-b73e1G9TxxAqRJYXG0FrsAnkfI54-TvwUkztBrf_Src2PK0tkFzPE-mWMyKYBrES7TP54RJdTEnjbBxhz2kk4UA_TzEu1IR9AFz3XxzU_i_9YfES-VF7xcqjlSLtXIMNJihqEAEuUlTZRi_n-YkizQUcE_B_jrYADa3EfsT1Wd58x76X9KSp3xRlv6VL7CzHgY_tnavFMcepWIylV3ftD6bMRjiEKFaaiOaQpVs8rg5o7vfvgx3J0EbHyh4MQ8NSEXueAeNliOwfYtLaeM6agXov6jM2B-xTqFY-OniM0BPjZnspR0mQZEix13aWL30rMClT-SK6QCTD3i8jUGthFCyl_NIyzXkMdfYntdhU2OSe2COTy1FFUOdOiXJ9D-iehwxsAonioz62RsL-EgoHuu0tV7jfJuqmEz-OncfvKW_2iml4rj_iBDCnHuEp6p7kxX5WttMN-pHuzXVjL6-oJOvQd09IMf4OOGTka2fJyswv4ahO7FFQ6YpY6MVxGtUiX'}"
      ]
     },
     "execution_count": 51,
     "metadata": {},
     "output_type": "execute_result"
    }
   ],
   "source": [
    "response.json"
   ]
  },
  {
   "cell_type": "code",
   "execution_count": 34,
   "metadata": {},
   "outputs": [
    {
     "data": {
      "text/plain": [
       "{'token_type': 'Bearer',\n",
       " 'scope': 'https://api.fabric.microsoft.com/OneLake.ReadWrite.All',\n",
       " 'expires_in': 4067,\n",
       " 'ext_expires_in': 4067,\n",
       " 'access_token': 'eyJ0eXAiOiJKV1QiLCJhbGciOiJSUzI1NiIsIng1dCI6IjNQYUs0RWZ5Qk5RdTNDdGpZc2EzWW1oUTVFMCIsImtpZCI6IjNQYUs0RWZ5Qk5RdTNDdGpZc2EzWW1oUTVFMCJ9.eyJhdWQiOiJodHRwczovL2FwaS5mYWJyaWMubWljcm9zb2Z0LmNvbSIsImlzcyI6Imh0dHBzOi8vc3RzLndpbmRvd3MubmV0LzVjZDY0OTk0LTY0YzAtNGM1OS1iY2E2LTgwMTUyN2IxYTUwOC8iLCJpYXQiOjE3Mjk3NTg3NzEsIm5iZiI6MTcyOTc1ODc3MSwiZXhwIjoxNzI5NzYzMTM5LCJhY2N0IjowLCJhY3IiOiIxIiwiYWlvIjoiQVZRQXEvOFlBQUFBdkxUemp1SGxBUk0yeGlLR2JGMmplZSt5RGlOalhNcEdjVk9OUGJJd1VlMWhHd0VCNEExRHJ1c01ySEdGcTBtbEU3YUVSaUZFaVVhWGI0U3I3Unl3RitJVnFxbXUzc1o1RjRVMUF6YXlIZms9IiwiYW1yIjpbInB3ZCIsIm1mYSJdLCJhcHBpZCI6IjgwYzU4MWYzLTAyZDctNGJiZi1iMzcxLThhNjFiODA3NDBiYSIsImFwcGlkYWNyIjoiMSIsImZhbWlseV9uYW1lIjoiTEUiLCJnaXZlbl9uYW1lIjoiVFkiLCJpZHR5cCI6InVzZXIiLCJpcGFkZHIiOiIxMTMuMTYxLjM5LjE0MyIsIm5hbWUiOiJUWSBMRSIsIm9pZCI6ImRjOGU0MjBmLWIwNDYtNGFhMy1hNzVjLWNiMmI0OTY1YmIzYyIsInB1aWQiOiIxMDAzMjAwM0IyRTc4RkQyIiwicmgiOiIwLkFjWUFsRW5XWE1Ca1dVeThwb0FWSjdHbENBa0FBQUFBQUFBQXdBQUFBQUFBQUFER0FLMC4iLCJzY3AiOiJPbmVMYWtlLlJlYWRXcml0ZS5BbGwiLCJzaWduaW5fc3RhdGUiOlsia21zaSJdLCJzdWIiOiJTTWdFV0RhMlozNW5uMkNNWTdqRGNUVWRYZ1hYc0w1cmJyMUJWUEVNbjBnIiwidGlkIjoiNWNkNjQ5OTQtNjRjMC00YzU5LWJjYTYtODAxNTI3YjFhNTA4IiwidW5pcXVlX25hbWUiOiJ0eS5sZUBkYXRhdmVyc2UuY29tLnZuIiwidXBuIjoidHkubGVAZGF0YXZlcnNlLmNvbS52biIsInV0aSI6IktBQ0ZlTEhUNUUySWpEMWpVSy1EQUEiLCJ2ZXIiOiIxLjAiLCJ3aWRzIjpbIjYyZTkwMzk0LTY5ZjUtNDIzNy05MTkwLTAxMjE3NzE0NWUxMCIsImI3OWZiZjRkLTNlZjktNDY4OS04MTQzLTc2YjE5NGU4NTUwOSJdLCJ4bXNfaWRyZWwiOiIyOCAxIiwieG1zX3BsIjoiZW4ifQ.bnV7v3VN5K7r0KHdB_81BGvxB3v-Y2GdPFp-pwdRHaqU33maB2CQlE4QeWNsjFJ-INL2gnbyQTSmtRovLkOMPze7txzPpjsG5vRwkqEVTyTLLkCeqnl8TgQsqPRo1nR1gU3CT2Lxg1zgM2byoCQ7ANBR_Ibludm4JEATH4k9Oye0_0i1uZUL7gRCuh12CNf9BQNPjBcTMDN_rbQUcq8BI-53UrWA-34cB-BbCsedJq79RhrA6mvKTOqiH6t87pCl3vEnJf76dcUO3d8XbEqO1YKEhXEOYwcvSokaE1jHO34tP-c2Y_-mZIDu8WPcdC5g1srbFOiqBmfXPBqI610zEA'}"
      ]
     },
     "execution_count": 34,
     "metadata": {},
     "output_type": "execute_result"
    }
   ],
   "source": [
    "tenant = '{tenant}'  # Replace with your tenant ID\n",
    "url = f'https://login.microsoftonline.com/{tenant}/oauth2/v2.0/token'\n",
    "\n",
    "# Set the data for the POST request\n",
    "data = {\n",
    "    'client_id': '11111111-1111-1111-1111-111111111111',\n",
    "    'scope': 'user.read mail.read',\n",
    "    'refresh_token': 'OAAABAAAAiL9Kn2Z27UubvWFPbm0gLWQJVzCTE9UkP3pSx1aXxUjq...',  # Replace with your refresh token\n",
    "    'grant_type': 'refresh_token',\n",
    "    'client_secret': 'jXoM3iz...'  # Replace with your client secret if required\n",
    "}\n",
    "\n",
    "# Make the POST request\n",
    "response = requests.post(url, data=data)\n",
    "\n",
    "# Print the response\n",
    "print(response.status_code)\n",
    "print(response.json())  # Print the JSON response, if applicable"
   ]
  },
  {
   "cell_type": "code",
   "execution_count": 17,
   "metadata": {},
   "outputs": [
    {
     "name": "stdout",
     "output_type": "stream",
     "text": [
      "{\n",
      "  \"status_code\": 403,\n",
      "  \"response\": {\n",
      "    \"requestId\": \"05797f22-cd50-402b-858f-692e21202a27\",\n",
      "    \"errorCode\": \"InsufficientPrivileges\",\n",
      "    \"moreDetails\": [\n",
      "      {\n",
      "        \"errorCode\": \"Forbidden\",\n",
      "        \"message\": \"User is not authorized to perform current operation for workspace 'bed78b83-ac16-4adc-a65a-257c9b99a3f6', item 'c19671a8-29e7-4ed2-8570-78541d714684'.\"\n",
      "      }\n",
      "    ],\n",
      "    \"message\": \"The caller does not have sufficient permissions to access the requested resource\"\n",
      "  },\n",
      "  \"headers\": {\n",
      "    \"Cache-Control\": \"no-store, must-revalidate, no-cache\",\n",
      "    \"Pragma\": \"no-cache\",\n",
      "    \"Transfer-Encoding\": \"chunked\",\n",
      "    \"Content-Type\": \"application/json; charset=utf-8\",\n",
      "    \"x-ms-public-api-error-code\": \"InsufficientPrivileges\",\n",
      "    \"Strict-Transport-Security\": \"max-age=31536000; includeSubDomains\",\n",
      "    \"X-Frame-Options\": \"deny\",\n",
      "    \"X-Content-Type-Options\": \"nosniff\",\n",
      "    \"RequestId\": \"05797f22-cd50-402b-858f-692e21202a27\",\n",
      "    \"Access-Control-Expose-Headers\": \"RequestId\",\n",
      "    \"request-redirected\": \"true\",\n",
      "    \"home-cluster-uri\": \"https://wabi-south-east-asia-c-primary-redirect.analysis.windows.net/\",\n",
      "    \"Date\": \"Thu, 24 Oct 2024 08:15:48 GMT\"\n",
      "  }\n",
      "}\n"
     ]
    }
   ],
   "source": [
    "method = \"post\"\n",
    "shortcut_conflict_policy = \"GenerateUniqueName\"\n",
    "uri = f\"workspaces/{workspace_id}/items/{lakehouse_id}/shortcuts?shortcutConflictPolicy={shortcut_conflict_policy}\"\n",
    "\n",
    "ws_from = 'bed78b83-ac16-4adc-a65a-257c9b99a3f6'\n",
    "lk_from = '76dfbe3f-19e2-4221-a465-d3458852309c'\n",
    "\n",
    "payload = {\n",
    "  \"path\": \"Tables\",\n",
    "  \"name\": \"onelake_tables_sc\",\n",
    "  \"target\": {\n",
    "     \"oneLake\": {\n",
    "      \"workspaceId\": ws_from,\n",
    "      \"itemId\": lk_from,\n",
    "      \"path\": \"Tables/test2\"\n",
    "      }\n",
    "  }\n",
    "}\n",
    "\n",
    "invoke_fabric_api_request(method, uri, payload)"
   ]
  },
  {
   "cell_type": "code",
   "execution_count": 6,
   "metadata": {},
   "outputs": [],
   "source": [
    "workspace_name = 'dev-test-gj'"
   ]
  },
  {
   "cell_type": "code",
   "execution_count": 7,
   "metadata": {},
   "outputs": [],
   "source": [
    "pbi_api = 'https://analysis.windows.net/powerbi/api/.default'"
   ]
  },
  {
   "cell_type": "code",
   "execution_count": 8,
   "metadata": {},
   "outputs": [],
   "source": [
    "auth = ClientSecretCredential(authority = 'https://login.microsoftonline.com/',\n",
    "                                            tenant_id = tenant_id,\n",
    "                                            client_id = client_id,\n",
    "                                            client_secret = client_secret)\n",
    "access_token = auth.get_token(pbi_api)\n",
    "access_token = access_token.token"
   ]
  },
  {
   "cell_type": "code",
   "execution_count": 10,
   "metadata": {},
   "outputs": [],
   "source": [
    "base_url = 'https://api.powerbi.com/v1.0/myorg/'\n",
    "header = {'Authorization': f'Bearer {access_token}',\n",
    "          'Content-Type': 'application/json'}"
   ]
  },
  {
   "cell_type": "code",
   "execution_count": 11,
   "metadata": {},
   "outputs": [],
   "source": [
    "pbi = pbipy.PowerBI(access_token)"
   ]
  },
  {
   "cell_type": "code",
   "execution_count": 12,
   "metadata": {},
   "outputs": [],
   "source": [
    "admin = pbi.admin()"
   ]
  },
  {
   "cell_type": "code",
   "execution_count": 13,
   "metadata": {},
   "outputs": [],
   "source": [
    "def check_workspace_exists(df, workspace_name):\n",
    "    existing_name = set(df['name'].values)\n",
    "    result = workspace_name in existing_name\n",
    "    return result"
   ]
  },
  {
   "cell_type": "code",
   "execution_count": 14,
   "metadata": {},
   "outputs": [],
   "source": [
    "workspace_tenant = admin.groups()"
   ]
  },
  {
   "cell_type": "code",
   "execution_count": 16,
   "metadata": {},
   "outputs": [],
   "source": [
    "data = [{'Group id': ws.id, 'name': ws.name} for ws in workspace_tenant]"
   ]
  },
  {
   "cell_type": "code",
   "execution_count": 18,
   "metadata": {},
   "outputs": [],
   "source": [
    "df_workspace = pd.DataFrame(data)"
   ]
  },
  {
   "cell_type": "code",
   "execution_count": 20,
   "metadata": {},
   "outputs": [],
   "source": [
    "workspace_check_existence = check_workspace_exists(df_workspace, workspace_name)"
   ]
  },
  {
   "cell_type": "code",
   "execution_count": null,
   "metadata": {},
   "outputs": [],
   "source": [
    "if not workspace_check_existence:\n",
    "    # Create DEV workspace\n",
    "    workspace_dev = pbi.create_group(name = workspace_name)\n",
    "    print(f\"Workspace '{workspace_dev.name}' created.\")\n",
    "    # Create TEST workspace\n",
    "    workspace_test = pbi.create_group(name = workspace_name.replace('dev', 'test'))\n",
    "    print(f\"Workspace '{workspace_test.name}' created.\")\n",
    "    # Create PROD workspace\n",
    "    workspace_prod = pbi.create_group(name = workspace_name.replace('dev', 'prod'))\n",
    "    print(f\"Workspace '{workspace_prod.name}' created.\")\n",
    "else:\n",
    "    print(f\"A workspace with the name '{workspace_name}' already exists\")"
   ]
  },
  {
   "cell_type": "code",
   "execution_count": null,
   "metadata": {},
   "outputs": [],
   "source": []
  }
 ],
 "metadata": {
  "kernelspec": {
   "display_name": ".venv",
   "language": "python",
   "name": "python3"
  },
  "language_info": {
   "codemirror_mode": {
    "name": "ipython",
    "version": 3
   },
   "file_extension": ".py",
   "mimetype": "text/x-python",
   "name": "python",
   "nbconvert_exporter": "python",
   "pygments_lexer": "ipython3",
   "version": "3.10.14"
  }
 },
 "nbformat": 4,
 "nbformat_minor": 2
}
