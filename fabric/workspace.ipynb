{
 "cells": [
  {
   "cell_type": "code",
   "execution_count": 4,
   "metadata": {},
   "outputs": [],
   "source": [
    "import pandas as pd\n",
    "import pbipy\n",
    "import requests\n",
    "from azure.identity import ClientSecretCredential\n",
    "import json"
   ]
  },
  {
   "cell_type": "code",
   "execution_count": null,
   "metadata": {},
   "outputs": [],
   "source": [
    "import os\n",
    "from dotenv import load_dotenv\n",
    "load_dotenv()"
   ]
  },
  {
   "cell_type": "code",
   "execution_count": 3,
   "metadata": {},
   "outputs": [],
   "source": [
    "tenant_id = os.getenv('tenant_id')\n",
    "client_id = os.getenv('client_id')\n",
    "client_secret = os.getenv('client_secret')"
   ]
  },
  {
   "cell_type": "code",
   "execution_count": 1,
   "metadata": {},
   "outputs": [],
   "source": [
    "from invoke_fabric_api import *"
   ]
  },
  {
   "cell_type": "code",
   "execution_count": 2,
   "metadata": {},
   "outputs": [],
   "source": [
    "workspace_id = 'bed78b83-ac16-4adc-a65a-257c9b99a3f6'\n",
    "lakehouse_id = 'c19671a8-29e7-4ed2-8570-78541d714684'"
   ]
  },
  {
   "cell_type": "code",
   "execution_count": 56,
   "metadata": {},
   "outputs": [
    {
     "name": "stdout",
     "output_type": "stream",
     "text": [
      "https://login.microsoftonline.com/5cd64994-64c0-4c59-bca6-801527b1a508/oauth2/v2.0/authorize?client_id=80c581f3-02d7-4bbf-b371-8a61b80740ba&response_type=code&redirect_uri=http%3A%2F%2Flocalhost%2Fmyapp%2F&response_mode=query&scope=offline_access+https%3A%2F%2Fapi.fabric.microsoft.com%2FOneLake.ReadWrite.All&state=12345\n"
     ]
    }
   ],
   "source": [
    "import requests\n",
    "\n",
    "# Define the parameters\n",
    "tenant = os.getenv('tenant_id')  # Replace with your tenant ID\n",
    "client_id = os.getenv('client_id')\n",
    "redirect_uri = 'http://localhost/myapp/'\n",
    "response_type = 'code'\n",
    "response_mode = 'query'\n",
    "# scope = ['https://api.fabric.microsoft.com/OneLake.ReadWrite.All']\n",
    "scope= 'offline_access https://api.fabric.microsoft.com/OneLake.ReadWrite.All'\n",
    "state = '12345'\n",
    "\n",
    "# Construct the URL\n",
    "url = f'https://login.microsoftonline.com/{tenant}/oauth2/v2.0/authorize'\n",
    "\n",
    "# Create the query parameters\n",
    "params = {\n",
    "    'client_id': client_id,\n",
    "    'response_type': response_type,\n",
    "    'redirect_uri': redirect_uri,\n",
    "    'response_mode': response_mode,\n",
    "    'scope': scope,\n",
    "    'state': state\n",
    "}\n",
    "\n",
    "# Make the GET request\n",
    "response = requests.get(url, params=params)\n",
    "\n",
    "# Print the response URL\n",
    "print(response.url)"
   ]
  },
  {
   "cell_type": "code",
   "execution_count": 57,
   "metadata": {},
   "outputs": [],
   "source": [
    "code='0.AcYAlEnWXMBkWUy8poAVJ7GlCPOBxYDXAr9Ls3GKYbgHQLrGAK0.AgABBAIAAADW6jl31mB3T7ugrWTT8pFeAwDs_wUA9P_RDyMwO8XqqdfARsFIAPomVBis9G8zaDFNM-90-2SLh6649wuN2AMkstvPsIBf782L6kO6w6DvWgiLrFX9eqKdWSSuE6k6-DuMhh_rx-KH1sR-modg-lzTSTfielTogf4I8DekhpL1-3ejJIqbojN2TuBs6wrqmz2stoVDWXZ9M0e-w4tyM_z5xFKwjH6OjC3UAVVHvXm6AowNB2X4BHBiA7whu-y1BooFTXcKnWDjf1dQqmOwP-A51LzZCTwnE7VA7AIRL_yc9z3Do_lZRku81G1ANG-O986v-d0Osb3loOlYzeZAN3DK1BUPcS5wjIfRxrEnKa-CFVFhFu1tB1Em4ZC7rcT1w2apj6CBBZCciHEVBlH3jAJeJgFs-Xu-_6T4j1yRSpy84IBH9YYpw4ApTb48G-yGpcOz99MdYWTNvZN63fkfJpD2PPGZ8G8h2-MyZp35rlG-p1EWVzJfmNkQ6_uiBsax0kg2aC3n7yzWz-MTgcJx98tf8SXLYA3MgkgtON18UXIqIz79xhLEl7LVv6dYIodRoluER8Tb_pgI1EvmXHhRItb53dlpjVmWMT6jchEBgyCha7xXxN7A_7SnDnAlkHBhGtzZpLmwS-sSTlgAXuRzoocR_MsKQk-vWNVrikqsgIydROWd_i6sFtEmXVjigan7bXqlRl55tCD-eiV_rqvluimMu_1WLRUbWQNFkj5JZ5pMeZXB8rVCMJpY7Xy3cASwpHXGp2iypbJO5YJhgcYrBou8qCg'"
   ]
  },
  {
   "cell_type": "code",
   "execution_count": 83,
   "metadata": {},
   "outputs": [],
   "source": [
    "code = ''"
   ]
  },
  {
   "cell_type": "code",
   "execution_count": 84,
   "metadata": {},
   "outputs": [],
   "source": [
    "if code:\n",
    "    print(1)"
   ]
  },
  {
   "cell_type": "code",
   "execution_count": 58,
   "metadata": {},
   "outputs": [
    {
     "name": "stdout",
     "output_type": "stream",
     "text": [
      "Access Token: eyJ0eXAiOiJKV1QiLCJhbGciOiJSUzI1NiIsIng1dCI6IjNQYUs0RWZ5Qk5RdTNDdGpZc2EzWW1oUTVFMCIsImtpZCI6IjNQYUs0RWZ5Qk5RdTNDdGpZc2EzWW1oUTVFMCJ9.eyJhdWQiOiJodHRwczovL2FwaS5mYWJyaWMubWljcm9zb2Z0LmNvbSIsImlzcyI6Imh0dHBzOi8vc3RzLndpbmRvd3MubmV0LzVjZDY0OTk0LTY0YzAtNGM1OS1iY2E2LTgwMTUyN2IxYTUwOC8iLCJpYXQiOjE3Mjk4MjIxMzUsIm5iZiI6MTcyOTgyMjEzNSwiZXhwIjoxNzI5ODI3NjQ5LCJhY2N0IjowLCJhY3IiOiIxIiwiYWlvIjoiQVZRQXEvOFlBQUFBcGswNUZzL0RxTHMwNWpqWS92Z2o4d0dlcGJvTnlQUGdNNGxveDdnL3pLUS9JcXVuZU5vWmdlWGpMNDkxRWpCTHg4S25nazJ3K2FobCtiZStqNWpoMWY1L1haTGxZeGZqVlY5UzBGR1Y2a3M9IiwiYW1yIjpbInB3ZCIsIm1mYSJdLCJhcHBpZCI6IjgwYzU4MWYzLTAyZDctNGJiZi1iMzcxLThhNjFiODA3NDBiYSIsImFwcGlkYWNyIjoiMSIsImZhbWlseV9uYW1lIjoiTEUiLCJnaXZlbl9uYW1lIjoiVFkiLCJpZHR5cCI6InVzZXIiLCJpcGFkZHIiOiIxMTMuMTYxLjM5LjE0MyIsIm5hbWUiOiJUWSBMRSIsIm9pZCI6ImRjOGU0MjBmLWIwNDYtNGFhMy1hNzVjLWNiMmI0OTY1YmIzYyIsInB1aWQiOiIxMDAzMjAwM0IyRTc4RkQyIiwicmgiOiIwLkFjWUFsRW5XWE1Ca1dVeThwb0FWSjdHbENBa0FBQUFBQUFBQXdBQUFBQUFBQUFER0FLMC4iLCJzY3AiOiJPbmVMYWtlLlJlYWRXcml0ZS5BbGwiLCJzaWduaW5fc3RhdGUiOlsia21zaSJdLCJzdWIiOiJTTWdFV0RhMlozNW5uMkNNWTdqRGNUVWRYZ1hYc0w1cmJyMUJWUEVNbjBnIiwidGlkIjoiNWNkNjQ5OTQtNjRjMC00YzU5LWJjYTYtODAxNTI3YjFhNTA4IiwidW5pcXVlX25hbWUiOiJ0eS5sZUBkYXRhdmVyc2UuY29tLnZuIiwidXBuIjoidHkubGVAZGF0YXZlcnNlLmNvbS52biIsInV0aSI6IlNaTFJCTGRVdmtHUTRiMTZDMEl3QUEiLCJ2ZXIiOiIxLjAiLCJ3aWRzIjpbIjYyZTkwMzk0LTY5ZjUtNDIzNy05MTkwLTAxMjE3NzE0NWUxMCIsImI3OWZiZjRkLTNlZjktNDY4OS04MTQzLTc2YjE5NGU4NTUwOSJdLCJ4bXNfaWRyZWwiOiIxIDE4IiwieG1zX3BsIjoiZW4ifQ.SZ00gjYhw44EUpT9BDEnLIKNUGxguGVI1SKvve_TKY-FGmHCdU_RnuR5LIq5vnXDqXya_q3Gk0xEl7-zOxl9qaB0QudPA11xMKqIoimeuaaOt2uI6b6Zwt519HvO0B-LaIiEvCZJhGcMl8Ji4P7Rm_h6e9wfIpQ9z7X4c1s9ekLHKaz9k5fSG1Y_tmDfZ9RekNCVu5CUR3LweS3kSoCf6L9sTamnkgpIOudthm5NxKqQZaWWb_rnOXi4-sIza5Ni7VwDHhaihycUgV7s1vVFiiZsn7XeumkntoLjc2yjdmUUDdPMdh5PHFrCDQsS-NCnHb3WRwfYaWguIE15mzU45g\n"
     ]
    }
   ],
   "source": [
    "url = f'https://login.microsoftonline.com/{tenant}/oauth2/v2.0/token'\n",
    "\n",
    "# Prepare the data for the request\n",
    "data = {\n",
    "    'client_id': os.getenv('client_id'),\n",
    "    'scope': scope,\n",
    "    'code': code,\n",
    "    'redirect_uri': 'http://localhost/myapp/',\n",
    "    'grant_type': 'authorization_code',\n",
    "    'client_secret': os.getenv('client_secret')  # Only required for web apps\n",
    "}\n",
    "\n",
    "# Make the POST request\n",
    "response = requests.post(url, data=data)\n",
    "\n",
    "# Check the response\n",
    "if response.status_code == 200:\n",
    "    token_info = response.json()\n",
    "    print('Access Token:', token_info['access_token'])\n",
    "else:\n",
    "    print('Error:', response.status_code, response.text)\n"
   ]
  },
  {
   "cell_type": "code",
   "execution_count": 52,
   "metadata": {},
   "outputs": [
    {
     "name": "stdout",
     "output_type": "stream",
     "text": [
      "{\n",
      "  \"status_code\": 403,\n",
      "  \"response\": {\n",
      "    \"requestId\": \"ac2356a5-8b3b-4824-a5e4-c86b03098422\",\n",
      "    \"errorCode\": \"InsufficientPrivileges\",\n",
      "    \"moreDetails\": [\n",
      "      {\n",
      "        \"errorCode\": \"Forbidden\",\n",
      "        \"message\": \"User is not authorized to perform current operation for workspace 'bed78b83-ac16-4adc-a65a-257c9b99a3f6', item 'c19671a8-29e7-4ed2-8570-78541d714684'.\"\n",
      "      }\n",
      "    ],\n",
      "    \"message\": \"The caller does not have sufficient permissions to access the requested resource\"\n",
      "  },\n",
      "  \"headers\": {\n",
      "    \"Cache-Control\": \"no-store, must-revalidate, no-cache\",\n",
      "    \"Pragma\": \"no-cache\",\n",
      "    \"Transfer-Encoding\": \"chunked\",\n",
      "    \"Content-Type\": \"application/json; charset=utf-8\",\n",
      "    \"x-ms-public-api-error-code\": \"InsufficientPrivileges\",\n",
      "    \"Strict-Transport-Security\": \"max-age=31536000; includeSubDomains\",\n",
      "    \"X-Frame-Options\": \"deny\",\n",
      "    \"X-Content-Type-Options\": \"nosniff\",\n",
      "    \"RequestId\": \"ac2356a5-8b3b-4824-a5e4-c86b03098422\",\n",
      "    \"Access-Control-Expose-Headers\": \"RequestId\",\n",
      "    \"request-redirected\": \"true\",\n",
      "    \"home-cluster-uri\": \"https://wabi-south-east-asia-c-primary-redirect.analysis.windows.net/\",\n",
      "    \"Date\": \"Thu, 24 Oct 2024 08:48:27 GMT\"\n",
      "  }\n",
      "}\n",
      "{\n",
      "  \"status_code\": 201,\n",
      "  \"response\": {\n",
      "    \"name\": \"onelake_tables_sc\",\n",
      "    \"path\": \"Tables\",\n",
      "    \"target\": {\n",
      "      \"type\": \"OneLake\",\n",
      "      \"oneLake\": {\n",
      "        \"itemId\": \"76dfbe3f-19e2-4221-a465-d3458852309c\",\n",
      "        \"path\": \"Tables/test2\",\n",
      "        \"workspaceId\": \"bed78b83-ac16-4adc-a65a-257c9b99a3f6\"\n",
      "      }\n",
      "    }\n",
      "  },\n",
      "  \"headers\": {\n",
      "    \"Cache-Control\": \"no-store, must-revalidate, no-cache\",\n",
      "    \"Pragma\": \"no-cache\",\n",
      "    \"Content-Length\": \"196\",\n",
      "    \"Content-Type\": \"application/json; charset=utf-8\",\n",
      "    \"Content-Encoding\": \"gzip\",\n",
      "    \"Location\": \"https://api.fabric.microsoft.com/v1/workspaces/bed78b83-ac16-4adc-a65a-257c9b99a3f6/items/c19671a8-29e7-4ed2-8570-78541d714684/shortcuts/Tables/onelake_tables_sc\",\n",
      "    \"Access-Control-Allow-Origin\": \"*\",\n",
      "    \"Access-Control-Allow-Headers\": \"*\",\n",
      "    \"Access-Control-Allow-Methods\": \"*\",\n",
      "    \"Access-Control-Expose-Headers\": \"*,Authorization, RequestId,Location\",\n",
      "    \"Strict-Transport-Security\": \"max-age=31536000; includeSubDomains, max-age=31536000; includeSubDomains\",\n",
      "    \"X-Content-Type-Options\": \"nosniff, nosniff\",\n",
      "    \"x-ms-root-activity-id\": \"191271d2-da03-4afc-8bb3-e77cc7de85ba\",\n",
      "    \"X-Frame-Options\": \"deny\",\n",
      "    \"RequestId\": \"55d60de8-fe31-456d-8529-e05e6e48c074\",\n",
      "    \"request-redirected\": \"true\",\n",
      "    \"home-cluster-uri\": \"https://wabi-south-east-asia-c-primary-redirect.analysis.windows.net/\",\n",
      "    \"Date\": \"Thu, 24 Oct 2024 08:48:30 GMT\"\n",
      "  }\n",
      "}\n"
     ]
    }
   ],
   "source": [
    "method = \"post\"\n",
    "shortcut_conflict_policy = \"GenerateUniqueName\"\n",
    "uri = f\"workspaces/{workspace_id}/items/{lakehouse_id}/shortcuts?shortcutConflictPolicy={shortcut_conflict_policy}\"\n",
    "\n",
    "ws_from = 'bed78b83-ac16-4adc-a65a-257c9b99a3f6'\n",
    "lk_from = '76dfbe3f-19e2-4221-a465-d3458852309c'\n",
    "\n",
    "payload = {\n",
    "  \"path\": \"Tables\",\n",
    "  \"name\": \"onelake_tables_sc\",\n",
    "  \"target\": {\n",
    "     \"oneLake\": {\n",
    "      \"workspaceId\": ws_from,\n",
    "      \"itemId\": lk_from,\n",
    "      \"path\": \"Tables/test2\"\n",
    "      }\n",
    "  }\n",
    "}\n",
    "\n",
    "API_ENDPOINT = \"api.fabric.microsoft.com/v1\"\n",
    "\n",
    "\n",
    "\n",
    "headers = {\n",
    "    \"Authorization\": \"Bearer \" + token_info['access_token'],\n",
    "    \"Content-Type\": \"application/json\"\n",
    "}\n",
    "\n",
    "try:\n",
    "    url = f\"https://{API_ENDPOINT}/{uri}\"\n",
    "        \n",
    "    session = requests.Session()\n",
    "    retries = Retry(total=3, backoff_factor=5, status_forcelist=[502, 503, 504])\n",
    "    adapter = HTTPAdapter(max_retries=retries)\n",
    "    session.mount('http://', adapter)\n",
    "    session.mount('https://', adapter)\n",
    "\n",
    "    response = session.request(method, url, headers=headers, json=payload, timeout=240)\n",
    "\n",
    "    response_details = {\n",
    "        'status_code': response.status_code,\n",
    "        'response': response.json() if response.content else {},\n",
    "        'headers': dict(response.headers) \n",
    "    }\n",
    "    print(json.dumps(response_details, indent=2))\n",
    "\n",
    "except requests.RequestException as ex:\n",
    "    print(ex)"
   ]
  },
  {
   "cell_type": "code",
   "execution_count": 51,
   "metadata": {},
   "outputs": [
    {
     "data": {
      "text/plain": [
       "{'token_type': 'Bearer',\n",
       " 'scope': 'https://api.fabric.microsoft.com/OneLake.ReadWrite.All',\n",
       " 'expires_in': 3647,\n",
       " 'ext_expires_in': 3647,\n",
       " 'access_token': 'eyJ0eXAiOiJKV1QiLCJhbGciOiJSUzI1NiIsIng1dCI6IjNQYUs0RWZ5Qk5RdTNDdGpZc2EzWW1oUTVFMCIsImtpZCI6IjNQYUs0RWZ5Qk5RdTNDdGpZc2EzWW1oUTVFMCJ9.eyJhdWQiOiJodHRwczovL2FwaS5mYWJyaWMubWljcm9zb2Z0LmNvbSIsImlzcyI6Imh0dHBzOi8vc3RzLndpbmRvd3MubmV0LzVjZDY0OTk0LTY0YzAtNGM1OS1iY2E2LTgwMTUyN2IxYTUwOC8iLCJpYXQiOjE3Mjk3NTkyOTMsIm5iZiI6MTcyOTc1OTI5MywiZXhwIjoxNzI5NzYzMjQxLCJhY2N0IjowLCJhY3IiOiIxIiwiYWlvIjoiQVZRQXEvOFlBQUFBZVgrTjdNLzVXZTRRRXBSVENjOEdvd005cU0xMmIzd29oQ2tvcnd2aGpJeUg0VmV6eTRwMkx4d1U4Y2k0SmwwdUxKVHprN2k3cUErSFYyNFJFOUl2L2RQK3Y1TS9jOXpHMHMvS01VNVk1T1E9IiwiYW1yIjpbInB3ZCIsIm1mYSJdLCJhcHBpZCI6IjgwYzU4MWYzLTAyZDctNGJiZi1iMzcxLThhNjFiODA3NDBiYSIsImFwcGlkYWNyIjoiMSIsImZhbWlseV9uYW1lIjoiTEUiLCJnaXZlbl9uYW1lIjoiVFkiLCJpZHR5cCI6InVzZXIiLCJpcGFkZHIiOiIxMTMuMTYxLjM5LjE0MyIsIm5hbWUiOiJUWSBMRSIsIm9pZCI6ImRjOGU0MjBmLWIwNDYtNGFhMy1hNzVjLWNiMmI0OTY1YmIzYyIsInB1aWQiOiIxMDAzMjAwM0IyRTc4RkQyIiwicmgiOiIwLkFjWUFsRW5XWE1Ca1dVeThwb0FWSjdHbENBa0FBQUFBQUFBQXdBQUFBQUFBQUFER0FLMC4iLCJzY3AiOiJPbmVMYWtlLlJlYWRXcml0ZS5BbGwiLCJzaWduaW5fc3RhdGUiOlsia21zaSJdLCJzdWIiOiJTTWdFV0RhMlozNW5uMkNNWTdqRGNUVWRYZ1hYc0w1cmJyMUJWUEVNbjBnIiwidGlkIjoiNWNkNjQ5OTQtNjRjMC00YzU5LWJjYTYtODAxNTI3YjFhNTA4IiwidW5pcXVlX25hbWUiOiJ0eS5sZUBkYXRhdmVyc2UuY29tLnZuIiwidXBuIjoidHkubGVAZGF0YXZlcnNlLmNvbS52biIsInV0aSI6IkxuSnR0OS1SMUVDcFlaZ1NYb0dEQUEiLCJ2ZXIiOiIxLjAiLCJ3aWRzIjpbIjYyZTkwMzk0LTY5ZjUtNDIzNy05MTkwLTAxMjE3NzE0NWUxMCIsImI3OWZiZjRkLTNlZjktNDY4OS04MTQzLTc2YjE5NGU4NTUwOSJdLCJ4bXNfaWRyZWwiOiIxIDYiLCJ4bXNfcGwiOiJlbiJ9.WItc-Gung3pswhfFgtk2AIzcqSfvM9a3uIpomlY3_c_VshIYgF1uv_0evLY1Np0kuNTFq1-iJqWxrufMTg9eNIAxuZW0eM7IwK6bFGJ8wlaRyFId4wHZ6jUqMJxO9vcovb-lOj2S8CyssoJjYymjxr2Ce5S5tGo_s9tIJ7qnxFl_FTNMGKr322sptTgyX6SGrabZj4khkFrV_7RpurRW9nwjboCII2bzeq2CqZ02JIknP28QCb8PUuTV9i1Efg8mW_mff2bYixwKOmgnFdyfSALHyO-xP3iiAhrsmfPLXGJVzG46cUfkNW7bEEUoVyr5N06VBLqLAR3Ggde7NjYTmA',\n",
       " 'refresh_token': '0.AcYAlEnWXMBkWUy8poAVJ7GlCPOBxYDXAr9Ls3GKYbgHQLrGAK0.AgABAwEAAADW6jl31mB3T7ugrWTT8pFeAwDs_wUA9P_bzzXe6UULrT4qoVbB0pG9r0733Pn1zSEoilPsZrJqM-Y4Rx1F7OlhheQIScm161kYF15nAVrnIVu1dN4kKveyWhaHyDDzkuWvNWdpHeGy8DoZ0DuoSW84WU863ey1PhqYHmIaN_cAJAj4a7mkLsisS1McERha5lJihZOppLdnI4vqdOXGo-D5YC1IEG0PBxvlIzOlhCVkmBR3nFwxsTAN77u_WHxhSHCZDMmsqUoZ7lhJxTobvdY2nbbOTxfUl7yoQOdGXK-b73e1G9TxxAqRJYXG0FrsAnkfI54-TvwUkztBrf_Src2PK0tkFzPE-mWMyKYBrES7TP54RJdTEnjbBxhz2kk4UA_TzEu1IR9AFz3XxzU_i_9YfES-VF7xcqjlSLtXIMNJihqEAEuUlTZRi_n-YkizQUcE_B_jrYADa3EfsT1Wd58x76X9KSp3xRlv6VL7CzHgY_tnavFMcepWIylV3ftD6bMRjiEKFaaiOaQpVs8rg5o7vfvgx3J0EbHyh4MQ8NSEXueAeNliOwfYtLaeM6agXov6jM2B-xTqFY-OniM0BPjZnspR0mQZEix13aWL30rMClT-SK6QCTD3i8jUGthFCyl_NIyzXkMdfYntdhU2OSe2COTy1FFUOdOiXJ9D-iehwxsAonioz62RsL-EgoHuu0tV7jfJuqmEz-OncfvKW_2iml4rj_iBDCnHuEp6p7kxX5WttMN-pHuzXVjL6-oJOvQd09IMf4OOGTka2fJyswv4ahO7FFQ6YpY6MVxGtUiX'}"
      ]
     },
     "execution_count": 51,
     "metadata": {},
     "output_type": "execute_result"
    }
   ],
   "source": [
    "response.json"
   ]
  },
  {
   "cell_type": "code",
   "execution_count": 53,
   "metadata": {},
   "outputs": [],
   "source": [
    "refresh_token='0.AcYAlEnWXMBkWUy8poAVJ7GlCPOBxYDXAr9Ls3GKYbgHQLrGAK0.AgABAwEAAADW6jl31mB3T7ugrWTT8pFeAwDs_wUA9P_bzzXe6UULrT4qoVbB0pG9r0733Pn1zSEoilPsZrJqM-Y4Rx1F7OlhheQIScm161kYF15nAVrnIVu1dN4kKveyWhaHyDDzkuWvNWdpHeGy8DoZ0DuoSW84WU863ey1PhqYHmIaN_cAJAj4a7mkLsisS1McERha5lJihZOppLdnI4vqdOXGo-D5YC1IEG0PBxvlIzOlhCVkmBR3nFwxsTAN77u_WHxhSHCZDMmsqUoZ7lhJxTobvdY2nbbOTxfUl7yoQOdGXK-b73e1G9TxxAqRJYXG0FrsAnkfI54-TvwUkztBrf_Src2PK0tkFzPE-mWMyKYBrES7TP54RJdTEnjbBxhz2kk4UA_TzEu1IR9AFz3XxzU_i_9YfES-VF7xcqjlSLtXIMNJihqEAEuUlTZRi_n-YkizQUcE_B_jrYADa3EfsT1Wd58x76X9KSp3xRlv6VL7CzHgY_tnavFMcepWIylV3ftD6bMRjiEKFaaiOaQpVs8rg5o7vfvgx3J0EbHyh4MQ8NSEXueAeNliOwfYtLaeM6agXov6jM2B-xTqFY-OniM0BPjZnspR0mQZEix13aWL30rMClT-SK6QCTD3i8jUGthFCyl_NIyzXkMdfYntdhU2OSe2COTy1FFUOdOiXJ9D-iehwxsAonioz62RsL-EgoHuu0tV7jfJuqmEz-OncfvKW_2iml4rj_iBDCnHuEp6p7kxX5WttMN-pHuzXVjL6-oJOvQd09IMf4OOGTka2fJyswv4ahO7FFQ6YpY6MVxGtUiX'"
   ]
  },
  {
   "cell_type": "code",
   "execution_count": 82,
   "metadata": {},
   "outputs": [
    {
     "name": "stdout",
     "output_type": "stream",
     "text": [
      "200\n",
      "{'token_type': 'Bearer', 'scope': 'https://api.fabric.microsoft.com/OneLake.ReadWrite.All', 'expires_in': 4319, 'ext_expires_in': 4319, 'access_token': 'eyJ0eXAiOiJKV1QiLCJhbGciOiJSUzI1NiIsIng1dCI6IjNQYUs0RWZ5Qk5RdTNDdGpZc2EzWW1oUTVFMCIsImtpZCI6IjNQYUs0RWZ5Qk5RdTNDdGpZc2EzWW1oUTVFMCJ9.eyJhdWQiOiJodHRwczovL2FwaS5mYWJyaWMubWljcm9zb2Z0LmNvbSIsImlzcyI6Imh0dHBzOi8vc3RzLndpbmRvd3MubmV0LzVjZDY0OTk0LTY0YzAtNGM1OS1iY2E2LTgwMTUyN2IxYTUwOC8iLCJpYXQiOjE3Mjk4MjI4NTcsIm5iZiI6MTcyOTgyMjg1NywiZXhwIjoxNzI5ODI3NDc3LCJhY2N0IjowLCJhY3IiOiIxIiwiYWlvIjoiQVZRQXEvOFlBQUFBMy9wMzkrSnJxK0o0c1ZDS2IrQm8ybGFVeHFQbDM5ZkRYeGUxRGM1L3V3dko4VTFCbGZkS0piWkh4TllBakFGNVJCSWdNMnpoSjZyK2ZtM2lrR242WXAxMnJWQmFoU2d6eEh3YmMzRGxzWWs9IiwiYW1yIjpbInB3ZCIsIm1mYSJdLCJhcHBpZCI6IjgwYzU4MWYzLTAyZDctNGJiZi1iMzcxLThhNjFiODA3NDBiYSIsImFwcGlkYWNyIjoiMSIsImZhbWlseV9uYW1lIjoiTEUiLCJnaXZlbl9uYW1lIjoiVFkiLCJpZHR5cCI6InVzZXIiLCJpcGFkZHIiOiIxMTMuMTYxLjM5LjE0MyIsIm5hbWUiOiJUWSBMRSIsIm9pZCI6ImRjOGU0MjBmLWIwNDYtNGFhMy1hNzVjLWNiMmI0OTY1YmIzYyIsInB1aWQiOiIxMDAzMjAwM0IyRTc4RkQyIiwicmgiOiIwLkFjWUFsRW5XWE1Ca1dVeThwb0FWSjdHbENBa0FBQUFBQUFBQXdBQUFBQUFBQUFER0FLMC4iLCJzY3AiOiJPbmVMYWtlLlJlYWRXcml0ZS5BbGwiLCJzaWduaW5fc3RhdGUiOlsia21zaSJdLCJzdWIiOiJTTWdFV0RhMlozNW5uMkNNWTdqRGNUVWRYZ1hYc0w1cmJyMUJWUEVNbjBnIiwidGlkIjoiNWNkNjQ5OTQtNjRjMC00YzU5LWJjYTYtODAxNTI3YjFhNTA4IiwidW5pcXVlX25hbWUiOiJ0eS5sZUBkYXRhdmVyc2UuY29tLnZuIiwidXBuIjoidHkubGVAZGF0YXZlcnNlLmNvbS52biIsInV0aSI6Il82d3NSNEpRWmtLMmxNV2pqbmJQQUEiLCJ2ZXIiOiIxLjAiLCJ3aWRzIjpbIjYyZTkwMzk0LTY5ZjUtNDIzNy05MTkwLTAxMjE3NzE0NWUxMCIsImI3OWZiZjRkLTNlZjktNDY4OS04MTQzLTc2YjE5NGU4NTUwOSJdLCJ4bXNfaWRyZWwiOiIxNiAxIiwieG1zX3BsIjoiZW4ifQ.db2L0b9Gh6HufvVMkhKXWBm9Xwwrul7eGx536HIDSB8MC7MAergY7ctBCXt3oE8ozZ1KKv516e2T27xBQhErC7C_al0TcP59aA7KpLjTIpUXhlgdlmNaXrODuEQ8iUcCsIskyDKGH1nJw0Etqf_qp7q9yQCWJ7lgiFSjOdUmIijYEeyDUsY2oPgEXek-cZNTT4_sFJjyEbWJSaoYTnRX_9badZVKMueSnj4hr4QPMrUlxxlGdrxgpW8Loc6WGp0hDYJA49j1jqom7J1i6w_-w03obNjlkUi734NMqZu4F4f_s1qlK2LemmOdEJPArvxAE8q1yot8qFc4GLTUKt-F5Q', 'refresh_token': '0.AcYAlEnWXMBkWUy8poAVJ7GlCPOBxYDXAr9Ls3GKYbgHQLrGAK0.AgABAwEAAADW6jl31mB3T7ugrWTT8pFeAwDs_wUA9P_e-VW0_cuNIO1GWK9nE4djIADuUfdlUJQ33K9brp_44B6-vGPlna4QqrLbL1TMrnW0wZRfiv2_GGBENSxRpUM6y5wL9GL9Al8Y7U2aE8LNB6bY18xvwjY7nWpGfb-hTwdx5xkwTlPIojw9poWq5rTFIJQy9QmmXsx2GGbpwN5D60s1O2-GzoXSrbcqWMa5Wmpi7258T1Mja2B7SN3CRd6D6l-Jl_cpbrV5JqAS-0gRFhuxfrJnDLk6g3RZsrsgmCRhQ37Wz8p0Knrjsn0B8Tavu3NUljSYYzPhAHSeC_IrvMQ7-7RX8BXxYjAm0J_IZTyYWhLwZdsB3ZgGfvPBn9BPlGAyKOIaESnfSwO8WOCoygZFrhLkOY-KcObngWcBiJlTg2TnEVYX8OoM9fyJ3NfmFBaDVMZGm1yTdY7yW9SqMKA_5DCYrNek1kTFIBZCudON610v0mkM6SGDlaeW4910ME1LcLOIB4X9hqg-6YJNVfo5tA7KaM-M7K_sJSUg74PL8kUti8iZoqdPUiNocxJoxdHagNFn3kbbZcd7sZE0iZUH9g1Xrro79-bRm8YmWNnP3MJl58mgbcj7FrwjCUs6qOsJ4TrkOSGefDrVDtzqeSJ6lGVN7LnXozI7sbBuEkPTLScbGS7jZ6t4hwHdFgbe5xRmkIILqNt2-NSJsdLfTQMo6YIyRic5mXFGtMWD0GRbmAR0FSFWhVUzir6e1G_gTnmJEL08HNKCU3TUuhIoDIpDl0ji2AQe5xaBrm_2j1g6_XYMflAO'}\n"
     ]
    }
   ],
   "source": [
    "# tenant = '{tenant}'  # Replace with your tenant ID\n",
    "url = f'https://login.microsoftonline.com/{tenant}/oauth2/v2.0/token'\n",
    "\n",
    "# Set the data for the POST request\n",
    "data = {\n",
    "    'client_id': os.getenv('client_id'),\n",
    "    'scope': scope,\n",
    "    'refresh_token': get_state('refresh_token'),  # Replace with your refresh token\n",
    "    'grant_type': 'refresh_token',\n",
    "    'client_secret': os.getenv('client_secret')  # Replace with your client secret if required\n",
    "}\n",
    "\n",
    "# Make the POST request\n",
    "response = requests.post(url, data=data)\n",
    "\n",
    "set_state('access_token',response.json()['access_token'])\n",
    "set_state('refresh_token',response.json()['refresh_token'])\n",
    "# Print the response\n",
    "print(response.status_code)\n",
    "print(response.json())  # Print the JSON response, if applicable"
   ]
  },
  {
   "cell_type": "code",
   "execution_count": 71,
   "metadata": {},
   "outputs": [
    {
     "data": {
      "text/plain": [
       "'0.AcYAlEnWXMBkWUy8poAVJ7GlCPOBxYDXAr9Ls3GKYbgHQLrGAK0.AgABAwEAAADW6jl31mB3T7ugrWTT8pFeAwDs_wUA9P9oWTm30EoDYauCV_ICcOS-Ot-MGFHHF7GnHfH8sjILtrpG-q1-oK_8CweZY-ucRZgo9SX7A5C-w-QURN4lcMSGBSBovQlHq3FYLyBQMR1TtgAJf_5Al_mMiswQvXGIr2bsWIRUD0CwiuXuZkkEwlTvVc3vsVyT4ejpRRVxVPpl36LCjyYqdPdW_-IYYJZ744LpNpWiOmUH8rOTASjIwdvunZxzqdIUm_-nArvkY4vYmfDtYQfjmDmcCuU4yhzELKGk8IVZ01Lq0neJxIrLy81ePjD7nY5SoznSQtREhfeSOZZ0Dp2jxveHdZ_DQ9WHnHGfOsnTPlYj44UZoqo1N2VElaAbmkEHTOyBB8kiIOtV2OTXaFhwZgbtPVCg8eP4NZk09xTdxOGajZr12_Eq-z42sWPx6_PdeWimrTclgrV7UkklEV3kXhyqM8Gr4KZA_c8HTWZTehUjLtpDHa_gB9g1Nq6fxwbqV8gyvfwwt917U0GBH4V3fWmx6az0O81qGA7wp-vlBzJncSKujJJ-Cq2XRbI4vTpXSkDMgNfzRtNlZBlzF_d2HD1spLjseRfir9Vdm4larvVltXXy28RFoJCp2VGF7JylEt6TAl6KYSkIep2NVHb_TTPjLtn5tzvj8oVtr7y_m1preo-eBIi23o-Rkb_omCe6UB8jhOK4AWY_3BdPJ72oV34OJ6p-Qwczly203OXg34bqoFl-GZ0SrhDYsbu10Sgal4HyuWr6ZuQzdspPEhiL1qieDTCvuVQfc1IES5icGJ2T'"
      ]
     },
     "execution_count": 71,
     "metadata": {},
     "output_type": "execute_result"
    }
   ],
   "source": [
    "refresh_token"
   ]
  },
  {
   "cell_type": "code",
   "execution_count": 68,
   "metadata": {},
   "outputs": [
    {
     "name": "stdout",
     "output_type": "stream",
     "text": [
      "Collecting pyyaml\n",
      "  Using cached PyYAML-6.0.2-cp310-cp310-win_amd64.whl (161 kB)\n",
      "Installing collected packages: pyyaml\n",
      "Successfully installed pyyaml-6.0.2\n",
      "Note: you may need to restart the kernel to use updated packages.\n"
     ]
    },
    {
     "name": "stderr",
     "output_type": "stream",
     "text": [
      "\n",
      "[notice] A new release of pip is available: 23.0.1 -> 24.2\n",
      "[notice] To update, run: python.exe -m pip install --upgrade pip\n"
     ]
    }
   ],
   "source": [
    "pip install pyyaml"
   ]
  },
  {
   "cell_type": "code",
   "execution_count": 72,
   "metadata": {},
   "outputs": [],
   "source": [
    "import yaml\n",
    "config = yaml.safe_load(open(\"./conf.yaml\"))"
   ]
  },
  {
   "cell_type": "code",
   "execution_count": 81,
   "metadata": {},
   "outputs": [],
   "source": [
    "def set_state(key,value):\n",
    "    file_name = \"./conf.yaml\"\n",
    "    with open(file_name) as f:\n",
    "        doc = yaml.safe_load(f)\n",
    "    doc[key] = value\n",
    "    with open(file_name, 'w') as f:\n",
    "        yaml.safe_dump(doc, f)\n",
    "\n",
    "def get_state(key):\n",
    "    config = yaml.safe_load(open(\"./conf.yaml\"))\n",
    "    return config[key]"
   ]
  },
  {
   "cell_type": "code",
   "execution_count": 85,
   "metadata": {},
   "outputs": [],
   "source": [
    "from utils import *"
   ]
  },
  {
   "cell_type": "code",
   "execution_count": 87,
   "metadata": {},
   "outputs": [
    {
     "data": {
      "text/plain": [
       "'eyJ0eXAiOiJKV1QiLCJhbGciOiJSUzI1NiIsIng1dCI6IjNQYUs0RWZ5Qk5RdTNDdGpZc2EzWW1oUTVFMCIsImtpZCI6IjNQYUs0RWZ5Qk5RdTNDdGpZc2EzWW1oUTVFMCJ9.eyJhdWQiOiJodHRwczovL2FwaS5mYWJyaWMubWljcm9zb2Z0LmNvbSIsImlzcyI6Imh0dHBzOi8vc3RzLndpbmRvd3MubmV0LzVjZDY0OTk0LTY0YzAtNGM1OS1iY2E2LTgwMTUyN2IxYTUwOC8iLCJpYXQiOjE3Mjk4MjM4MzYsIm5iZiI6MTcyOTgyMzgzNiwiZXhwIjoxNzI5ODI4ODg4LCJhY2N0IjowLCJhY3IiOiIxIiwiYWlvIjoiQVZRQXEvOFlBQUFBRnZ2ZjRGMWVhNHVlSmR1aVFCSzNYdjBPeG42WW9DKzNncW9tWnpKYk1PTUpFN1pteTZEd05iY01YY3p0anZmeStiRlRicWc3cmY1VWVKOW91WjF5ejJ2OWUzazh3Nkt5ajN6MCtveVpvaUE9IiwiYW1yIjpbInB3ZCIsIm1mYSJdLCJhcHBpZCI6IjgwYzU4MWYzLTAyZDctNGJiZi1iMzcxLThhNjFiODA3NDBiYSIsImFwcGlkYWNyIjoiMSIsImZhbWlseV9uYW1lIjoiTEUiLCJnaXZlbl9uYW1lIjoiVFkiLCJpZHR5cCI6InVzZXIiLCJpcGFkZHIiOiIxMTMuMTYxLjM5LjE0MyIsIm5hbWUiOiJUWSBMRSIsIm9pZCI6ImRjOGU0MjBmLWIwNDYtNGFhMy1hNzVjLWNiMmI0OTY1YmIzYyIsInB1aWQiOiIxMDAzMjAwM0IyRTc4RkQyIiwicmgiOiIwLkFjWUFsRW5XWE1Ca1dVeThwb0FWSjdHbENBa0FBQUFBQUFBQXdBQUFBQUFBQUFER0FLMC4iLCJzY3AiOiJPbmVMYWtlLlJlYWRXcml0ZS5BbGwiLCJzaWduaW5fc3RhdGUiOlsia21zaSJdLCJzdWIiOiJTTWdFV0RhMlozNW5uMkNNWTdqRGNUVWRYZ1hYc0w1cmJyMUJWUEVNbjBnIiwidGlkIjoiNWNkNjQ5OTQtNjRjMC00YzU5LWJjYTYtODAxNTI3YjFhNTA4IiwidW5pcXVlX25hbWUiOiJ0eS5sZUBkYXRhdmVyc2UuY29tLnZuIiwidXBuIjoidHkubGVAZGF0YXZlcnNlLmNvbS52biIsInV0aSI6Ijk3dThkZlNyMEVHcnZ3ZU9fNnE2QUEiLCJ2ZXIiOiIxLjAiLCJ3aWRzIjpbIjYyZTkwMzk0LTY5ZjUtNDIzNy05MTkwLTAxMjE3NzE0NWUxMCIsImI3OWZiZjRkLTNlZjktNDY4OS04MTQzLTc2YjE5NGU4NTUwOSJdLCJ4bXNfaWRyZWwiOiIxMiAxIiwieG1zX3BsIjoiZW4ifQ.PuCSGqKt2-mrOI-FXd4j1rWzYDY3jtH-mZb5P85F69Um9A_avjPkmTu3mrjhuK9tvfrLKTyHez9dWNF5-6WDYIzQpyc00GwGsv94A9dzpK9dsoVIiOCh0B6nXLrTvA_inhfu7rsigjD8WGewTc4BssOQ1IJ8KXcYFz1AdWVozLPSHZhpZ8cnj-DqhNB3xgxqwSSbFM-D-CDhkK2HztOX11X-mr8Y9uJrjb-zF1OD-gr_sO0As_DW8KcNYp7E2C594yMJG7ViGwMhhA9fLVfEYFgcGNVC4rW8XPXuReHEowY-J7qe70EqcN3vvKWqRQef86zJCO1n5t4Bqw6VNOeHiA'"
      ]
     },
     "execution_count": 87,
     "metadata": {},
     "output_type": "execute_result"
    }
   ],
   "source": [
    "get_token()"
   ]
  },
  {
   "cell_type": "code",
   "execution_count": 80,
   "metadata": {},
   "outputs": [],
   "source": [
    "set_state('refresh_token',refresh_token)"
   ]
  },
  {
   "cell_type": "code",
   "execution_count": 79,
   "metadata": {},
   "outputs": [
    {
     "data": {
      "text/plain": [
       "'0.AcYAlEnWXMBkWUy8poAVJ7GlCPOBxYDXAr9Ls3GKYbgHQLrGAK0.AgABAwEAAADW6jl31mB3T7ugrWTT8pFeAwDs_wUA9P_0QfZbhU-by8FtYhWmmgS4rYn75naP73-DC_EBmCnL9Ss-pfRQXfMsYQ3m0CNCXC7sRgqtStWqBN_NoecilIiSuIkUglLqt9UyXZ7Rx9kiRDwwq3mUqU7EUzn1ZgGFOKhCUVRh_wBSDf-IvD1ui5XsUR36Ogk7MtURD3Cuf-Lo4hecUJ04xQMZMoJfGRRn_4x24ZDMfV7lQy19UQVIEJzMRoz37DCjkf-wPRJ20mrmwAvV4fyHu6ZYWhyx2VowybA6mO2SA0bidmce8H2CkCFzzJtRHpWppbgxlSgImrYVvarWSP-CUfJoBuwJAHp22pNIZY_TK9Fuvic-lwNk8E4K8NDZ1ew-GiHX3b5ccUxubvAeBAclaoJOVMfmrKmlf0EhGo9-nfbIntwHbYp9PdmLtSbKf-Qy1zIgBvHNtaoV9vfC4iz7j6oZcdLH2nHrOA8kLfWIZv4i2W4JRkOgOn6vzSxS0fTahOxZkOLAgaVeH0NKpnspPcDB05aCSMt0gRNC7ZS8aRKdNNwlTs848WqTex6JUxuW8Gk97xOXyn2ge2Siw0tNfYcfb3s2Ap7ysqYaQgzmZsYxlFe0QObv1_JUfZtui-pLHx8Zz51ju9N_v7mwddL95UYIAKBn5w_BilqVYo-zRG3b4o6xhZq73zKLGTChj7IacIZYD1VrIe1zNQHHG9hXMLIdexNla8wwgjEMhoNPbm4aw1VGwKVgzuNUU86QnJk78H1NqZTUcbg2jSLt_OPa2Xu7EGbG_K0_daoWvKR5VQdy'"
      ]
     },
     "execution_count": 79,
     "metadata": {},
     "output_type": "execute_result"
    }
   ],
   "source": [
    "refresh_token"
   ]
  },
  {
   "cell_type": "code",
   "execution_count": 76,
   "metadata": {},
   "outputs": [
    {
     "data": {
      "text/plain": [
       "'0.AcYAlEnWXMBkWUy8poAVJ7GlCPOBxYDXAr9Ls3GKYbgHQLrGAK0.AgABAwEAAADW6jl31mB3T7ugrWTT8pFeAwDs_wUA9P9oWTm30EoDYauCV_ICcOS-Ot-MGFHHF7GnHfH8sjILtrpG-q1-oK_8CweZY-ucRZgo9SX7A5C-w-QURN4lcMSGBSBovQlHq3FYLyBQMR1TtgAJf_5Al_mMiswQvXGIr2bsWIRUD0CwiuXuZkkEwlTvVc3vsVyT4ejpRRVxVPpl36LCjyYqdPdW_-IYYJZ744LpNpWiOmUH8rOTASjIwdvunZxzqdIUm_-nArvkY4vYmfDtYQfjmDmcCuU4yhzELKGk8IVZ01Lq0neJxIrLy81ePjD7nY5SoznSQtREhfeSOZZ0Dp2jxveHdZ_DQ9WHnHGfOsnTPlYj44UZoqo1N2VElaAbmkEHTOyBB8kiIOtV2OTXaFhwZgbtPVCg8eP4NZk09xTdxOGajZr12_Eq-z42sWPx6_PdeWimrTclgrV7UkklEV3kXhyqM8Gr4KZA_c8HTWZTehUjLtpDHa_gB9g1Nq6fxwbqV8gyvfwwt917U0GBH4V3fWmx6az0O81qGA7wp-vlBzJncSKujJJ-Cq2XRbI4vTpXSkDMgNfzRtNlZBlzF_d2HD1spLjseRfir9Vdm4larvVltXXy28RFoJCp2VGF7JylEt6TAl6KYSkIep2NVHb_TTPjLtn5tzvj8oVtr7y_m1preo-eBIi23o-Rkb_omCe6UB8jhOK4AWY_3BdPJ72oV34OJ6p-Qwczly203OXg34bqoFl-GZ0SrhDYsbu10Sgal4HyuWr6ZuQzdspPEhiL1qieDTCvuVQfc1IES5icGJ2T'"
      ]
     },
     "execution_count": 76,
     "metadata": {},
     "output_type": "execute_result"
    }
   ],
   "source": [
    "config['refresh_token']"
   ]
  },
  {
   "cell_type": "code",
   "execution_count": 17,
   "metadata": {},
   "outputs": [
    {
     "name": "stdout",
     "output_type": "stream",
     "text": [
      "{\n",
      "  \"status_code\": 403,\n",
      "  \"response\": {\n",
      "    \"requestId\": \"05797f22-cd50-402b-858f-692e21202a27\",\n",
      "    \"errorCode\": \"InsufficientPrivileges\",\n",
      "    \"moreDetails\": [\n",
      "      {\n",
      "        \"errorCode\": \"Forbidden\",\n",
      "        \"message\": \"User is not authorized to perform current operation for workspace 'bed78b83-ac16-4adc-a65a-257c9b99a3f6', item 'c19671a8-29e7-4ed2-8570-78541d714684'.\"\n",
      "      }\n",
      "    ],\n",
      "    \"message\": \"The caller does not have sufficient permissions to access the requested resource\"\n",
      "  },\n",
      "  \"headers\": {\n",
      "    \"Cache-Control\": \"no-store, must-revalidate, no-cache\",\n",
      "    \"Pragma\": \"no-cache\",\n",
      "    \"Transfer-Encoding\": \"chunked\",\n",
      "    \"Content-Type\": \"application/json; charset=utf-8\",\n",
      "    \"x-ms-public-api-error-code\": \"InsufficientPrivileges\",\n",
      "    \"Strict-Transport-Security\": \"max-age=31536000; includeSubDomains\",\n",
      "    \"X-Frame-Options\": \"deny\",\n",
      "    \"X-Content-Type-Options\": \"nosniff\",\n",
      "    \"RequestId\": \"05797f22-cd50-402b-858f-692e21202a27\",\n",
      "    \"Access-Control-Expose-Headers\": \"RequestId\",\n",
      "    \"request-redirected\": \"true\",\n",
      "    \"home-cluster-uri\": \"https://wabi-south-east-asia-c-primary-redirect.analysis.windows.net/\",\n",
      "    \"Date\": \"Thu, 24 Oct 2024 08:15:48 GMT\"\n",
      "  }\n",
      "}\n"
     ]
    }
   ],
   "source": [
    "method = \"post\"\n",
    "shortcut_conflict_policy = \"GenerateUniqueName\"\n",
    "uri = f\"workspaces/{workspace_id}/items/{lakehouse_id}/shortcuts?shortcutConflictPolicy={shortcut_conflict_policy}\"\n",
    "\n",
    "ws_from = 'bed78b83-ac16-4adc-a65a-257c9b99a3f6'\n",
    "lk_from = '76dfbe3f-19e2-4221-a465-d3458852309c'\n",
    "\n",
    "payload = {\n",
    "  \"path\": \"Tables\",\n",
    "  \"name\": \"onelake_tables_sc\",\n",
    "  \"target\": {\n",
    "     \"oneLake\": {\n",
    "      \"workspaceId\": ws_from,\n",
    "      \"itemId\": lk_from,\n",
    "      \"path\": \"Tables/test2\"\n",
    "      }\n",
    "  }\n",
    "}\n",
    "\n",
    "invoke_fabric_api_request(method, uri, payload)"
   ]
  },
  {
   "cell_type": "code",
   "execution_count": 6,
   "metadata": {},
   "outputs": [],
   "source": [
    "workspace_name = 'dev-test-gj'"
   ]
  },
  {
   "cell_type": "code",
   "execution_count": 7,
   "metadata": {},
   "outputs": [],
   "source": [
    "pbi_api = 'https://analysis.windows.net/powerbi/api/.default'"
   ]
  },
  {
   "cell_type": "code",
   "execution_count": 8,
   "metadata": {},
   "outputs": [],
   "source": [
    "auth = ClientSecretCredential(authority = 'https://login.microsoftonline.com/',\n",
    "                                            tenant_id = tenant_id,\n",
    "                                            client_id = client_id,\n",
    "                                            client_secret = client_secret)\n",
    "access_token = auth.get_token(pbi_api)\n",
    "access_token = access_token.token"
   ]
  },
  {
   "cell_type": "code",
   "execution_count": 10,
   "metadata": {},
   "outputs": [],
   "source": [
    "base_url = 'https://api.powerbi.com/v1.0/myorg/'\n",
    "header = {'Authorization': f'Bearer {access_token}',\n",
    "          'Content-Type': 'application/json'}"
   ]
  },
  {
   "cell_type": "code",
   "execution_count": 11,
   "metadata": {},
   "outputs": [],
   "source": [
    "pbi = pbipy.PowerBI(access_token)"
   ]
  },
  {
   "cell_type": "code",
   "execution_count": 12,
   "metadata": {},
   "outputs": [],
   "source": [
    "admin = pbi.admin()"
   ]
  },
  {
   "cell_type": "code",
   "execution_count": 13,
   "metadata": {},
   "outputs": [],
   "source": [
    "def check_workspace_exists(df, workspace_name):\n",
    "    existing_name = set(df['name'].values)\n",
    "    result = workspace_name in existing_name\n",
    "    return result"
   ]
  },
  {
   "cell_type": "code",
   "execution_count": 14,
   "metadata": {},
   "outputs": [],
   "source": [
    "workspace_tenant = admin.groups()"
   ]
  },
  {
   "cell_type": "code",
   "execution_count": 16,
   "metadata": {},
   "outputs": [],
   "source": [
    "data = [{'Group id': ws.id, 'name': ws.name} for ws in workspace_tenant]"
   ]
  },
  {
   "cell_type": "code",
   "execution_count": 18,
   "metadata": {},
   "outputs": [],
   "source": [
    "df_workspace = pd.DataFrame(data)"
   ]
  },
  {
   "cell_type": "code",
   "execution_count": 20,
   "metadata": {},
   "outputs": [],
   "source": [
    "workspace_check_existence = check_workspace_exists(df_workspace, workspace_name)"
   ]
  },
  {
   "cell_type": "code",
   "execution_count": null,
   "metadata": {},
   "outputs": [],
   "source": [
    "if not workspace_check_existence:\n",
    "    # Create DEV workspace\n",
    "    workspace_dev = pbi.create_group(name = workspace_name)\n",
    "    print(f\"Workspace '{workspace_dev.name}' created.\")\n",
    "    # Create TEST workspace\n",
    "    workspace_test = pbi.create_group(name = workspace_name.replace('dev', 'test'))\n",
    "    print(f\"Workspace '{workspace_test.name}' created.\")\n",
    "    # Create PROD workspace\n",
    "    workspace_prod = pbi.create_group(name = workspace_name.replace('dev', 'prod'))\n",
    "    print(f\"Workspace '{workspace_prod.name}' created.\")\n",
    "else:\n",
    "    print(f\"A workspace with the name '{workspace_name}' already exists\")"
   ]
  },
  {
   "cell_type": "code",
   "execution_count": null,
   "metadata": {},
   "outputs": [],
   "source": []
  }
 ],
 "metadata": {
  "kernelspec": {
   "display_name": ".venv",
   "language": "python",
   "name": "python3"
  },
  "language_info": {
   "codemirror_mode": {
    "name": "ipython",
    "version": 3
   },
   "file_extension": ".py",
   "mimetype": "text/x-python",
   "name": "python",
   "nbconvert_exporter": "python",
   "pygments_lexer": "ipython3",
   "version": "3.10.14"
  }
 },
 "nbformat": 4,
 "nbformat_minor": 2
}
