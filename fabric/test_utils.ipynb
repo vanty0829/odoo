{
 "cells": [
  {
   "cell_type": "code",
   "execution_count": 1,
   "metadata": {},
   "outputs": [],
   "source": [
    "from utils import *"
   ]
  },
  {
   "cell_type": "code",
   "execution_count": 2,
   "metadata": {},
   "outputs": [
    {
     "data": {
      "text/plain": [
       "'{\\n  \"status_code\": 201,\\n  \"response\": {\\n    \"name\": \"test\",\\n    \"path\": \"Tables/bronze\",\\n    \"target\": {\\n      \"type\": \"OneLake\",\\n      \"oneLake\": {\\n        \"itemId\": \"76dfbe3f-19e2-4221-a465-d3458852309c\",\\n        \"path\": \"Tables/test\",\\n        \"workspaceId\": \"bed78b83-ac16-4adc-a65a-257c9b99a3f6\"\\n      }\\n    }\\n  },\\n  \"headers\": {\\n    \"Cache-Control\": \"no-store, must-revalidate, no-cache\",\\n    \"Pragma\": \"no-cache\",\\n    \"Content-Length\": \"192\",\\n    \"Content-Type\": \"application/json; charset=utf-8\",\\n    \"Content-Encoding\": \"gzip\",\\n    \"Location\": \"https://api.fabric.microsoft.com/v1/workspaces/43a7864f-f922-4db4-8a1a-5ac1d583368f/items/c8eb7e85-9492-4e2a-862e-e38e5a535468/shortcuts/Tables/bronze/test\",\\n    \"Access-Control-Allow-Origin\": \"*\",\\n    \"Access-Control-Allow-Headers\": \"*\",\\n    \"Access-Control-Allow-Methods\": \"*\",\\n    \"Access-Control-Expose-Headers\": \"*,Authorization, RequestId,Location\",\\n    \"Strict-Transport-Security\": \"max-age=31536000; includeSubDomains, max-age=31536000; includeSubDomains\",\\n    \"X-Content-Type-Options\": \"nosniff, nosniff\",\\n    \"x-ms-root-activity-id\": \"bf058696-99f0-4c68-a09d-2f26aaddce49\",\\n    \"X-Frame-Options\": \"deny\",\\n    \"RequestId\": \"9efd6f9c-be7c-4d14-9f4d-bb2d57cd3594\",\\n    \"request-redirected\": \"true\",\\n    \"home-cluster-uri\": \"https://wabi-south-east-asia-c-primary-redirect.analysis.windows.net/\",\\n    \"Date\": \"Fri, 25 Oct 2024 03:26:26 GMT\"\\n  }\\n}'"
      ]
     },
     "execution_count": 2,
     "metadata": {},
     "output_type": "execute_result"
    }
   ],
   "source": [
    "fabric_create_shortcut(\n",
    "    from_ws='bed78b83-ac16-4adc-a65a-257c9b99a3f6',\n",
    "    from_lk='76dfbe3f-19e2-4221-a465-d3458852309c',\n",
    "    from_path='Tables/test',\n",
    "    to_ws='43a7864f-f922-4db4-8a1a-5ac1d583368f',\n",
    "    to_lk='c8eb7e85-9492-4e2a-862e-e38e5a535468',\n",
    "    to_path='Tables/bronze',\n",
    "    name='test'\n",
    ")"
   ]
  },
  {
   "cell_type": "code",
   "execution_count": 5,
   "metadata": {},
   "outputs": [],
   "source": [
    "import struct\n",
    "from itertools import chain, repeat\n",
    "\n",
    "import pyodbc"
   ]
  },
  {
   "cell_type": "code",
   "execution_count": 10,
   "metadata": {},
   "outputs": [],
   "source": [
    "sql_endpoint = \"sre5mxgamrmuzpfgqakspmnfba-qof5ppqwvtoevjs2ev6jxgnd6y.datawarehouse.fabric.microsoft.com\" # copy and paste the SQL endpoint from any of the Lakehouses or Warehouses in your Fabric Workspace\n",
    "database = \"lake1\" # copy and paste the name of the Lakehouse or Warehouse you want to connect to\n",
    "\n",
    "connection_string = f\"Driver={{ODBC Driver 17 for SQL Server}};Server={sql_endpoint},1433;Database=f{database};Encrypt=Yes;TrustServerCertificate=No\"\n",
    "\n",
    "token_as_bytes = bytes(get_token(), \"UTF-8\") # Convert the token to a UTF-8 byte string\n",
    "encoded_bytes = bytes(chain.from_iterable(zip(token_as_bytes, repeat(0)))) # Encode the bytes to a Windows byte string\n",
    "token_bytes = struct.pack(\"<i\", len(encoded_bytes)) + encoded_bytes # Package the token into a bytes object\n",
    "attrs_before = {1256: token_bytes} "
   ]
  },
  {
   "cell_type": "code",
   "execution_count": 11,
   "metadata": {},
   "outputs": [
    {
     "ename": "InterfaceError",
     "evalue": "('28000', '[28000] [Microsoft][ODBC Driver 17 for SQL Server][SQL Server]Login failed due to invalid authentication methods. (18456) (SQLDriverConnect); [28000] [Microsoft][ODBC Driver 17 for SQL Server][SQL Server]Login failed due to invalid authentication methods. (18456)')",
     "output_type": "error",
     "traceback": [
      "\u001b[1;31m---------------------------------------------------------------------------\u001b[0m",
      "\u001b[1;31mInterfaceError\u001b[0m                            Traceback (most recent call last)",
      "Cell \u001b[1;32mIn[11], line 1\u001b[0m\n\u001b[1;32m----> 1\u001b[0m connection \u001b[38;5;241m=\u001b[39m \u001b[43mpyodbc\u001b[49m\u001b[38;5;241;43m.\u001b[39;49m\u001b[43mconnect\u001b[49m\u001b[43m(\u001b[49m\u001b[43mconnection_string\u001b[49m\u001b[43m,\u001b[49m\u001b[43m \u001b[49m\u001b[43mattrs_before\u001b[49m\u001b[38;5;241;43m=\u001b[39;49m\u001b[43mattrs_before\u001b[49m\u001b[43m)\u001b[49m\n",
      "\u001b[1;31mInterfaceError\u001b[0m: ('28000', '[28000] [Microsoft][ODBC Driver 17 for SQL Server][SQL Server]Login failed due to invalid authentication methods. (18456) (SQLDriverConnect); [28000] [Microsoft][ODBC Driver 17 for SQL Server][SQL Server]Login failed due to invalid authentication methods. (18456)')"
     ]
    }
   ],
   "source": [
    "connection = pyodbc.connect(connection_string, attrs_before=attrs_before)"
   ]
  },
  {
   "cell_type": "code",
   "execution_count": null,
   "metadata": {},
   "outputs": [],
   "source": []
  }
 ],
 "metadata": {
  "kernelspec": {
   "display_name": ".venv",
   "language": "python",
   "name": "python3"
  },
  "language_info": {
   "codemirror_mode": {
    "name": "ipython",
    "version": 3
   },
   "file_extension": ".py",
   "mimetype": "text/x-python",
   "name": "python",
   "nbconvert_exporter": "python",
   "pygments_lexer": "ipython3",
   "version": "3.10.14"
  }
 },
 "nbformat": 4,
 "nbformat_minor": 2
}
